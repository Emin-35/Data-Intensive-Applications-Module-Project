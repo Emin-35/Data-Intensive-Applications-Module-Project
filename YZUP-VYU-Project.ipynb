{
 "cells": [
  {
   "cell_type": "markdown",
   "id": "bafb600a-49b3-48b1-aba8-7dac7aabe956",
   "metadata": {},
   "source": [
    "# Veri Toplama\n",
    "- yfinance, investpy, quandl gibi kütüphaneler kullanılarak, 2005-01-01 tarihinden\n",
    "itibaren aylık getirilere sahip hisse senetleri ve sektör verileri toplanacak.\n",
    "- Web scraping ile sektörlerin ve hisse senetlerinin listesi çekilecek."
   ]
  },
  {
   "cell_type": "code",
   "execution_count": 57,
   "id": "cb67a70e-1a6b-4f9c-8613-9cbc08ca9ea0",
   "metadata": {
    "scrolled": true
   },
   "outputs": [],
   "source": [
    "#!pip install yfinance\n",
    "#!pip install scipy==1.14.0\n",
    "#!pip install --upgrade tsfresh"
   ]
  },
  {
   "cell_type": "code",
   "execution_count": 59,
   "id": "06ecb3e0-7146-4f0e-acc4-2e47751cd3c0",
   "metadata": {},
   "outputs": [],
   "source": [
    "# Veri Çekme ve İşleme\n",
    "import yfinance as yf\n",
    "import pandas as pd\n",
    "import requests\n",
    "from io import StringIO\n",
    "\n",
    "# Web Scraping\n",
    "from bs4 import BeautifulSoup\n",
    "\n",
    "# Veri Görselleştirme\n",
    "import matplotlib.pyplot as plt\n",
    "import numpy as np\n",
    "\n",
    "%matplotlib inline"
   ]
  },
  {
   "cell_type": "code",
   "execution_count": 66,
   "id": "b87eebd6-fe60-415d-8587-d264486e6b51",
   "metadata": {},
   "outputs": [],
   "source": [
    "def fetch_sectors_names():\n",
    "    url = \"https://stockanalysis.com/stocks/industry/sectors/\"\n",
    "    response = requests.get(url)\n",
    "    \n",
    "    if response.status_code == 200:\n",
    "        soup = BeautifulSoup(response.content, \"html.parser\")\n",
    "        df=pd.read_html(StringIO(str(soup.find_all(\"table\"))))[0]\n",
    "        \n",
    "    else:\n",
    "        print(f\"Error: Failed to fetch data from page {url}\")\n",
    "        \n",
    "    return df\n",
    "\n",
    "def fetch_industry_names():\n",
    "    url = \"https://stockanalysis.com/stocks/industry/all/\"\n",
    "    response = requests.get(url)\n",
    "    \n",
    "    if response.status_code == 200:\n",
    "        soup = BeautifulSoup(response.content, \"html.parser\")\n",
    "        df=pd.read_html(StringIO(str(soup.find_all(\"table\"))))[0]\n",
    "        \n",
    "    else:\n",
    "        print(f\"Error: Failed to fetch data from page {url}\")\n",
    "        \n",
    "    return df\n",
    "    \n",
    "def fetch_data(sectors):\n",
    "    url = f\"https://stockanalysis.com/stocks/sector/{sectors}/\"\n",
    "    response = requests.get(url)\n",
    "    \n",
    "    if response.status_code == 200:\n",
    "        soup = BeautifulSoup(response.content, \"html.parser\")\n",
    "        df=pd.read_html(StringIO(str(soup.find_all(\"table\"))))[0]\n",
    "        df.drop(columns='No.', inplace=True)\n",
    "        \n",
    "    else:\n",
    "        print(f\"Error: Failed to fetch data from page {url}\")\n",
    "        \n",
    "    return df"
   ]
  },
  {
   "cell_type": "code",
   "execution_count": 8,
   "id": "781aedbf-fdfe-419d-9ae5-2f7eb40e6690",
   "metadata": {},
   "outputs": [],
   "source": [
    "sectors=fetch_sectors_names()\n",
    "indusrty=fetch_industry_names()"
   ]
  },
  {
   "cell_type": "code",
   "execution_count": 10,
   "id": "0a2ee056-5f72-4be7-ae88-4048081959d4",
   "metadata": {},
   "outputs": [
    {
     "data": {
      "text/html": [
       "<div>\n",
       "<style scoped>\n",
       "    .dataframe tbody tr th:only-of-type {\n",
       "        vertical-align: middle;\n",
       "    }\n",
       "\n",
       "    .dataframe tbody tr th {\n",
       "        vertical-align: top;\n",
       "    }\n",
       "\n",
       "    .dataframe thead th {\n",
       "        text-align: right;\n",
       "    }\n",
       "</style>\n",
       "<table border=\"1\" class=\"dataframe\">\n",
       "  <thead>\n",
       "    <tr style=\"text-align: right;\">\n",
       "      <th></th>\n",
       "      <th>Sector Name</th>\n",
       "      <th>Stocks</th>\n",
       "      <th>Market Cap</th>\n",
       "      <th>Div. Yield</th>\n",
       "      <th>PE Ratio</th>\n",
       "      <th>Profit Margin</th>\n",
       "      <th>1D Change</th>\n",
       "      <th>1Y Change</th>\n",
       "    </tr>\n",
       "  </thead>\n",
       "  <tbody>\n",
       "    <tr>\n",
       "      <th>0</th>\n",
       "      <td>Financials</td>\n",
       "      <td>1272</td>\n",
       "      <td>11.96T</td>\n",
       "      <td>0.17%</td>\n",
       "      <td>15.88</td>\n",
       "      <td>19.97%</td>\n",
       "      <td>-0.56%</td>\n",
       "      <td>37.57%</td>\n",
       "    </tr>\n",
       "    <tr>\n",
       "      <th>1</th>\n",
       "      <td>Healthcare</td>\n",
       "      <td>1157</td>\n",
       "      <td>8,050.42B</td>\n",
       "      <td>0.51%</td>\n",
       "      <td>59.35</td>\n",
       "      <td>3.19%</td>\n",
       "      <td>-0.64%</td>\n",
       "      <td>10.10%</td>\n",
       "    </tr>\n",
       "    <tr>\n",
       "      <th>2</th>\n",
       "      <td>Technology</td>\n",
       "      <td>769</td>\n",
       "      <td>21.51T</td>\n",
       "      <td>0.49%</td>\n",
       "      <td>45.77</td>\n",
       "      <td>14.62%</td>\n",
       "      <td>-1.02%</td>\n",
       "      <td>48.02%</td>\n",
       "    </tr>\n",
       "    <tr>\n",
       "      <th>3</th>\n",
       "      <td>Industrials</td>\n",
       "      <td>661</td>\n",
       "      <td>5,902.02B</td>\n",
       "      <td>1.19%</td>\n",
       "      <td>29.37</td>\n",
       "      <td>7.25%</td>\n",
       "      <td>-0.60%</td>\n",
       "      <td>26.47%</td>\n",
       "    </tr>\n",
       "    <tr>\n",
       "      <th>4</th>\n",
       "      <td>Consumer Discretionary</td>\n",
       "      <td>561</td>\n",
       "      <td>8,772.75B</td>\n",
       "      <td>0.75%</td>\n",
       "      <td>29.42</td>\n",
       "      <td>6.51%</td>\n",
       "      <td>-2.14%</td>\n",
       "      <td>38.69%</td>\n",
       "    </tr>\n",
       "    <tr>\n",
       "      <th>5</th>\n",
       "      <td>Materials</td>\n",
       "      <td>266</td>\n",
       "      <td>2,035.83B</td>\n",
       "      <td>1.71%</td>\n",
       "      <td>27.95</td>\n",
       "      <td>6.33%</td>\n",
       "      <td>-1.00%</td>\n",
       "      <td>13.76%</td>\n",
       "    </tr>\n",
       "    <tr>\n",
       "      <th>6</th>\n",
       "      <td>Real Estate</td>\n",
       "      <td>263</td>\n",
       "      <td>1,675.38B</td>\n",
       "      <td>3.78%</td>\n",
       "      <td>49.20</td>\n",
       "      <td>9.51%</td>\n",
       "      <td>-0.40%</td>\n",
       "      <td>13.67%</td>\n",
       "    </tr>\n",
       "    <tr>\n",
       "      <th>7</th>\n",
       "      <td>Energy</td>\n",
       "      <td>251</td>\n",
       "      <td>3,613.08B</td>\n",
       "      <td>3.18%</td>\n",
       "      <td>13.25</td>\n",
       "      <td>8.18%</td>\n",
       "      <td>-0.05%</td>\n",
       "      <td>12.47%</td>\n",
       "    </tr>\n",
       "    <tr>\n",
       "      <th>8</th>\n",
       "      <td>Communication Services</td>\n",
       "      <td>245</td>\n",
       "      <td>6,456.13B</td>\n",
       "      <td>1.46%</td>\n",
       "      <td>33.37</td>\n",
       "      <td>11.59%</td>\n",
       "      <td>-1.02%</td>\n",
       "      <td>40.95%</td>\n",
       "    </tr>\n",
       "    <tr>\n",
       "      <th>9</th>\n",
       "      <td>Consumer Staples</td>\n",
       "      <td>242</td>\n",
       "      <td>4,229.57B</td>\n",
       "      <td>1.53%</td>\n",
       "      <td>29.62</td>\n",
       "      <td>4.90%</td>\n",
       "      <td>-0.38%</td>\n",
       "      <td>26.62%</td>\n",
       "    </tr>\n",
       "    <tr>\n",
       "      <th>10</th>\n",
       "      <td>Utilities</td>\n",
       "      <td>109</td>\n",
       "      <td>1,642.05B</td>\n",
       "      <td>2.74%</td>\n",
       "      <td>21.42</td>\n",
       "      <td>10.62%</td>\n",
       "      <td>-0.22%</td>\n",
       "      <td>37.92%</td>\n",
       "    </tr>\n",
       "  </tbody>\n",
       "</table>\n",
       "</div>"
      ],
      "text/plain": [
       "               Sector Name  Stocks Market Cap Div. Yield  PE Ratio  \\\n",
       "0               Financials    1272     11.96T      0.17%     15.88   \n",
       "1               Healthcare    1157  8,050.42B      0.51%     59.35   \n",
       "2               Technology     769     21.51T      0.49%     45.77   \n",
       "3              Industrials     661  5,902.02B      1.19%     29.37   \n",
       "4   Consumer Discretionary     561  8,772.75B      0.75%     29.42   \n",
       "5                Materials     266  2,035.83B      1.71%     27.95   \n",
       "6              Real Estate     263  1,675.38B      3.78%     49.20   \n",
       "7                   Energy     251  3,613.08B      3.18%     13.25   \n",
       "8   Communication Services     245  6,456.13B      1.46%     33.37   \n",
       "9         Consumer Staples     242  4,229.57B      1.53%     29.62   \n",
       "10               Utilities     109  1,642.05B      2.74%     21.42   \n",
       "\n",
       "   Profit Margin 1D Change 1Y Change  \n",
       "0         19.97%    -0.56%    37.57%  \n",
       "1          3.19%    -0.64%    10.10%  \n",
       "2         14.62%    -1.02%    48.02%  \n",
       "3          7.25%    -0.60%    26.47%  \n",
       "4          6.51%    -2.14%    38.69%  \n",
       "5          6.33%    -1.00%    13.76%  \n",
       "6          9.51%    -0.40%    13.67%  \n",
       "7          8.18%    -0.05%    12.47%  \n",
       "8         11.59%    -1.02%    40.95%  \n",
       "9          4.90%    -0.38%    26.62%  \n",
       "10        10.62%    -0.22%    37.92%  "
      ]
     },
     "execution_count": 10,
     "metadata": {},
     "output_type": "execute_result"
    }
   ],
   "source": [
    "sectors"
   ]
  },
  {
   "cell_type": "code",
   "execution_count": 12,
   "id": "42fe9012-dc13-446b-81f1-42431ef88060",
   "metadata": {},
   "outputs": [],
   "source": [
    "# Çektiğim verileri, data klasörü içerisinde tutuyorum\n",
    "#mkdir ..\\data\\stock_sectors"
   ]
  },
  {
   "cell_type": "code",
   "execution_count": 68,
   "id": "5f7e9df8-7387-4959-b740-4782a5f1da76",
   "metadata": {},
   "outputs": [],
   "source": [
    "fetch_data(sectors='energy').to_csv('../data/stock_sectors/energy.csv')\n",
    "\n",
    "fetch_data(sectors='financials').to_csv('../data/stock_sectors/financials.csv')\n",
    "\n",
    "fetch_data(sectors='healthcare').to_csv('../data/stock_sectors/healthcare.csv')\n",
    "\n",
    "fetch_data(sectors='technology').to_csv('../data/stock_sectors/technology.csv')\n",
    "\n",
    "fetch_data(sectors='utilities').to_csv('../data/stock_sectors/utilities.csv')\n",
    "\n",
    "fetch_data(sectors='real-estate').to_csv('../data/stock_sectors/real-estate.csv')\n",
    "\n",
    "fetch_data(sectors='materials').to_csv('../data/stock_sectors/materials.csv')\n",
    "\n",
    "fetch_data(sectors='industrials').to_csv('../data/stock_sectors/industrials.csv')\n",
    "\n",
    "fetch_data(sectors='consumer-staples').to_csv('../data/stock_sectors/consumer-staples.csv')\n",
    "\n",
    "fetch_data(sectors='consumer-discretionary').to_csv('../data/stock_sectors/consumer-discretionary.csv')\n",
    "\n",
    "fetch_data(sectors='communication-services').to_csv('../data/stock_sectors/communication-services.csv')"
   ]
  },
  {
   "cell_type": "markdown",
   "id": "d9d0e801-7276-4861-a156-946d75860d98",
   "metadata": {},
   "source": [
    "- Hangi sütunu baz alacağımı kararlaştırmak için sütun isimlerini yazdırdım\n",
    "- ['Open'] sütununu baz alacağım"
   ]
  },
  {
   "cell_type": "code",
   "execution_count": 16,
   "id": "f1d8b333-f284-465c-93ae-99e345d11e82",
   "metadata": {
    "scrolled": true
   },
   "outputs": [
    {
     "name": "stderr",
     "output_type": "stream",
     "text": [
      "[*********************100%***********************]  1 of 1 completed"
     ]
    },
    {
     "name": "stdout",
     "output_type": "stream",
     "text": [
      "MultiIndex([( 'Close', 'AAPL'),\n",
      "            (  'High', 'AAPL'),\n",
      "            (   'Low', 'AAPL'),\n",
      "            (  'Open', 'AAPL'),\n",
      "            ('Volume', 'AAPL')],\n",
      "           names=['Price', 'Ticker'])\n"
     ]
    },
    {
     "name": "stderr",
     "output_type": "stream",
     "text": [
      "\n"
     ]
    }
   ],
   "source": [
    "aapl_data = yf.download(\"AAPL\")\n",
    "print(aapl_data.columns)"
   ]
  },
  {
   "cell_type": "code",
   "execution_count": 19,
   "id": "9cb746be-446f-4170-b6b7-ad67053795b5",
   "metadata": {},
   "outputs": [
    {
     "data": {
      "text/html": [
       "<div>\n",
       "<style scoped>\n",
       "    .dataframe tbody tr th:only-of-type {\n",
       "        vertical-align: middle;\n",
       "    }\n",
       "\n",
       "    .dataframe tbody tr th {\n",
       "        vertical-align: top;\n",
       "    }\n",
       "\n",
       "    .dataframe thead tr th {\n",
       "        text-align: left;\n",
       "    }\n",
       "\n",
       "    .dataframe thead tr:last-of-type th {\n",
       "        text-align: right;\n",
       "    }\n",
       "</style>\n",
       "<table border=\"1\" class=\"dataframe\">\n",
       "  <thead>\n",
       "    <tr>\n",
       "      <th>Price</th>\n",
       "      <th>Close</th>\n",
       "      <th>High</th>\n",
       "      <th>Low</th>\n",
       "      <th>Open</th>\n",
       "      <th>Volume</th>\n",
       "    </tr>\n",
       "    <tr>\n",
       "      <th>Ticker</th>\n",
       "      <th>AAPL</th>\n",
       "      <th>AAPL</th>\n",
       "      <th>AAPL</th>\n",
       "      <th>AAPL</th>\n",
       "      <th>AAPL</th>\n",
       "    </tr>\n",
       "    <tr>\n",
       "      <th>Date</th>\n",
       "      <th></th>\n",
       "      <th></th>\n",
       "      <th></th>\n",
       "      <th></th>\n",
       "      <th></th>\n",
       "    </tr>\n",
       "  </thead>\n",
       "  <tbody>\n",
       "    <tr>\n",
       "      <th>1980-12-12</th>\n",
       "      <td>0.098834</td>\n",
       "      <td>0.099264</td>\n",
       "      <td>0.098834</td>\n",
       "      <td>0.098834</td>\n",
       "      <td>469033600</td>\n",
       "    </tr>\n",
       "    <tr>\n",
       "      <th>1980-12-15</th>\n",
       "      <td>0.093678</td>\n",
       "      <td>0.094108</td>\n",
       "      <td>0.093678</td>\n",
       "      <td>0.094108</td>\n",
       "      <td>175884800</td>\n",
       "    </tr>\n",
       "    <tr>\n",
       "      <th>1980-12-16</th>\n",
       "      <td>0.086802</td>\n",
       "      <td>0.087232</td>\n",
       "      <td>0.086802</td>\n",
       "      <td>0.087232</td>\n",
       "      <td>105728000</td>\n",
       "    </tr>\n",
       "    <tr>\n",
       "      <th>1980-12-17</th>\n",
       "      <td>0.088951</td>\n",
       "      <td>0.089381</td>\n",
       "      <td>0.088951</td>\n",
       "      <td>0.088951</td>\n",
       "      <td>86441600</td>\n",
       "    </tr>\n",
       "    <tr>\n",
       "      <th>1980-12-18</th>\n",
       "      <td>0.091530</td>\n",
       "      <td>0.091959</td>\n",
       "      <td>0.091530</td>\n",
       "      <td>0.091530</td>\n",
       "      <td>73449600</td>\n",
       "    </tr>\n",
       "  </tbody>\n",
       "</table>\n",
       "</div>"
      ],
      "text/plain": [
       "Price          Close      High       Low      Open     Volume\n",
       "Ticker          AAPL      AAPL      AAPL      AAPL       AAPL\n",
       "Date                                                         \n",
       "1980-12-12  0.098834  0.099264  0.098834  0.098834  469033600\n",
       "1980-12-15  0.093678  0.094108  0.093678  0.094108  175884800\n",
       "1980-12-16  0.086802  0.087232  0.086802  0.087232  105728000\n",
       "1980-12-17  0.088951  0.089381  0.088951  0.088951   86441600\n",
       "1980-12-18  0.091530  0.091959  0.091530  0.091530   73449600"
      ]
     },
     "execution_count": 19,
     "metadata": {},
     "output_type": "execute_result"
    }
   ],
   "source": [
    "aapl_data.head()"
   ]
  },
  {
   "cell_type": "code",
   "execution_count": 70,
   "id": "de7104ef-d0cb-42cd-bfcb-dd8806ebdc66",
   "metadata": {
    "scrolled": true
   },
   "outputs": [],
   "source": [
    "financials = pd.read_csv('../data/stock_sectors/financials.csv')\n",
    "healthcare = pd.read_csv('../data/stock_sectors/healthcare.csv')\n",
    "technology = pd.read_csv('../data/stock_sectors/technology.csv')"
   ]
  },
  {
   "cell_type": "markdown",
   "id": "ca5073e3-1f9f-4600-b268-39a88b2f84a8",
   "metadata": {},
   "source": [
    "# **Tarihsel Veri Filtreleme ve En Büyük Firmaları Seçme**\n",
    "    - Rastgele seçim yapmadan önce 2005 öncesi verisi olan hisseleri otomatik filtreledim\n",
    "    - En büyük 3 endüstriden (Sağlık, Finans ve Teknoloji) rastgele 500 tane firma seçtim\n",
    "    - Burada herhangi bir işlem yapmama gerek kalmadı çünkü zaten önceden hem boş sütunları temizledim hem de bütün veriyi 2005 tarihinden sonrası için ayarladım, kısacası sadece rastgele olarak firma seçmek kaldı"
   ]
  },
  {
   "cell_type": "code",
   "execution_count": 72,
   "id": "cb03b0ed-ffd0-4e4b-9489-52dbb73496e3",
   "metadata": {},
   "outputs": [
    {
     "data": {
      "text/plain": [
       "1800"
      ]
     },
     "execution_count": 72,
     "metadata": {},
     "output_type": "execute_result"
    }
   ],
   "source": [
    "# Geçerli semboller (NaN veya float olmayanları aldım)\n",
    "technology_tickers = technology['Symbol'].dropna().astype(str).tolist()\n",
    "financials_tickers = financials['Symbol'].dropna().tolist()\n",
    "healthcare_tickers = healthcare['Symbol'].dropna().tolist()\n",
    "\n",
    "# Her bir kategoriden EN BÜYÜK 600 şirket seçtim\n",
    "technology_biggest = technology_tickers[:600]\n",
    "financials_biggest = financials_tickers[:600]\n",
    "healthcare_biggest = healthcare_tickers[:600]\n",
    "\n",
    "# Tüm şirketleri birleştirdim\n",
    "all_biggest_tickers = technology_biggest + financials_biggest + healthcare_biggest\n",
    "\n",
    "len(all_biggest_tickers)"
   ]
  },
  {
   "cell_type": "code",
   "execution_count": 74,
   "id": "79251d49-e656-4e31-9b99-07d552f3eaea",
   "metadata": {},
   "outputs": [
    {
     "name": "stderr",
     "output_type": "stream",
     "text": [
      "[*********************100%***********************]  250 of 250 completed\n",
      "[*********************100%***********************]  250 of 250 completed\n",
      "[*********************100%***********************]  250 of 250 completed\n",
      "\n",
      "1 Failed download:\n",
      "['BRK.B']: YFTzMissingError('$%ticker%: possibly delisted; no timezone found')\n",
      "[*********************100%***********************]  250 of 250 completed\n",
      "\n",
      "1 Failed download:\n",
      "['AGM.A']: YFTzMissingError('$%ticker%: possibly delisted; no timezone found')\n",
      "[*********************100%***********************]  250 of 250 completed\n",
      "\n",
      "5 Failed downloads:\n",
      "['TDAC']: YFPricesMissingError('$%ticker%: possibly delisted; no price data found  (1d 2005-01-01 -> 2025-02-12)')\n",
      "['JACS.RT', 'CRD.B', 'KFII', 'CRD.A']: YFTzMissingError('$%ticker%: possibly delisted; no timezone found')\n",
      "[*********************100%***********************]  250 of 250 completed\n",
      "\n",
      "1 Failed download:\n",
      "['BIO.B']: YFPricesMissingError('$%ticker%: possibly delisted; no price data found  (1d 2005-01-01 -> 2025-02-12)')\n",
      "[*********************100%***********************]  250 of 250 completed\n",
      "[*********************100%***********************]  50 of 50 completed\n"
     ]
    }
   ],
   "source": [
    "import time\n",
    "\n",
    "# Semboller için listeyi 250'lik parçalara böldüm ki veri çekmesi kolay olsun\n",
    "chunks = [all_biggest_tickers[i:i+250] for i in range(0, len(all_biggest_tickers), 250)]\n",
    "\n",
    "# Veriyi parça parça çektim\n",
    "all_data = []\n",
    "for chunk in chunks:\n",
    "    try:\n",
    "        data = yf.download(chunk, start='2005-01-01')\n",
    "        all_data.append(data)\n",
    "        time.sleep(15)  # 15 saniye bekleme, API limitini aşmamak için\n",
    "    except yf.download.YFRateLimitError:\n",
    "        print(\"Rate limit exceeded. Retrying in 60 seconds...\")\n",
    "        time.sleep(60)"
   ]
  },
  {
   "cell_type": "markdown",
   "id": "09bf3818-5693-4217-b7d9-d3e5b3383405",
   "metadata": {},
   "source": [
    "```\n",
    "tickers = technology['Symbol'].tolist()\n",
    "\n",
    "# Verileri çek\n",
    "data = yf.download(tickers, start='2005-01-01')\n",
    "```\n",
    "\n",
    "`TypeError: expected string or bytes-like object, got 'float'. `\n",
    "- Bu hatayı aldığım için ``yfinance.download()`` fonksiyonu bir ``float`` değeri ile karşılaşıyor, fakat bu fonksiyon yalnızca ``string`` türündeki sembollerle çalışabilir. ``technology[Symbol]`` sütununda bazı ``NaN`` veya ``float`` değerleri mevcut. Bu nedenle hata veriyor\n",
    "    1. NaN değerlerini temizledim\n",
    "    2. Sadece string değerleri aldım\n",
    "- Ekstra olarak\n",
    "    - `YFRateLimitError('Too Many Requests. Rate limited. Try after a while.')` hatası nedeniyle aralıklı veri indirdim"
   ]
  },
  {
   "cell_type": "code",
   "execution_count": 82,
   "id": "df67377f-02c6-4670-8716-f1814b160386",
   "metadata": {},
   "outputs": [
    {
     "name": "stdout",
     "output_type": "stream",
     "text": [
      "Ticker          AAPL      ACIW        ACN       ADBE        ADI        ADP  \\\n",
      "Date                                                                         \n",
      "2005-01-31  0.974731  6.696667  19.106171  31.493821  23.208159  21.876524   \n",
      "2005-02-28  1.159356  7.026667  18.113641  28.444421  22.499747  21.432076   \n",
      "2005-03-31  1.353911  7.833333  18.134912  31.023913  23.340560  21.209859   \n",
      "2005-04-30  1.266639  7.760000  17.702448  33.910000  22.857036  22.277329   \n",
      "2005-05-31  1.089689  6.980000  15.348742  29.870001  21.419059  21.528960   \n",
      "\n",
      "Ticker           ADSK  AFRM  AI   AKAM  ...  SCPH  SLN  SLRN       STXS  THRD  \\\n",
      "Date                                    ...                                     \n",
      "2005-01-31  38.280256   NaN NaN  13.00  ...   NaN  NaN   NaN  91.240875   NaN   \n",
      "2005-02-28  29.144969   NaN NaN  13.10  ...   NaN  NaN   NaN  86.678833   NaN   \n",
      "2005-03-31  29.914572   NaN NaN  11.01  ...   NaN  NaN   NaN  86.678833   NaN   \n",
      "2005-04-30  29.690001   NaN NaN  12.72  ...   NaN  NaN   NaN  71.350365   NaN   \n",
      "2005-05-31  31.850000   NaN NaN  11.96  ...   NaN  NaN   NaN  64.598541   NaN   \n",
      "\n",
      "Ticker      TLSI       UTMD  VOR        VXRT  ZYBT  \n",
      "Date                                                \n",
      "2005-01-31   NaN  14.252260  NaN  867.110930   NaN  \n",
      "2005-02-28   NaN  12.933301  NaN  771.752428   NaN  \n",
      "2005-03-31   NaN  13.708426  NaN  759.906664   NaN  \n",
      "2005-04-30   NaN  13.306285  NaN  740.361116   NaN  \n",
      "2005-05-31   NaN  13.501401  NaN  647.963999   NaN  \n",
      "\n",
      "[5 rows x 1800 columns]\n"
     ]
    }
   ],
   "source": [
    "# Sonuçları birleştir\n",
    "final_data = pd.concat(all_data, axis=1)\n",
    "\n",
    "# \"Open\" fiyatlarını al\n",
    "data_open = final_data['Open']\n",
    "\n",
    "# Günlük verileri aylığa çeviriyoruz.\n",
    "data_open_monthly = data_open.resample('M').first()\n",
    "\n",
    "# Sonuç\n",
    "print(data_open_monthly.head())"
   ]
  },
  {
   "cell_type": "markdown",
   "id": "7722f952-b0d3-4fb0-8b5e-41ef6167912c",
   "metadata": {},
   "source": [
    "- 1800 şirket verisini küçük bir alan kaplaması için parquet veri tipinde sakladım ve gzip şekilden sıkıştırdım"
   ]
  },
  {
   "cell_type": "code",
   "execution_count": 96,
   "id": "34e01b9e-3953-4205-b58c-3cccec819bae",
   "metadata": {},
   "outputs": [],
   "source": [
    "data_open_monthly.to_parquet(\"../data/processed_data/1800_company_data.gzip\", compression=\"gzip\")"
   ]
  },
  {
   "cell_type": "code",
   "execution_count": 94,
   "id": "5eb6b8d3-4658-4c10-a4b6-8988990a87ba",
   "metadata": {},
   "outputs": [
    {
     "data": {
      "text/plain": [
       "Index(['AAPL', 'ACIW', 'ACN', 'ADBE', 'ADI', 'ADP', 'ADSK', 'AFRM', 'AI',\n",
       "       'AKAM',\n",
       "       ...\n",
       "       'SCPH', 'SLN', 'SLRN', 'STXS', 'THRD', 'TLSI', 'UTMD', 'VOR', 'VXRT',\n",
       "       'ZYBT'],\n",
       "      dtype='object', name='Ticker', length=1800)"
      ]
     },
     "execution_count": 94,
     "metadata": {},
     "output_type": "execute_result"
    }
   ],
   "source": [
    "data_open_monthly.columns"
   ]
  },
  {
   "cell_type": "code",
   "execution_count": 107,
   "id": "3d14cce2-6ece-4b15-b8aa-9abd9bd25c3e",
   "metadata": {},
   "outputs": [
    {
     "data": {
      "text/plain": [
       "<Axes: xlabel='Date'>"
      ]
     },
     "execution_count": 107,
     "metadata": {},
     "output_type": "execute_result"
    },
    {
     "data": {
      "image/png": "[encoded data removed]",
      "text/plain": [
       "<Figure size 1600x400 with 1 Axes>"
      ]
     },
     "metadata": {},
     "output_type": "display_data"
    }
   ],
   "source": [
    "# Şirket isimlerini belirleyin\n",
    "companies = ['VREX', 'XERS', 'ZBIO', 'ZIMV', 'TBPH']\n",
    "\n",
    "# Veriyi sadece istenen şirketlere göre filtrele\n",
    "data_open_monthly_filtered = data_open_monthly[companies]\n",
    "\n",
    "data_open_monthly_filtered.plot(kind='line',figsize=(16,4),logy=True)"
   ]
  },
  {
   "cell_type": "markdown",
   "id": "4199a3ee-7b73-4932-8583-c506e7c776e7",
   "metadata": {},
   "source": [
    "### **Hangi Durumda Eksik Verileri Doldurmak Mantıklı?**  \n",
    "\n",
    "1. **Az sayıda eksik değer varsa** (örneğin, %10-20 civarında)  \n",
    "   - `ffill().bfill()` yöntemi **önceki ve sonraki değerlere bağlı olarak makul bir dolgu** yapar.  \n",
    "   - Eğer bir şirketin birkaç ay verisi eksikse ama genel trend belliyse, doldurmak **makul bir tahmin sağlar**.  \n",
    "   - **Sonuç:** **Doğruluk korunur**, özellikle kısa vadeli analizlerde işe yarar.  \n",
    "\n",
    "2. **Şirketin ticareti kesintiye uğramışsa ama sonra devam etmişse**  \n",
    "   - **İlk veriler sıfır olmamalı** çünkü o dönemlerde şirket aktifti ama veriler eksikti.  \n",
    "   - `mean()` kullanımı **güvenli olabilir**, ancak trendi bozabilir.  \n",
    "\n",
    "---\n",
    "\n",
    "### **Hangi Durumda Şirketleri Droplamak Mantıklı?**  \n",
    "\n",
    "1. **%70-80 eksik veri varsa**  \n",
    "   - Aylık açılış fiyatları gibi **trend takibi gerektiren bir veride**, aşırı boşluklar **gerçekçi olmayan tahminlere** neden olur.  \n",
    "   - `ffill().bfill()` yapıldığında **ilk başta dümdüz bir çizgi olup sonra ani değişim olması**, aslında **tahmin edilen verinin hatalı olabileceğini** gösterir.  \n",
    "   - **Sonuç:** **Eğer bir şirketin verisi %70-80 eksikse, bu şirketi droplamak genellikle daha güvenlidir.**  \n",
    "\n",
    "---\n",
    "\n",
    "### **Ne Yapmalısın?**  \n",
    "\n",
    "#### **Seçenek 1: Çok Eksik Olan Şirketleri Filtreleyerek Dropla**  \n",
    "```python\n",
    "missing_ratio = data_open_monthly.isna().mean()\n",
    "filtered_data = data_open_monthly.loc[:, missing_ratio < 0.3]  # %30'dan fazla eksik olanları dropla\n",
    "```\n",
    "- %70-80 eksik olanları tamamen çıkarırsın, geriye daha sağlam veriler kalır.\n",
    "\n",
    "#### **Seçenek 2: Eksik Azsa Doldur `(ffill + bfill)`**\n",
    "```python\n",
    "filtered_data = filtered_data.ffill().bfill()\n",
    "```\n",
    "- Sadece az eksik olan şirketler için doldurma yapılır, daha güvenilir sonuç verir."
   ]
  },
  {
   "cell_type": "code",
   "execution_count": 109,
   "id": "164bfea7-31ed-44ca-8851-1c72b696e0fd",
   "metadata": {},
   "outputs": [],
   "source": [
    "filtered_data = pd.read_parquet(\"../data/processed_data/1800_company_data.gzip\")"
   ]
  },
  {
   "cell_type": "code",
   "execution_count": 121,
   "id": "52c13266-17d4-4a91-bbd4-4f59cdb9ad0c",
   "metadata": {},
   "outputs": [
    {
     "name": "stdout",
     "output_type": "stream",
     "text": [
      "Ticker          AAPL      ACIW        ACN       ADBE        ADI        ADP  \\\n",
      "Date                                                                         \n",
      "2005-01-31  0.974731  6.696667  19.106171  31.493821  23.208159  21.876524   \n",
      "2005-02-28  1.159356  7.026667  18.113641  28.444421  22.499747  21.432076   \n",
      "2005-03-31  1.353911  7.833333  18.134912  31.023913  23.340560  21.209859   \n",
      "2005-04-30  1.266639  7.760000  17.702448  33.910000  22.857036  22.277329   \n",
      "2005-05-31  1.089689  6.980000  15.348742  29.870001  21.419059  21.528960   \n",
      "\n",
      "Ticker           ADSK   AKAM       AMAT        AMD  ...      ZYXI  CATX  CGEN  \\\n",
      "Date                                                ...                         \n",
      "2005-01-31  38.280256  13.00  12.584156  22.110001  ...  0.146753  53.5  5.01   \n",
      "2005-02-28  29.144969  13.10  11.735455  15.900000  ...  0.132078  53.5  6.22   \n",
      "2005-03-31  29.914572  11.01  12.906074  17.629999  ...  0.141861  53.5  4.73   \n",
      "2005-04-30  29.690001  12.72  12.035424  16.309999  ...  0.112511  53.5  4.10   \n",
      "2005-05-31  31.850000  11.96  10.945289  14.210000  ...  0.122294  53.5  3.79   \n",
      "\n",
      "Ticker      INFU  LFCR  PHLT   PLX       STXS       UTMD        VXRT  \n",
      "Date                                                                  \n",
      "2005-01-31  3.75  6.84  9.25  20.0  91.240875  14.252260  867.110930  \n",
      "2005-02-28  3.75  6.89  9.25  20.0  86.678833  12.933301  771.752428  \n",
      "2005-03-31  3.75  6.99  9.25  20.0  86.678833  13.708426  759.906664  \n",
      "2005-04-30  3.75  7.48  9.25  16.0  71.350365  13.306285  740.361116  \n",
      "2005-05-31  3.75  6.54  9.25  23.0  64.598541  13.501401  647.963999  \n",
      "\n",
      "[5 rows x 900 columns]\n"
     ]
    }
   ],
   "source": [
    "# Her sütunun eksik veri oranını hesapla\n",
    "missing_ratio = data_open_monthly.isna().mean()\n",
    "\n",
    "# %40'tan fazla eksik veri olan sütunları drop et\n",
    "filtered_data = data_open_monthly.loc[:, missing_ratio < 0.4]\n",
    "\n",
    "# Kalan verileri ffill ve bfill ile doldur\n",
    "filtered_data = filtered_data.ffill().bfill()\n",
    "\n",
    "# Sonucu göster\n",
    "print(filtered_data.head())"
   ]
  },
  {
   "cell_type": "code",
   "execution_count": 125,
   "id": "bd6b01a5-1985-4d2c-aa14-2104059285af",
   "metadata": {},
   "outputs": [
    {
     "data": {
      "text/plain": [
       "<Axes: xlabel='Date'>"
      ]
     },
     "execution_count": 125,
     "metadata": {},
     "output_type": "execute_result"
    },
    {
     "data": {
      "image/png": "[encoded data removed]",
      "text/plain": [
       "<Figure size 1600x400 with 1 Axes>"
      ]
     },
     "metadata": {},
     "output_type": "display_data"
    }
   ],
   "source": [
    "filtered_data['PLX'].plot(kind='line',figsize=(16,4),logy=True)"
   ]
  },
  {
   "cell_type": "markdown",
   "id": "f350c310-1da4-4a76-92a3-96c71ca082a6",
   "metadata": {},
   "source": [
    "1. **`data_open_monthly.reset_index()`**\n",
    "   - `long_data = filtered_data.reset_index().melt(id_vars='Date', var_name='Ticker', value_name='Open')` Bu satır, `filtered_data` verisini **uzun formata** dönüştürmek için pandas'ın `melt()` fonksiyonunu kullanır.\n",
    "   - `filtered_data` bir pandas **Series** objesidir ve indeksi tarihlerdir (aylık bazda).  \n",
    "   - `reset_index()`, bu diziyi bir **DataFrame**'e çevirir.  \n",
    "     - **İndeks** (`Date` sütunu olarak) veriye eklenir.\n",
    "     - Açılış fiyatları aynı sütunda kalır.\n",
    "\n",
    "3. **`.melt(id_vars='Date', var_name='Ticker', value_name='Open')`**  \n",
    "   - `melt()` fonksiyonu, veriyi **geniş formattan uzun formata** dönüştürür.\n",
    "   - **`id_vars='Date'`** → `\"Date\"` sütununu korur.\n",
    "   - **`var_name='Ticker'`** → Önceden sütun başlıklarında olan hisse senedi kodlarını `\"Ticker\"` olarak adlandırır.\n",
    "   - **`value_name='Open'`** → Açılış fiyatlarını `\"Open\"` sütununa taşır.\n",
    "\n",
    "---\n",
    "\n",
    "#### **Dönüştürmeden Önce (Geniş Format)** \n",
    "| Date       | AAPL | MSFT | GOOG |  \n",
    "|------------|------|------|------|  \n",
    "| 2024-01-01 | 150  | 300  | 2800 |  \n",
    "| 2024-02-01 | 155  | 310  | 2900 |  \n",
    "\n",
    "#### **Dönüştürdükten Sonra (Uzun Format)**  \n",
    "| Date       | Ticker | Open |  \n",
    "|------------|--------|------|  \n",
    "| 2024-01-01 | AAPL   | 150  |  \n",
    "| 2024-01-01 | MSFT   | 300  |  \n",
    "| 2024-01-01 | GOOG   | 2800 |  \n",
    "| 2024-02-01 | AAPL   | 155  |  \n",
    "| 2024-02-01 | MSFT   | 310  |  \n",
    "| 2024-02-01 | GOOG   | 2900 |  \n",
    "\n",
    "---\n",
    "\n",
    "### **Neden Kullanılır?**\n",
    "- Uzun format, **gruplama, filtreleme ve görselleştirme** işlemleri için daha uygundur.\n",
    "- `seaborn` veya `matplotlib` ile grafik çizmek için daha kullanışlıdır.\n",
    "- **Diğer veri setleriyle birleştirme** işlemleri (örneğin, sektör bilgisi eklemek) daha kolay olur.\n",
    "- Ben 2. ve 3. neden için kullanıyor olacağım\n"
   ]
  },
  {
   "cell_type": "code",
   "execution_count": 127,
   "id": "0baf42bd-4b6e-41e7-ba01-5eea70891fc6",
   "metadata": {},
   "outputs": [],
   "source": [
    "# Uzun formata çevirme\n",
    "long_data = filtered_data.reset_index().melt(id_vars='Date', var_name='Ticker', value_name='Open')\n",
    "\n",
    "# Sektör bilgilerini ekleme\n",
    "sector_map = {}\n",
    "for ticker in financials_biggest:\n",
    "    sector_map[ticker] = 'Financials'\n",
    "\n",
    "for ticker in healthcare_biggest:\n",
    "    sector_map[ticker] = 'Healthcare'\n",
    "\n",
    "for ticker in technology_biggest:\n",
    "    sector_map[ticker] = 'Technology'\n",
    "\n",
    "long_data['Sector'] = long_data['Ticker'].map(sector_map)"
   ]
  },
  {
   "cell_type": "code",
   "execution_count": 129,
   "id": "876c4575-db5f-44e0-8674-8c0b6daa6945",
   "metadata": {},
   "outputs": [
    {
     "data": {
      "text/html": [
       "<div>\n",
       "<style scoped>\n",
       "    .dataframe tbody tr th:only-of-type {\n",
       "        vertical-align: middle;\n",
       "    }\n",
       "\n",
       "    .dataframe tbody tr th {\n",
       "        vertical-align: top;\n",
       "    }\n",
       "\n",
       "    .dataframe thead th {\n",
       "        text-align: right;\n",
       "    }\n",
       "</style>\n",
       "<table border=\"1\" class=\"dataframe\">\n",
       "  <thead>\n",
       "    <tr style=\"text-align: right;\">\n",
       "      <th></th>\n",
       "      <th>Date</th>\n",
       "      <th>Ticker</th>\n",
       "      <th>Open</th>\n",
       "      <th>Sector</th>\n",
       "    </tr>\n",
       "  </thead>\n",
       "  <tbody>\n",
       "    <tr>\n",
       "      <th>0</th>\n",
       "      <td>2005-01-31</td>\n",
       "      <td>AAPL</td>\n",
       "      <td>0.974731</td>\n",
       "      <td>Technology</td>\n",
       "    </tr>\n",
       "    <tr>\n",
       "      <th>1</th>\n",
       "      <td>2005-02-28</td>\n",
       "      <td>AAPL</td>\n",
       "      <td>1.159356</td>\n",
       "      <td>Technology</td>\n",
       "    </tr>\n",
       "    <tr>\n",
       "      <th>2</th>\n",
       "      <td>2005-03-31</td>\n",
       "      <td>AAPL</td>\n",
       "      <td>1.353911</td>\n",
       "      <td>Technology</td>\n",
       "    </tr>\n",
       "    <tr>\n",
       "      <th>3</th>\n",
       "      <td>2005-04-30</td>\n",
       "      <td>AAPL</td>\n",
       "      <td>1.266639</td>\n",
       "      <td>Technology</td>\n",
       "    </tr>\n",
       "    <tr>\n",
       "      <th>4</th>\n",
       "      <td>2005-05-31</td>\n",
       "      <td>AAPL</td>\n",
       "      <td>1.089689</td>\n",
       "      <td>Technology</td>\n",
       "    </tr>\n",
       "  </tbody>\n",
       "</table>\n",
       "</div>"
      ],
      "text/plain": [
       "        Date Ticker      Open      Sector\n",
       "0 2005-01-31   AAPL  0.974731  Technology\n",
       "1 2005-02-28   AAPL  1.159356  Technology\n",
       "2 2005-03-31   AAPL  1.353911  Technology\n",
       "3 2005-04-30   AAPL  1.266639  Technology\n",
       "4 2005-05-31   AAPL  1.089689  Technology"
      ]
     },
     "execution_count": 129,
     "metadata": {},
     "output_type": "execute_result"
    }
   ],
   "source": [
    "long_data.head()"
   ]
  },
  {
   "cell_type": "code",
   "execution_count": 131,
   "id": "0a178010-957c-4528-8161-af8aae35e887",
   "metadata": {},
   "outputs": [],
   "source": [
    "# Datayı kayıt et\n",
    "long_data.to_csv('../data/processed_data/combined_data.csv', index=False)"
   ]
  },
  {
   "cell_type": "code",
   "execution_count": 135,
   "id": "7e851a2a-ddde-4405-8378-9c60bf4ffbcb",
   "metadata": {},
   "outputs": [],
   "source": [
    "long_formatted_data = pd.read_csv('../data/processed_data/combined_data.csv')"
   ]
  },
  {
   "cell_type": "code",
   "execution_count": 137,
   "id": "5a81550e-7200-4a7f-b9bf-e2cd15f02c36",
   "metadata": {},
   "outputs": [
    {
     "name": "stdout",
     "output_type": "stream",
     "text": [
      "              Date Ticker        Open\n",
      "0       2005-01-31   AAPL    0.974731\n",
      "1       2005-02-28   AAPL    1.159356\n",
      "2       2005-03-31   AAPL    1.353911\n",
      "3       2005-04-30   AAPL    1.266639\n",
      "4       2005-05-31   AAPL    1.089689\n",
      "5       2005-06-30   AAPL    1.200433\n",
      "6       2005-07-31   AAPL    1.108347\n",
      "7       2005-08-31   AAPL    1.281084\n",
      "8       2005-09-30   AAPL    1.414399\n",
      "9       2005-10-31   AAPL    1.629870\n",
      "10      2005-11-30   AAPL    1.722558\n",
      "11      2005-12-31   AAPL    2.074954\n",
      "206910  2005-01-31   EYPT  420.000000\n",
      "206911  2005-02-28   EYPT  356.000000\n",
      "206912  2005-03-31   EYPT  328.000000\n",
      "206913  2005-04-30   EYPT  270.000000\n",
      "206914  2005-05-31   EYPT  208.000000\n",
      "206915  2005-06-30   EYPT  238.000000\n",
      "206916  2005-07-31   EYPT  244.399994\n",
      "206917  2005-08-31   EYPT  272.000000\n",
      "206918  2005-09-30   EYPT  244.000000\n",
      "206919  2005-10-31   EYPT  276.399994\n",
      "206920  2005-11-30   EYPT  240.000000\n",
      "206921  2005-12-31   EYPT  188.000000\n"
     ]
    }
   ],
   "source": [
    "meaningless_data_difference = long_formatted_data[\n",
    "    (long_formatted_data[\"Ticker\"].isin([\"AAPL\", \"EYPT\"])) &\n",
    "    (long_formatted_data[\"Date\"].between(\"2005-01-01\", \"2006-01-01\"))\n",
    "][[\"Date\", \"Ticker\", \"Open\"]]\n",
    "\n",
    "print(meaningless_data_difference)"
   ]
  },
  {
   "cell_type": "markdown",
   "id": "a4319808-4a06-4349-bf6f-940eab723aa5",
   "metadata": {},
   "source": [
    "### Log Dönüşümü Uygulaması ve Nedenleri\n",
    "\n",
    "Veri setinizde farklı ölçeklerde değerler gözlemlenmektedir. Örneğin, bazı Ticker'ların (ör. **AAPL**) değerleri 1 civarındayken, bazıları (ör. **EYPT**) 400 gibi yüksek değerlere sahip. Bu durum, modellerin öğrenme sürecinde farklı ölçekler arasında dengesizliğe yol açabilir.\n",
    "\n",
    "#### Log Dönüşümünün Avantajları\n",
    "- **Ölçek Dengeleme:**  \n",
    "  Log dönüşümü, büyük değerlerin etkisini azaltarak tüm değerleri daha benzer bir ölçeğe çeker. Bu, özellikle farklı büyüklükteki değişkenlerin (tickerların) analizinde faydalıdır.\n",
    "\n",
    "- **Varyansın Stabilizasyonu:**  \n",
    "  Log dönüşümü, veri dağılımındaki varyansı stabil hale getirerek aşırı uç değerlerin (outlier) etkisini hafifletebilir.\n",
    "\n",
    "- **Dağılımın Normalleşmesi:**  \n",
    "  Birçok durumda log dönüşümü, verinin sağa çarpık dağılımını (right-skewed) daha normal bir dağılıma yaklaştırır, bu da bazı makine öğrenmesi algoritmalarının performansını artırabilir.\n",
    "\n",
    "#### Dikkat Edilmesi Gerekenler\n",
    "- **Pozitif Değerler:**  \n",
    "  Log dönüşümünü doğrudan uygulayabilmek için verilerinizin pozitif olması gerekir. Eğer bazı değerler 0 veya negatif ise, `log1p` (yani, log(1 + x)) dönüşümü uygulanabilir.\n",
    "\n",
    "- **Farklı Ölçekler:**  \n",
    "  Her ticker için log dönüşümünü ayrı ayrı uygulamak daha mantıklı olabilir. Bu sayede, her bir zaman serisinin kendi dağılım özelliklerine göre dönüşüm yapılır.\n",
    "\n",
    "- **Küçük Değerler:**  \n",
    "  Değerlerin 1'in altında olması durumunda log dönüşümü negatif sonuçlar verecektir. Bu durum modelleme açısından problem oluşturmaz, ancak yorumlanması sırasında dikkatli olunmalıdır.\n",
    "\n",
    "#### Sonuç\n",
    "Eğer bazı değerler diğerlerine göre \"mantıksız\" ya da \"ölçülemeyecek kadar farklı\" görünüyorsa, **log dönüşümü uygulamak**:\n",
    "- Büyük ölçekli değerlerin etkisini azaltır,\n",
    "- Farklı tickerların değerlerini karşılaştırılabilir hale getirir,\n",
    "- Makine öğrenmesi ve istatistiksel modellerde daha stabil sonuçlar elde etmenize yardımcı olur.\n",
    "\n",
    "Bu nedenle, veri setinizdeki ölçek farklılıklarını gidermek ve istatistiksel özellikleri (örn. `tsfresh` ile çıkarılacak öznitelikler) daha tutarlı hale getirmek için log dönüşümü mantıklı bir adım olabilir."
   ]
  },
  {
   "cell_type": "code",
   "execution_count": 139,
   "id": "fcaed43a-bad5-491a-b783-e3a2c849bfd8",
   "metadata": {},
   "outputs": [],
   "source": [
    "long_formatted_data[\"Open_LOG\"] = np.log1p(long_formatted_data[\"Open\"])\n",
    "\n",
    "#Halihazırdaki Open sütununu güncellemek yerine yeni sütun açmak daha mantıklı \n",
    "#çünkü bu kısmı tekrar tekrar çalıştırırsak Open değerleri sürekli değişiyor olacak."
   ]
  },
  {
   "cell_type": "code",
   "execution_count": 141,
   "id": "b3dbe4f6-870a-40a4-a964-34cc24c30c1d",
   "metadata": {},
   "outputs": [
    {
     "name": "stdout",
     "output_type": "stream",
     "text": [
      "              Date Ticker  Open_LOG\n",
      "0       2005-01-31   AAPL  0.680432\n",
      "1       2005-02-28   AAPL  0.769810\n",
      "2       2005-03-31   AAPL  0.856078\n",
      "3       2005-04-30   AAPL  0.818298\n",
      "4       2005-05-31   AAPL  0.737015\n",
      "5       2005-06-30   AAPL  0.788654\n",
      "6       2005-07-31   AAPL  0.745904\n",
      "7       2005-08-31   AAPL  0.824651\n",
      "8       2005-09-30   AAPL  0.881450\n",
      "9       2005-10-31   AAPL  0.966934\n",
      "10      2005-11-30   AAPL  1.001572\n",
      "11      2005-12-31   AAPL  1.123290\n",
      "206910  2005-01-31   EYPT  6.042633\n",
      "206911  2005-02-28   EYPT  5.877736\n",
      "206912  2005-03-31   EYPT  5.796058\n",
      "206913  2005-04-30   EYPT  5.602119\n",
      "206914  2005-05-31   EYPT  5.342334\n",
      "206915  2005-06-30   EYPT  5.476464\n",
      "206916  2005-07-31   EYPT  5.502890\n",
      "206917  2005-08-31   EYPT  5.609472\n",
      "206918  2005-09-30   EYPT  5.501258\n",
      "206919  2005-10-31   EYPT  5.625460\n",
      "206920  2005-11-30   EYPT  5.484797\n",
      "206921  2005-12-31   EYPT  5.241747\n"
     ]
    }
   ],
   "source": [
    "meaningless_data_difference = long_formatted_data[\n",
    "    (long_formatted_data[\"Ticker\"].isin([\"AAPL\", \"EYPT\"])) &\n",
    "    (long_formatted_data[\"Date\"].between(\"2005-01-01\", \"2006-01-01\"))\n",
    "][[\"Date\", \"Ticker\", \"Open_LOG\"]]\n",
    "\n",
    "print(meaningless_data_difference)"
   ]
  },
  {
   "cell_type": "code",
   "execution_count": 143,
   "id": "06f0e4c2-b0f1-422b-a71b-7c2c94472c45",
   "metadata": {},
   "outputs": [
    {
     "data": {
      "image/png": "[encoded data removed]",
      "text/plain": [
       "<Figure size 640x480 with 1 Axes>"
      ]
     },
     "metadata": {},
     "output_type": "display_data"
    }
   ],
   "source": [
    "plt.hist(long_formatted_data[\"Open\"], bins=50)\n",
    "plt.title(\"Log Dönüştürülmemiş Open Değerleri Dağılımı\")\n",
    "plt.xlabel(\"Open\")\n",
    "plt.ylabel(\"Frekans\")\n",
    "plt.show()"
   ]
  },
  {
   "cell_type": "code",
   "execution_count": 145,
   "id": "acf122d0-32ce-41c3-8481-8054abcd48e8",
   "metadata": {},
   "outputs": [
    {
     "data": {
      "image/png": "[encoded data removed]",
      "text/plain": [
       "<Figure size 640x480 with 1 Axes>"
      ]
     },
     "metadata": {},
     "output_type": "display_data"
    }
   ],
   "source": [
    "plt.hist(long_formatted_data[\"Open_LOG\"], bins=50)\n",
    "plt.title(\"Log Dönüştürülmüş Open Değerleri Dağılımı\")\n",
    "plt.xlabel(\"Log(Open)\")\n",
    "plt.ylabel(\"Frekans\")\n",
    "plt.show()"
   ]
  },
  {
   "cell_type": "markdown",
   "id": "b905d6f8-0f20-4a2e-abf0-e7c7f34b8cbd",
   "metadata": {},
   "source": [
    "- **Open Değerleri**: İlk histogramdaki x=0'daki çubuk muhtemelen veri kümesinde çok sayıda sıfır veya çok küçük değerler olduğunu gösterir. Bu, Açık sütununda çok sayıda sıfır veya sıfıra yakın değer varsa meydana gelebilir. Ancak önemli olan, x'teki diğer sayıların çok büyük olmasıdır.\n",
    "\n",
    "- **Open_LOG Değerleri**: Log dönüşümü (log1p) değerleri daha eşit bir şekilde dağılmıştır ve aşırı uç değerlerin etkisini azaltılmıştır"
   ]
  },
  {
   "cell_type": "code",
   "execution_count": 150,
   "id": "2391df9e-68c9-4378-9152-a44815362f94",
   "metadata": {},
   "outputs": [],
   "source": [
    "long_formatted_data.to_csv('../data/processed_data/LOG_combined_data.csv', index=False)"
   ]
  },
  {
   "cell_type": "code",
   "execution_count": 154,
   "id": "725b227f-ff10-4037-bfea-c6583241bc84",
   "metadata": {},
   "outputs": [
    {
     "data": {
      "text/html": [
       "<div>\n",
       "<style scoped>\n",
       "    .dataframe tbody tr th:only-of-type {\n",
       "        vertical-align: middle;\n",
       "    }\n",
       "\n",
       "    .dataframe tbody tr th {\n",
       "        vertical-align: top;\n",
       "    }\n",
       "\n",
       "    .dataframe thead th {\n",
       "        text-align: right;\n",
       "    }\n",
       "</style>\n",
       "<table border=\"1\" class=\"dataframe\">\n",
       "  <thead>\n",
       "    <tr style=\"text-align: right;\">\n",
       "      <th></th>\n",
       "      <th>Date</th>\n",
       "      <th>Ticker</th>\n",
       "      <th>Open</th>\n",
       "      <th>Sector</th>\n",
       "      <th>Open_LOG</th>\n",
       "    </tr>\n",
       "  </thead>\n",
       "  <tbody>\n",
       "    <tr>\n",
       "      <th>0</th>\n",
       "      <td>2005-01-31</td>\n",
       "      <td>AAPL</td>\n",
       "      <td>0.974731</td>\n",
       "      <td>Technology</td>\n",
       "      <td>0.680432</td>\n",
       "    </tr>\n",
       "    <tr>\n",
       "      <th>1</th>\n",
       "      <td>2005-02-28</td>\n",
       "      <td>AAPL</td>\n",
       "      <td>1.159356</td>\n",
       "      <td>Technology</td>\n",
       "      <td>0.769810</td>\n",
       "    </tr>\n",
       "    <tr>\n",
       "      <th>2</th>\n",
       "      <td>2005-03-31</td>\n",
       "      <td>AAPL</td>\n",
       "      <td>1.353911</td>\n",
       "      <td>Technology</td>\n",
       "      <td>0.856078</td>\n",
       "    </tr>\n",
       "    <tr>\n",
       "      <th>3</th>\n",
       "      <td>2005-04-30</td>\n",
       "      <td>AAPL</td>\n",
       "      <td>1.266639</td>\n",
       "      <td>Technology</td>\n",
       "      <td>0.818298</td>\n",
       "    </tr>\n",
       "    <tr>\n",
       "      <th>4</th>\n",
       "      <td>2005-05-31</td>\n",
       "      <td>AAPL</td>\n",
       "      <td>1.089689</td>\n",
       "      <td>Technology</td>\n",
       "      <td>0.737015</td>\n",
       "    </tr>\n",
       "  </tbody>\n",
       "</table>\n",
       "</div>"
      ],
      "text/plain": [
       "         Date Ticker      Open      Sector  Open_LOG\n",
       "0  2005-01-31   AAPL  0.974731  Technology  0.680432\n",
       "1  2005-02-28   AAPL  1.159356  Technology  0.769810\n",
       "2  2005-03-31   AAPL  1.353911  Technology  0.856078\n",
       "3  2005-04-30   AAPL  1.266639  Technology  0.818298\n",
       "4  2005-05-31   AAPL  1.089689  Technology  0.737015"
      ]
     },
     "execution_count": 154,
     "metadata": {},
     "output_type": "execute_result"
    }
   ],
   "source": [
    "# Oluşturduğumuz tabloyu okuyalaım\n",
    "combined_data = pd.read_csv('../data/processed_data/LOG_combined_data.csv')\n",
    "\n",
    "combined_data.head()"
   ]
  },
  {
   "cell_type": "markdown",
   "id": "04fc7649-bd9d-4e83-bcd8-dc9d90108989",
   "metadata": {},
   "source": [
    "- Data-type'larında hata var ve tsfresh kütüphanesi ile çalışamam\n",
    "- Hatanın nedeni, Date sütunu type olarak obect ancak datetime64 olması gerek"
   ]
  },
  {
   "cell_type": "code",
   "execution_count": 156,
   "id": "4e8fe090-090c-4cc1-9f2b-8d6102de0af2",
   "metadata": {},
   "outputs": [
    {
     "name": "stdout",
     "output_type": "stream",
     "text": [
      "Date         object\n",
      "Ticker       object\n",
      "Open        float64\n",
      "Sector       object\n",
      "Open_LOG    float64\n",
      "dtype: object\n"
     ]
    }
   ],
   "source": [
    "print(combined_data.dtypes)"
   ]
  },
  {
   "cell_type": "code",
   "execution_count": 158,
   "id": "9157cd8c-8a40-4acc-b922-7ce2b959201e",
   "metadata": {},
   "outputs": [],
   "source": [
    "# Date sütununu datetime64 formuna çevirdim\n",
    "combined_data['Date'] = pd.to_datetime(combined_data['Date'])"
   ]
  },
  {
   "cell_type": "code",
   "execution_count": 160,
   "id": "5b1b430f-285c-491c-9e6a-c0f2cc85b39d",
   "metadata": {},
   "outputs": [
    {
     "name": "stdout",
     "output_type": "stream",
     "text": [
      "Date        datetime64[ns]\n",
      "Ticker              object\n",
      "Open               float64\n",
      "Sector              object\n",
      "Open_LOG           float64\n",
      "dtype: object\n"
     ]
    }
   ],
   "source": [
    "print(combined_data.dtypes)"
   ]
  },
  {
   "cell_type": "markdown",
   "id": "4c9ee9d3-4350-4192-94a1-39a78fc99c27",
   "metadata": {},
   "source": [
    "## Kategorik Değişkenlerle Çalışma\n",
    "\n",
    "Kategorik veriler, sayısal olmayan ve genellikle kategorilere ayrılan verilerdir. Örneğin, bir şirketin faaliyet gösterdiği sektör gibi kategorik bilgiler, modelleme süreçlerinde sayısal verilere dönüştürülmelidir. Kategorik verileri sayısal hale getirmek için kullanılan yaygın yöntemler **One-Hot Encoding** ve **Label Encoding**'dir.\n",
    "\n",
    "### Sektör Verisi (Nominal Değişken)\n",
    "\n",
    "Verimdeki **Sektör** bilgisi, **nominal** (isimsel) bir değişkendir. Yani, sektörler arasında **doğal bir sıralama** ya da **ağırlık** yoktur. Örneğin, bir şirketin teknoloji, finans veya sağlık sektöründe olması, diğer sektörlere göre daha üstün ya da daha düşük bir değer taşımaz. Her bir sektör, sadece bir isimsel kategoriyi ifade eder.\n",
    "\n",
    "### One-Hot Encoding\n",
    "\n",
    "Nominal veriler için, **One-Hot Encoding** yöntemi genellikle tercih edilir. Bu yöntemde, her benzersiz kategori için ayrı bir sütun oluşturulur ve gözlemde o kategoriye ait olan değer **1** ile işaretlenirken, diğerleri **0** olarak kodlanır. Bu, modelin sektöre ait kategorileri sayısal verilere dönüştürmesine olanak tanır ve herhangi bir sıralama veya ağırlık ilişkisi oluşturmaz.\n",
    "\n",
    "Örneğin, **Sektör** değişkeninde \"Teknoloji\", \"Finans\" ve \"Sağlık\" gibi kategoriler varsa, One-Hot Encoding ile şu şekilde bir dönüşüm yapılır:\n",
    "\n",
    "| Date       | Ticker | Open | Sector    | Sector_Teknoloji | Sector_Finans | Sector_Sağlık |\n",
    "|------------|--------|------|-----------|------------------|---------------|---------------|\n",
    "| 2022-01-01 | AAPL   | 150  | Teknoloji | 1                | 0             | 0             |\n",
    "| 2022-01-02 | TSLA   | 700  | Finans    | 0                | 1             | 0             |\n",
    "| 2022-01-03 | PFE    | 40   | Sağlık    | 0                | 0             | 1             |\n",
    "\n",
    "Bu şekilde, her sektör için ayrı bir sütun eklenmiş olur ve her gözlem, o sektöre ait olan sütunda **1** değerini alırken, diğer sütunlarda **0** değerini alır. Bu, modelin sektörler arasında herhangi bir sıralama yapmamasını sağlar ve sektörel bilgiler daha doğru bir şekilde temsil edilmiş olur.\n"
   ]
  },
  {
   "cell_type": "code",
   "execution_count": 164,
   "id": "15dfe827-600d-4495-8538-9177fafbf1b3",
   "metadata": {},
   "outputs": [
    {
     "name": "stdout",
     "output_type": "stream",
     "text": [
      "        Date Ticker      Open  Open_LOG  Sector_Financials  Sector_Healthcare  \\\n",
      "0 2005-01-31   AAPL  0.974731  0.680432              False              False   \n",
      "1 2005-02-28   AAPL  1.159356  0.769810              False              False   \n",
      "2 2005-03-31   AAPL  1.353911  0.856078              False              False   \n",
      "3 2005-04-30   AAPL  1.266639  0.818298              False              False   \n",
      "4 2005-05-31   AAPL  1.089689  0.737015              False              False   \n",
      "\n",
      "   Sector_Technology  \n",
      "0               True  \n",
      "1               True  \n",
      "2               True  \n",
      "3               True  \n",
      "4               True  \n"
     ]
    }
   ],
   "source": [
    "# One-hot encoding uygulama: 'Sector' sütununu dönüştürüyoruz.\n",
    "combined_data_encoded = pd.get_dummies(combined_data, columns=['Sector'])\n",
    "\n",
    "print(combined_data_encoded.head())"
   ]
  },
  {
   "cell_type": "code",
   "execution_count": 166,
   "id": "cd8c013b-6709-45a2-a46b-14ec23bbcd72",
   "metadata": {},
   "outputs": [],
   "source": [
    "combined_data_encoded.to_csv('../data/processed_data/encoded_combined_data.csv', index=False)"
   ]
  },
  {
   "cell_type": "markdown",
   "id": "bb90cfec-2e78-4eea-8d4f-ad481043eec0",
   "metadata": {},
   "source": [
    "# **Öznitelik Çıkarımı ve Seçme**\n",
    "## **Öznitelik Çıkarımı:** "
   ]
  },
  {
   "cell_type": "markdown",
   "id": "38616cd6-0758-48d5-a80c-806e2937387d",
   "metadata": {},
   "source": [
    "### **tsfresh ile Otomatik Özellik Çıkarımı**\n",
    "Zaman serisi analizinde, veriden istatistiksel özellikler çıkarmak modelin başarısını artırabilir. **`tsfresh`** kütüphanesi, zaman serisi verilerinden otomatik olarak öznitelik (feature) çıkarımı yaparak analitik süreçleri hızlandırır. Bu süreçte çıkarılacak bazı temel istatistiksel özellikler şunlardır:\n",
    "\n",
    "- **Ortalama (Mean)**: Verinin genel eğilimini belirler.\n",
    "- **Standart Sapma (Standard Deviation)**: Verinin ne kadar değişkenlik gösterdiğini gösterir.\n",
    "- **Otokorelasyon (Autocorrelation)**: Bir zaman serisinin önceki değerleriyle olan ilişkisini ölçer.\n",
    "- **Minimum ve Maksimum Değerler**: Veri setinin uç noktalarını belirler.\n",
    "- **Medyan ve Çeyrek Değerler**: Veri dağılımı hakkında bilgi verir.\n",
    "\n",
    "Ancak, **`tsfresh` ile başarılı bir öznitelik çıkarımı için veri setinde eksik değer bulunmamalıdır**. Eksik değerlerin doldurulması, sağlıklı analiz yapabilmek için kritik bir adımdır."
   ]
  },
  {
   "cell_type": "code",
   "execution_count": 168,
   "id": "05ed9f22-c49e-4356-99b1-7364fe3ef260",
   "metadata": {},
   "outputs": [],
   "source": [
    "data_open_filled = pd.read_csv('../data/processed_data/encoded_combined_data.csv')"
   ]
  },
  {
   "cell_type": "code",
   "execution_count": 170,
   "id": "dd087bd9-2c01-495d-a5eb-d285f4184707",
   "metadata": {},
   "outputs": [
    {
     "data": {
      "text/plain": [
       "Date                 0\n",
       "Ticker               0\n",
       "Open                 0\n",
       "Open_LOG             0\n",
       "Sector_Financials    0\n",
       "Sector_Healthcare    0\n",
       "Sector_Technology    0\n",
       "dtype: int64"
      ]
     },
     "execution_count": 170,
     "metadata": {},
     "output_type": "execute_result"
    }
   ],
   "source": [
    "data_open_filled.isna().sum()"
   ]
  },
  {
   "cell_type": "code",
   "execution_count": 568,
   "id": "f8ab76b4-4a58-4324-8d9d-bb8daf6cecde",
   "metadata": {},
   "outputs": [],
   "source": [
    "import tsfresh\n",
    "from tsfresh.feature_extraction import EfficientFCParameters"
   ]
  },
  {
   "cell_type": "code",
   "execution_count": 570,
   "id": "04ae949e-6bb0-42bc-aaf4-2b06afa291ce",
   "metadata": {},
   "outputs": [
    {
     "name": "stderr",
     "output_type": "stream",
     "text": [
      "Feature Extraction: 100%|██████████| 30/30 [00:50<00:00,  1.68s/it]\n"
     ]
    }
   ],
   "source": [
    "# Extract features using only the 'Open' column\n",
    "data_extract_features = tsfresh.extract_features(\n",
    "    data_open_filled,\n",
    "    column_id='Ticker',\n",
    "    column_sort='Date',\n",
    "    column_value='Open_LOG',  # Explicitly specify the value column\n",
    "    default_fc_parameters=EfficientFCParameters()\n",
    ")"
   ]
  },
  {
   "cell_type": "code",
   "execution_count": 572,
   "id": "a03bd375-f9ee-4507-9e0b-5a48f9a655c4",
   "metadata": {},
   "outputs": [],
   "source": [
    "data_extract_features.to_parquet('../data/processed_data/extracted_features.parquet', compression='gzip')"
   ]
  },
  {
   "cell_type": "code",
   "execution_count": 574,
   "id": "7a1fbb86-02e6-41a4-9628-b859e73297fe",
   "metadata": {},
   "outputs": [
    {
     "data": {
      "text/plain": [
       "Index(['Open_LOG__variance_larger_than_standard_deviation',\n",
       "       'Open_LOG__has_duplicate_max', 'Open_LOG__has_duplicate_min',\n",
       "       'Open_LOG__has_duplicate', 'Open_LOG__sum_values',\n",
       "       'Open_LOG__abs_energy', 'Open_LOG__mean_abs_change',\n",
       "       'Open_LOG__mean_change', 'Open_LOG__mean_second_derivative_central',\n",
       "       'Open_LOG__median',\n",
       "       ...\n",
       "       'Open_LOG__fourier_entropy__bins_5',\n",
       "       'Open_LOG__fourier_entropy__bins_10',\n",
       "       'Open_LOG__fourier_entropy__bins_100',\n",
       "       'Open_LOG__permutation_entropy__dimension_3__tau_1',\n",
       "       'Open_LOG__permutation_entropy__dimension_4__tau_1',\n",
       "       'Open_LOG__permutation_entropy__dimension_5__tau_1',\n",
       "       'Open_LOG__permutation_entropy__dimension_6__tau_1',\n",
       "       'Open_LOG__permutation_entropy__dimension_7__tau_1',\n",
       "       'Open_LOG__query_similarity_count__query_None__threshold_0.0',\n",
       "       'Open_LOG__mean_n_absolute_max__number_of_maxima_7'],\n",
       "      dtype='object', length=777)"
      ]
     },
     "execution_count": 574,
     "metadata": {},
     "output_type": "execute_result"
    }
   ],
   "source": [
    "data_extract_features.columns"
   ]
  },
  {
   "cell_type": "code",
   "execution_count": 576,
   "id": "80e42d33-b7e5-4a52-b21b-76cd85713e20",
   "metadata": {},
   "outputs": [],
   "source": [
    "extracted_data = pd.read_parquet('../data/processed_data/extracted_features.parquet')"
   ]
  },
  {
   "cell_type": "code",
   "execution_count": 578,
   "id": "2933ed69-91d4-42b6-b4ff-1d2552c54367",
   "metadata": {},
   "outputs": [
    {
     "data": {
      "text/html": [
       "<div>\n",
       "<style scoped>\n",
       "    .dataframe tbody tr th:only-of-type {\n",
       "        vertical-align: middle;\n",
       "    }\n",
       "\n",
       "    .dataframe tbody tr th {\n",
       "        vertical-align: top;\n",
       "    }\n",
       "\n",
       "    .dataframe thead th {\n",
       "        text-align: right;\n",
       "    }\n",
       "</style>\n",
       "<table border=\"1\" class=\"dataframe\">\n",
       "  <thead>\n",
       "    <tr style=\"text-align: right;\">\n",
       "      <th></th>\n",
       "      <th>Open_LOG__variance_larger_than_standard_deviation</th>\n",
       "      <th>Open_LOG__has_duplicate_max</th>\n",
       "      <th>Open_LOG__has_duplicate_min</th>\n",
       "      <th>Open_LOG__has_duplicate</th>\n",
       "      <th>Open_LOG__sum_values</th>\n",
       "      <th>Open_LOG__abs_energy</th>\n",
       "      <th>Open_LOG__mean_abs_change</th>\n",
       "      <th>Open_LOG__mean_change</th>\n",
       "      <th>Open_LOG__mean_second_derivative_central</th>\n",
       "      <th>Open_LOG__median</th>\n",
       "      <th>...</th>\n",
       "      <th>Open_LOG__fourier_entropy__bins_5</th>\n",
       "      <th>Open_LOG__fourier_entropy__bins_10</th>\n",
       "      <th>Open_LOG__fourier_entropy__bins_100</th>\n",
       "      <th>Open_LOG__permutation_entropy__dimension_3__tau_1</th>\n",
       "      <th>Open_LOG__permutation_entropy__dimension_4__tau_1</th>\n",
       "      <th>Open_LOG__permutation_entropy__dimension_5__tau_1</th>\n",
       "      <th>Open_LOG__permutation_entropy__dimension_6__tau_1</th>\n",
       "      <th>Open_LOG__permutation_entropy__dimension_7__tau_1</th>\n",
       "      <th>Open_LOG__query_similarity_count__query_None__threshold_0.0</th>\n",
       "      <th>Open_LOG__mean_n_absolute_max__number_of_maxima_7</th>\n",
       "    </tr>\n",
       "  </thead>\n",
       "  <tbody>\n",
       "    <tr>\n",
       "      <th>A</th>\n",
       "      <td>0.0</td>\n",
       "      <td>0.0</td>\n",
       "      <td>0.0</td>\n",
       "      <td>0.0</td>\n",
       "      <td>913.803852</td>\n",
       "      <td>3586.251889</td>\n",
       "      <td>0.063168</td>\n",
       "      <td>0.009434</td>\n",
       "      <td>0.000388</td>\n",
       "      <td>3.640009</td>\n",
       "      <td>...</td>\n",
       "      <td>0.047540</td>\n",
       "      <td>0.047540</td>\n",
       "      <td>0.210003</td>\n",
       "      <td>1.703685</td>\n",
       "      <td>2.868977</td>\n",
       "      <td>3.985898</td>\n",
       "      <td>4.740089</td>\n",
       "      <td>5.092092</td>\n",
       "      <td>NaN</td>\n",
       "      <td>5.053794</td>\n",
       "    </tr>\n",
       "    <tr>\n",
       "      <th>AAPL</th>\n",
       "      <td>1.0</td>\n",
       "      <td>0.0</td>\n",
       "      <td>0.0</td>\n",
       "      <td>0.0</td>\n",
       "      <td>764.921929</td>\n",
       "      <td>2870.542166</td>\n",
       "      <td>0.066749</td>\n",
       "      <td>0.019755</td>\n",
       "      <td>-0.000350</td>\n",
       "      <td>3.155702</td>\n",
       "      <td>...</td>\n",
       "      <td>0.047540</td>\n",
       "      <td>0.047540</td>\n",
       "      <td>0.210003</td>\n",
       "      <td>1.606687</td>\n",
       "      <td>2.710202</td>\n",
       "      <td>3.765929</td>\n",
       "      <td>4.525950</td>\n",
       "      <td>4.966029</td>\n",
       "      <td>NaN</td>\n",
       "      <td>5.445788</td>\n",
       "    </tr>\n",
       "    <tr>\n",
       "      <th>AB</th>\n",
       "      <td>0.0</td>\n",
       "      <td>0.0</td>\n",
       "      <td>0.0</td>\n",
       "      <td>0.0</td>\n",
       "      <td>657.495086</td>\n",
       "      <td>1859.250052</td>\n",
       "      <td>0.062410</td>\n",
       "      <td>0.005599</td>\n",
       "      <td>-0.000013</td>\n",
       "      <td>2.678818</td>\n",
       "      <td>...</td>\n",
       "      <td>0.095013</td>\n",
       "      <td>0.142417</td>\n",
       "      <td>0.426832</td>\n",
       "      <td>1.699796</td>\n",
       "      <td>2.881841</td>\n",
       "      <td>3.992900</td>\n",
       "      <td>4.705068</td>\n",
       "      <td>5.026873</td>\n",
       "      <td>NaN</td>\n",
       "      <td>3.700294</td>\n",
       "    </tr>\n",
       "    <tr>\n",
       "      <th>ABBV</th>\n",
       "      <td>0.0</td>\n",
       "      <td>0.0</td>\n",
       "      <td>1.0</td>\n",
       "      <td>1.0</td>\n",
       "      <td>916.311508</td>\n",
       "      <td>3591.156249</td>\n",
       "      <td>0.034470</td>\n",
       "      <td>0.008760</td>\n",
       "      <td>0.000071</td>\n",
       "      <td>3.666718</td>\n",
       "      <td>...</td>\n",
       "      <td>0.047540</td>\n",
       "      <td>0.095013</td>\n",
       "      <td>0.225655</td>\n",
       "      <td>1.268576</td>\n",
       "      <td>2.090456</td>\n",
       "      <td>2.826554</td>\n",
       "      <td>3.266698</td>\n",
       "      <td>3.559127</td>\n",
       "      <td>NaN</td>\n",
       "      <td>5.239863</td>\n",
       "    </tr>\n",
       "    <tr>\n",
       "      <th>ABCB</th>\n",
       "      <td>0.0</td>\n",
       "      <td>0.0</td>\n",
       "      <td>0.0</td>\n",
       "      <td>0.0</td>\n",
       "      <td>753.473377</td>\n",
       "      <td>2445.777047</td>\n",
       "      <td>0.073705</td>\n",
       "      <td>0.006244</td>\n",
       "      <td>0.000179</td>\n",
       "      <td>3.136306</td>\n",
       "      <td>...</td>\n",
       "      <td>0.095013</td>\n",
       "      <td>0.095013</td>\n",
       "      <td>0.238762</td>\n",
       "      <td>1.736663</td>\n",
       "      <td>2.972795</td>\n",
       "      <td>4.162395</td>\n",
       "      <td>4.969204</td>\n",
       "      <td>5.265551</td>\n",
       "      <td>NaN</td>\n",
       "      <td>4.162039</td>\n",
       "    </tr>\n",
       "  </tbody>\n",
       "</table>\n",
       "<p>5 rows × 777 columns</p>\n",
       "</div>"
      ],
      "text/plain": [
       "      Open_LOG__variance_larger_than_standard_deviation  \\\n",
       "A                                                   0.0   \n",
       "AAPL                                                1.0   \n",
       "AB                                                  0.0   \n",
       "ABBV                                                0.0   \n",
       "ABCB                                                0.0   \n",
       "\n",
       "      Open_LOG__has_duplicate_max  Open_LOG__has_duplicate_min  \\\n",
       "A                             0.0                          0.0   \n",
       "AAPL                          0.0                          0.0   \n",
       "AB                            0.0                          0.0   \n",
       "ABBV                          0.0                          1.0   \n",
       "ABCB                          0.0                          0.0   \n",
       "\n",
       "      Open_LOG__has_duplicate  Open_LOG__sum_values  Open_LOG__abs_energy  \\\n",
       "A                         0.0            913.803852           3586.251889   \n",
       "AAPL                      0.0            764.921929           2870.542166   \n",
       "AB                        0.0            657.495086           1859.250052   \n",
       "ABBV                      1.0            916.311508           3591.156249   \n",
       "ABCB                      0.0            753.473377           2445.777047   \n",
       "\n",
       "      Open_LOG__mean_abs_change  Open_LOG__mean_change  \\\n",
       "A                      0.063168               0.009434   \n",
       "AAPL                   0.066749               0.019755   \n",
       "AB                     0.062410               0.005599   \n",
       "ABBV                   0.034470               0.008760   \n",
       "ABCB                   0.073705               0.006244   \n",
       "\n",
       "      Open_LOG__mean_second_derivative_central  Open_LOG__median  ...  \\\n",
       "A                                     0.000388          3.640009  ...   \n",
       "AAPL                                 -0.000350          3.155702  ...   \n",
       "AB                                   -0.000013          2.678818  ...   \n",
       "ABBV                                  0.000071          3.666718  ...   \n",
       "ABCB                                  0.000179          3.136306  ...   \n",
       "\n",
       "      Open_LOG__fourier_entropy__bins_5  Open_LOG__fourier_entropy__bins_10  \\\n",
       "A                              0.047540                            0.047540   \n",
       "AAPL                           0.047540                            0.047540   \n",
       "AB                             0.095013                            0.142417   \n",
       "ABBV                           0.047540                            0.095013   \n",
       "ABCB                           0.095013                            0.095013   \n",
       "\n",
       "      Open_LOG__fourier_entropy__bins_100  \\\n",
       "A                                0.210003   \n",
       "AAPL                             0.210003   \n",
       "AB                               0.426832   \n",
       "ABBV                             0.225655   \n",
       "ABCB                             0.238762   \n",
       "\n",
       "      Open_LOG__permutation_entropy__dimension_3__tau_1  \\\n",
       "A                                              1.703685   \n",
       "AAPL                                           1.606687   \n",
       "AB                                             1.699796   \n",
       "ABBV                                           1.268576   \n",
       "ABCB                                           1.736663   \n",
       "\n",
       "      Open_LOG__permutation_entropy__dimension_4__tau_1  \\\n",
       "A                                              2.868977   \n",
       "AAPL                                           2.710202   \n",
       "AB                                             2.881841   \n",
       "ABBV                                           2.090456   \n",
       "ABCB                                           2.972795   \n",
       "\n",
       "      Open_LOG__permutation_entropy__dimension_5__tau_1  \\\n",
       "A                                              3.985898   \n",
       "AAPL                                           3.765929   \n",
       "AB                                             3.992900   \n",
       "ABBV                                           2.826554   \n",
       "ABCB                                           4.162395   \n",
       "\n",
       "      Open_LOG__permutation_entropy__dimension_6__tau_1  \\\n",
       "A                                              4.740089   \n",
       "AAPL                                           4.525950   \n",
       "AB                                             4.705068   \n",
       "ABBV                                           3.266698   \n",
       "ABCB                                           4.969204   \n",
       "\n",
       "      Open_LOG__permutation_entropy__dimension_7__tau_1  \\\n",
       "A                                              5.092092   \n",
       "AAPL                                           4.966029   \n",
       "AB                                             5.026873   \n",
       "ABBV                                           3.559127   \n",
       "ABCB                                           5.265551   \n",
       "\n",
       "      Open_LOG__query_similarity_count__query_None__threshold_0.0  \\\n",
       "A                                                   NaN             \n",
       "AAPL                                                NaN             \n",
       "AB                                                  NaN             \n",
       "ABBV                                                NaN             \n",
       "ABCB                                                NaN             \n",
       "\n",
       "      Open_LOG__mean_n_absolute_max__number_of_maxima_7  \n",
       "A                                              5.053794  \n",
       "AAPL                                           5.445788  \n",
       "AB                                             3.700294  \n",
       "ABBV                                           5.239863  \n",
       "ABCB                                           4.162039  \n",
       "\n",
       "[5 rows x 777 columns]"
      ]
     },
     "execution_count": 578,
     "metadata": {},
     "output_type": "execute_result"
    }
   ],
   "source": [
    "extracted_data.head()"
   ]
  },
  {
   "cell_type": "markdown",
   "id": "d1fff25f-30b8-40e6-8da0-d3213d41af77",
   "metadata": {},
   "source": [
    "### **Şirket Verilerine Endüstri Etiketi (Label) Eklenmesi**\n",
    "\n",
    "#### **Neden Bu İşlemi Yaptık?**\n",
    "Elimizde 777 farklı şirketin piyasa açılış değerlerini içeren `extracted_data` adlı veri seti bulunmaktadır. \n",
    "Ancak, bu şirketlerin hangi sektöre ait olduğunu belirten bir sütun bulunmamaktadır. \n",
    "Bu bilgiyi eklemek, **makine öğrenmesi modellerinin** şirketlerin sektör bazlı analizlerini yapabilmesini sağlar.\n",
    "\n",
    "Şirketlerin sektörel bilgileri, `combined_data_encoded` veri setinde **one-hot encoding** formatında bulunmaktadır.\n",
    "Bu veri setinde sektörler şu şekilde gösterilmektedir:\n",
    "\n",
    "- `Sector_Technology` → **True** ise Teknoloji Sektörü\n",
    "- `Sector_Financials` → **True** ise Finans Sektörü\n",
    "- `Sector_Healthcare` → **True** ise Sağlık Sektörü\n",
    "\n",
    "Bu bilgileri kullanarak her şirkete **0, 1 veya 2** olacak şekilde bir **Label** (etiket) sütunu ekledik:\n",
    "\n",
    "- **0** → Teknoloji Şirketleri\n",
    "- **1** → Finans Şirketleri\n",
    "- **2** → Sağlık Şirketleri\n",
    "\n",
    "Bu sayede `extracted_data` veri setimizde her şirketin ait olduğu sektörü belirten bir `Label` sütunu oluşturulmuş oldu.\n",
    "\n",
    "---\n",
    "\n",
    "### **Nasıl Yaptık?**\n",
    "#### **1. Şirket-Sektör Bilgisini Çıkar**\n",
    "`combined_data_encoded` veri setinden her şirketin (Ticker) sektörünü belirledik:\n",
    "\n",
    "```python\n",
    "# Şirketlerin sektörlerini içeren bir DataFrame oluştur\n",
    "ticker_to_label = combined_data_encoded[['Ticker', 'Sector_Technology', 'Sector_Financials', 'Sector_Healthcare']].drop_duplicates()\n",
    "```\n",
    "\n",
    "#### **2. Sektörleri 0, 1, 2 Olarak Kodla**\n",
    "Her sektör için aşağıdaki etiketleri atadık:\n",
    "\n",
    "```python\n",
    "# Şirketlerin sektörlerini belirleyen fonksiyon\n",
    "def get_sector_label(row):\n",
    "    if row['Sector_Financials']:\n",
    "        return 0  # Teknoloji\n",
    "    elif row['Sector_Healthcare']:\n",
    "        return 1  # Finans\n",
    "    elif row['Sector_Technology']:\n",
    "        return 2  # Sağlık\n",
    "    return -1  # Hata kontrolü için\n",
    "\n",
    "# Yeni Label sütununu ekledik\n",
    "ticker_to_label['Label'] = ticker_to_label.apply(get_sector_label, axis=1)\n",
    "\n",
    "# Sadece farklı Ticker ve Label değerlerini al\n",
    "ticker_to_label_unique = ticker_to_label[['Ticker', 'Label']].drop_duplicates()\n",
    "\n",
    "# Eğer şirketler arasında tekrar varsa onları dropla\n",
    "len(ticker_to_label_unique['Ticker'].unique())\n",
    "```\n",
    "\n",
    "#### **3. Şirket İsimleri ile Label Eşleştirmesi Yap**\n",
    "`extracted_data` veri setinde bulunan **row, (index)** satırı, şirket isimlerini içeriyordu. \n",
    "Bu sütunu kullanarak sektör etiketlerini `extracted_data` içerisine ekledik:\n",
    "\n",
    "```python\n",
    "# Şirket isimleri ile sektörleri eşleştirerek extracted_data'ya Label sütununu ekleyelim\n",
    "extracted_data = extracted_data.merge(ticker_to_label_unique, left_index=True, right_on='Ticker', how='left')\n",
    "```\n",
    "\n",
    "#### **4. Eksik Verileri Kontrol Et ve Gereksiz Sütunları Kaldır**\n",
    "Her şirket için bir etiket olup olmadığını kontrol ettik:\n",
    "\n",
    "```python\n",
    "# Gereksiz fazlalıkları dropladım ve index kısmını resetledim\n",
    "extracted_data = extracted_data.drop(['Label_x', 'Ticker'], axis=1).reset_index(drop=True)\n",
    "```\n",
    "\n",
    "---\n",
    "#### **Sonuç**\n",
    "Bu işlemler sonucunda **extracted_data** veri setine **Label** sütunu eklendi. \n",
    "Bu sütun, her şirketin hangi sektöre ait olduğunu belirtiyor (**0 = Finans, 1 = Sağlık, 2 = Teknoloji**). \n",
    "Böylece, sektör bazlı analizler ve makine öğrenmesi modelleri için daha anlamlı bir veri seti elde edilmiş oldu."
   ]
  },
  {
   "cell_type": "code",
   "execution_count": 580,
   "id": "004ddc8a-640c-4cab-8b30-0091ffd00e63",
   "metadata": {},
   "outputs": [],
   "source": [
    "combined_data_encoded = pd.read_csv('../data/processed_data/encoded_combined_data.csv')"
   ]
  },
  {
   "cell_type": "code",
   "execution_count": 582,
   "id": "3834fff5-0e38-46e2-b831-f57df97fabf5",
   "metadata": {},
   "outputs": [],
   "source": [
    "# Şirketlerin sektörlerini belirleyen fonksiyon\n",
    "def get_sector_label(row):\n",
    "    if row['Sector_Financials']:\n",
    "        return 0  # Finans\n",
    "    elif row['Sector_Healthcare']:\n",
    "        return 1  # Sağlık\n",
    "    elif row['Sector_Technology']:\n",
    "        return 2  # Teknoloji\n",
    "    return -1  # Hata kontrolü için"
   ]
  },
  {
   "cell_type": "code",
   "execution_count": 584,
   "id": "30c26f69-09fc-4322-a2e4-7ce76c53e357",
   "metadata": {},
   "outputs": [
    {
     "data": {
      "text/plain": [
       "900"
      ]
     },
     "execution_count": 584,
     "metadata": {},
     "output_type": "execute_result"
    }
   ],
   "source": [
    "# Şirketlerin sektörlerini içeren bir DataFrame oluştur\n",
    "ticker_to_label = combined_data_encoded[['Ticker', 'Sector_Financials', 'Sector_Healthcare', 'Sector_Technology']].drop_duplicates()\n",
    "\n",
    "# Yeni Label sütunu ekle\n",
    "ticker_to_label['Label'] = ticker_to_label.apply(get_sector_label, axis=1)\n",
    "\n",
    "# Sadece farklı Ticker ve Label değerlerini al\n",
    "ticker_to_label_unique = ticker_to_label[['Ticker', 'Label']].drop_duplicates()\n",
    "\n",
    "# Eğer şirketler arasında tekrar varsa onları dropla\n",
    "len(ticker_to_label_unique['Ticker'].unique())"
   ]
  },
  {
   "cell_type": "code",
   "execution_count": 586,
   "id": "1a242416-18c2-44fb-8736-fda816819ea8",
   "metadata": {},
   "outputs": [],
   "source": [
    "# Şirket isimleri ile sektörleri eşleştirerek extracted_data'ya Label sütununu ekleyelim\n",
    "extracted_data = extracted_data.merge(ticker_to_label_unique, left_index=True, right_on='Ticker', how='left')"
   ]
  },
  {
   "cell_type": "code",
   "execution_count": 592,
   "id": "de665c77-d0d1-479d-b789-722ed8815f17",
   "metadata": {},
   "outputs": [
    {
     "name": "stdout",
     "output_type": "stream",
     "text": [
      "0 şirketin sektörü bulunamadı.\n"
     ]
    },
    {
     "data": {
      "text/html": [
       "<div>\n",
       "<style scoped>\n",
       "    .dataframe tbody tr th:only-of-type {\n",
       "        vertical-align: middle;\n",
       "    }\n",
       "\n",
       "    .dataframe tbody tr th {\n",
       "        vertical-align: top;\n",
       "    }\n",
       "\n",
       "    .dataframe thead th {\n",
       "        text-align: right;\n",
       "    }\n",
       "</style>\n",
       "<table border=\"1\" class=\"dataframe\">\n",
       "  <thead>\n",
       "    <tr style=\"text-align: right;\">\n",
       "      <th></th>\n",
       "      <th>Open_LOG__variance_larger_than_standard_deviation</th>\n",
       "      <th>Open_LOG__has_duplicate_max</th>\n",
       "      <th>Open_LOG__has_duplicate_min</th>\n",
       "      <th>Open_LOG__has_duplicate</th>\n",
       "      <th>Open_LOG__sum_values</th>\n",
       "      <th>Open_LOG__abs_energy</th>\n",
       "      <th>Open_LOG__mean_abs_change</th>\n",
       "      <th>Open_LOG__mean_change</th>\n",
       "      <th>Open_LOG__mean_second_derivative_central</th>\n",
       "      <th>Open_LOG__median</th>\n",
       "      <th>...</th>\n",
       "      <th>Open_LOG__fourier_entropy__bins_10</th>\n",
       "      <th>Open_LOG__fourier_entropy__bins_100</th>\n",
       "      <th>Open_LOG__permutation_entropy__dimension_3__tau_1</th>\n",
       "      <th>Open_LOG__permutation_entropy__dimension_4__tau_1</th>\n",
       "      <th>Open_LOG__permutation_entropy__dimension_5__tau_1</th>\n",
       "      <th>Open_LOG__permutation_entropy__dimension_6__tau_1</th>\n",
       "      <th>Open_LOG__permutation_entropy__dimension_7__tau_1</th>\n",
       "      <th>Open_LOG__query_similarity_count__query_None__threshold_0.0</th>\n",
       "      <th>Open_LOG__mean_n_absolute_max__number_of_maxima_7</th>\n",
       "      <th>Label</th>\n",
       "    </tr>\n",
       "  </thead>\n",
       "  <tbody>\n",
       "    <tr>\n",
       "      <th>0</th>\n",
       "      <td>0.0</td>\n",
       "      <td>0.0</td>\n",
       "      <td>0.0</td>\n",
       "      <td>0.0</td>\n",
       "      <td>913.803852</td>\n",
       "      <td>3586.251889</td>\n",
       "      <td>0.063168</td>\n",
       "      <td>0.009434</td>\n",
       "      <td>0.000388</td>\n",
       "      <td>3.640009</td>\n",
       "      <td>...</td>\n",
       "      <td>0.047540</td>\n",
       "      <td>0.210003</td>\n",
       "      <td>1.703685</td>\n",
       "      <td>2.868977</td>\n",
       "      <td>3.985898</td>\n",
       "      <td>4.740089</td>\n",
       "      <td>5.092092</td>\n",
       "      <td>NaN</td>\n",
       "      <td>5.053794</td>\n",
       "      <td>1</td>\n",
       "    </tr>\n",
       "    <tr>\n",
       "      <th>1</th>\n",
       "      <td>1.0</td>\n",
       "      <td>0.0</td>\n",
       "      <td>0.0</td>\n",
       "      <td>0.0</td>\n",
       "      <td>764.921929</td>\n",
       "      <td>2870.542166</td>\n",
       "      <td>0.066749</td>\n",
       "      <td>0.019755</td>\n",
       "      <td>-0.000350</td>\n",
       "      <td>3.155702</td>\n",
       "      <td>...</td>\n",
       "      <td>0.047540</td>\n",
       "      <td>0.210003</td>\n",
       "      <td>1.606687</td>\n",
       "      <td>2.710202</td>\n",
       "      <td>3.765929</td>\n",
       "      <td>4.525950</td>\n",
       "      <td>4.966029</td>\n",
       "      <td>NaN</td>\n",
       "      <td>5.445788</td>\n",
       "      <td>2</td>\n",
       "    </tr>\n",
       "    <tr>\n",
       "      <th>2</th>\n",
       "      <td>0.0</td>\n",
       "      <td>0.0</td>\n",
       "      <td>0.0</td>\n",
       "      <td>0.0</td>\n",
       "      <td>657.495086</td>\n",
       "      <td>1859.250052</td>\n",
       "      <td>0.062410</td>\n",
       "      <td>0.005599</td>\n",
       "      <td>-0.000013</td>\n",
       "      <td>2.678818</td>\n",
       "      <td>...</td>\n",
       "      <td>0.142417</td>\n",
       "      <td>0.426832</td>\n",
       "      <td>1.699796</td>\n",
       "      <td>2.881841</td>\n",
       "      <td>3.992900</td>\n",
       "      <td>4.705068</td>\n",
       "      <td>5.026873</td>\n",
       "      <td>NaN</td>\n",
       "      <td>3.700294</td>\n",
       "      <td>0</td>\n",
       "    </tr>\n",
       "    <tr>\n",
       "      <th>3</th>\n",
       "      <td>0.0</td>\n",
       "      <td>0.0</td>\n",
       "      <td>1.0</td>\n",
       "      <td>1.0</td>\n",
       "      <td>916.311508</td>\n",
       "      <td>3591.156249</td>\n",
       "      <td>0.034470</td>\n",
       "      <td>0.008760</td>\n",
       "      <td>0.000071</td>\n",
       "      <td>3.666718</td>\n",
       "      <td>...</td>\n",
       "      <td>0.095013</td>\n",
       "      <td>0.225655</td>\n",
       "      <td>1.268576</td>\n",
       "      <td>2.090456</td>\n",
       "      <td>2.826554</td>\n",
       "      <td>3.266698</td>\n",
       "      <td>3.559127</td>\n",
       "      <td>NaN</td>\n",
       "      <td>5.239863</td>\n",
       "      <td>1</td>\n",
       "    </tr>\n",
       "    <tr>\n",
       "      <th>4</th>\n",
       "      <td>0.0</td>\n",
       "      <td>0.0</td>\n",
       "      <td>0.0</td>\n",
       "      <td>0.0</td>\n",
       "      <td>753.473377</td>\n",
       "      <td>2445.777047</td>\n",
       "      <td>0.073705</td>\n",
       "      <td>0.006244</td>\n",
       "      <td>0.000179</td>\n",
       "      <td>3.136306</td>\n",
       "      <td>...</td>\n",
       "      <td>0.095013</td>\n",
       "      <td>0.238762</td>\n",
       "      <td>1.736663</td>\n",
       "      <td>2.972795</td>\n",
       "      <td>4.162395</td>\n",
       "      <td>4.969204</td>\n",
       "      <td>5.265551</td>\n",
       "      <td>NaN</td>\n",
       "      <td>4.162039</td>\n",
       "      <td>0</td>\n",
       "    </tr>\n",
       "  </tbody>\n",
       "</table>\n",
       "<p>5 rows × 778 columns</p>\n",
       "</div>"
      ],
      "text/plain": [
       "   Open_LOG__variance_larger_than_standard_deviation  \\\n",
       "0                                                0.0   \n",
       "1                                                1.0   \n",
       "2                                                0.0   \n",
       "3                                                0.0   \n",
       "4                                                0.0   \n",
       "\n",
       "   Open_LOG__has_duplicate_max  Open_LOG__has_duplicate_min  \\\n",
       "0                          0.0                          0.0   \n",
       "1                          0.0                          0.0   \n",
       "2                          0.0                          0.0   \n",
       "3                          0.0                          1.0   \n",
       "4                          0.0                          0.0   \n",
       "\n",
       "   Open_LOG__has_duplicate  Open_LOG__sum_values  Open_LOG__abs_energy  \\\n",
       "0                      0.0            913.803852           3586.251889   \n",
       "1                      0.0            764.921929           2870.542166   \n",
       "2                      0.0            657.495086           1859.250052   \n",
       "3                      1.0            916.311508           3591.156249   \n",
       "4                      0.0            753.473377           2445.777047   \n",
       "\n",
       "   Open_LOG__mean_abs_change  Open_LOG__mean_change  \\\n",
       "0                   0.063168               0.009434   \n",
       "1                   0.066749               0.019755   \n",
       "2                   0.062410               0.005599   \n",
       "3                   0.034470               0.008760   \n",
       "4                   0.073705               0.006244   \n",
       "\n",
       "   Open_LOG__mean_second_derivative_central  Open_LOG__median  ...  \\\n",
       "0                                  0.000388          3.640009  ...   \n",
       "1                                 -0.000350          3.155702  ...   \n",
       "2                                 -0.000013          2.678818  ...   \n",
       "3                                  0.000071          3.666718  ...   \n",
       "4                                  0.000179          3.136306  ...   \n",
       "\n",
       "   Open_LOG__fourier_entropy__bins_10  Open_LOG__fourier_entropy__bins_100  \\\n",
       "0                            0.047540                             0.210003   \n",
       "1                            0.047540                             0.210003   \n",
       "2                            0.142417                             0.426832   \n",
       "3                            0.095013                             0.225655   \n",
       "4                            0.095013                             0.238762   \n",
       "\n",
       "   Open_LOG__permutation_entropy__dimension_3__tau_1  \\\n",
       "0                                           1.703685   \n",
       "1                                           1.606687   \n",
       "2                                           1.699796   \n",
       "3                                           1.268576   \n",
       "4                                           1.736663   \n",
       "\n",
       "   Open_LOG__permutation_entropy__dimension_4__tau_1  \\\n",
       "0                                           2.868977   \n",
       "1                                           2.710202   \n",
       "2                                           2.881841   \n",
       "3                                           2.090456   \n",
       "4                                           2.972795   \n",
       "\n",
       "   Open_LOG__permutation_entropy__dimension_5__tau_1  \\\n",
       "0                                           3.985898   \n",
       "1                                           3.765929   \n",
       "2                                           3.992900   \n",
       "3                                           2.826554   \n",
       "4                                           4.162395   \n",
       "\n",
       "   Open_LOG__permutation_entropy__dimension_6__tau_1  \\\n",
       "0                                           4.740089   \n",
       "1                                           4.525950   \n",
       "2                                           4.705068   \n",
       "3                                           3.266698   \n",
       "4                                           4.969204   \n",
       "\n",
       "   Open_LOG__permutation_entropy__dimension_7__tau_1  \\\n",
       "0                                           5.092092   \n",
       "1                                           4.966029   \n",
       "2                                           5.026873   \n",
       "3                                           3.559127   \n",
       "4                                           5.265551   \n",
       "\n",
       "   Open_LOG__query_similarity_count__query_None__threshold_0.0  \\\n",
       "0                                                NaN             \n",
       "1                                                NaN             \n",
       "2                                                NaN             \n",
       "3                                                NaN             \n",
       "4                                                NaN             \n",
       "\n",
       "   Open_LOG__mean_n_absolute_max__number_of_maxima_7  Label  \n",
       "0                                           5.053794      1  \n",
       "1                                           5.445788      2  \n",
       "2                                           3.700294      0  \n",
       "3                                           5.239863      1  \n",
       "4                                           4.162039      0  \n",
       "\n",
       "[5 rows x 778 columns]"
      ]
     },
     "execution_count": 592,
     "metadata": {},
     "output_type": "execute_result"
    }
   ],
   "source": [
    "# Gereksiz fazlalıkları dropladım ve index kısmını resetledim\n",
    "extracted_data = extracted_data.drop(['Ticker'], axis=1).reset_index(drop=True)\n",
    "\n",
    "# Eşleşmeyen şirketler olup olmadığını kontrol et (opsiyonel)\n",
    "print(extracted_data['Label'].isna().sum(), \"şirketin sektörü bulunamadı.\")\n",
    "\n",
    "extracted_data.head()"
   ]
  },
  {
   "cell_type": "code",
   "execution_count": 594,
   "id": "18d26c40-0b6e-4545-8fa9-80ada50cfd9a",
   "metadata": {},
   "outputs": [
    {
     "data": {
      "text/plain": [
       "Index(['Open_LOG__variance_larger_than_standard_deviation',\n",
       "       'Open_LOG__has_duplicate_max', 'Open_LOG__has_duplicate_min',\n",
       "       'Open_LOG__has_duplicate', 'Open_LOG__sum_values',\n",
       "       'Open_LOG__abs_energy', 'Open_LOG__mean_abs_change',\n",
       "       'Open_LOG__mean_change', 'Open_LOG__mean_second_derivative_central',\n",
       "       'Open_LOG__median',\n",
       "       ...\n",
       "       'Open_LOG__fourier_entropy__bins_10',\n",
       "       'Open_LOG__fourier_entropy__bins_100',\n",
       "       'Open_LOG__permutation_entropy__dimension_3__tau_1',\n",
       "       'Open_LOG__permutation_entropy__dimension_4__tau_1',\n",
       "       'Open_LOG__permutation_entropy__dimension_5__tau_1',\n",
       "       'Open_LOG__permutation_entropy__dimension_6__tau_1',\n",
       "       'Open_LOG__permutation_entropy__dimension_7__tau_1',\n",
       "       'Open_LOG__query_similarity_count__query_None__threshold_0.0',\n",
       "       'Open_LOG__mean_n_absolute_max__number_of_maxima_7', 'Label'],\n",
       "      dtype='object', length=778)"
      ]
     },
     "execution_count": 594,
     "metadata": {},
     "output_type": "execute_result"
    }
   ],
   "source": [
    "extracted_data.columns"
   ]
  },
  {
   "cell_type": "code",
   "execution_count": 596,
   "id": "b263e8d4-7fab-4579-852d-875eb05b6906",
   "metadata": {},
   "outputs": [
    {
     "name": "stdout",
     "output_type": "stream",
     "text": [
      "Sütun ismi: Open_LOG__friedrich_coefficients__coeff_0__m_3__r_30, boş değer sayısı: 187\n",
      "Sütun ismi: Open_LOG__friedrich_coefficients__coeff_1__m_3__r_30, boş değer sayısı: 187\n",
      "Sütun ismi: Open_LOG__friedrich_coefficients__coeff_2__m_3__r_30, boş değer sayısı: 187\n",
      "Sütun ismi: Open_LOG__friedrich_coefficients__coeff_3__m_3__r_30, boş değer sayısı: 187\n",
      "Sütun ismi: Open_LOG__max_langevin_fixed_point__m_3__r_30, boş değer sayısı: 187\n",
      "Sütun ismi: Open_LOG__query_similarity_count__query_None__threshold_0.0, boş değer sayısı: 900\n"
     ]
    }
   ],
   "source": [
    "# Boş değerler içeren sütunları bulalım\n",
    "for col in extracted_data.columns:\n",
    "    if extracted_data[col].isna().sum() > 0:\n",
    "        print(f\"Sütun ismi: {col}, boş değer sayısı: {extracted_data[col].isna().sum()}\")"
   ]
  },
  {
   "cell_type": "code",
   "execution_count": 598,
   "id": "fa77993a-f6a9-4d81-aace-03ac1fb867ba",
   "metadata": {},
   "outputs": [],
   "source": [
    "# Drop empty columns\n",
    "extracted_data = extracted_data.dropna(axis=1, how='any')"
   ]
  },
  {
   "cell_type": "code",
   "execution_count": 600,
   "id": "1d082f6b-b155-41ef-939d-95cf9ab3f51e",
   "metadata": {},
   "outputs": [
    {
     "data": {
      "text/plain": [
       "array([1, 2, 0], dtype=int64)"
      ]
     },
     "execution_count": 600,
     "metadata": {},
     "output_type": "execute_result"
    }
   ],
   "source": [
    "extracted_data['Label'].unique()"
   ]
  },
  {
   "cell_type": "code",
   "execution_count": 602,
   "id": "9ba1c5d2-9fd9-4aca-afc8-8dd691e9a91f",
   "metadata": {},
   "outputs": [],
   "source": [
    "extracted_data.to_csv('../data/processed_data/extracted_labeled_features.xlsx', index= False)"
   ]
  },
  {
   "cell_type": "markdown",
   "id": "4eb361ea-f8ed-4155-8635-7e23b17678c6",
   "metadata": {},
   "source": [
    "## **Öznitelik Seçme**:\n",
    "- Çıkarılan özellikler arasından en önemlileri seçmek için\n",
    "    - L1 regularization (Lasso),\n",
    "    - Recursive Feature Elimination (RFE)\n",
    "\n",
    "#### RFE Sonuçları:\n",
    "RFE, en önemli 385 özelliği seçmiştir. Aşağıda, Random Forest modeline göre sıralanan en önemli 20 özellik yer almaktadır:\n",
    "\n",
    "1. **Open_LOG__mean_abs_change**: 0.009998\n",
    "2. **Open_LOG__fft_coefficient__attr_\"real\"__coeff_7**: 0.009923\n",
    "3. **Open_LOG__fft_coefficient__attr_\"angle\"__coeff_58**: 0.008836\n",
    "4. **Open_LOG__sum_of_reoccurring_values**: 0.008206\n",
    "5. **Open_LOG__change_quantiles__f_agg_\"mean\"__isabs_True__qh_1.0__ql_0.8**: 0.008201\n",
    "\n",
    "**En önemli 20 özellik kullanılarak elde edilen doğruluk**: 0.7167  \n",
    "**Çapraz doğrulama skorları**: [0.70833333, 0.70138889, 0.625, 0.69444444, 0.69444444]  \n",
    "**Ortalama çapraz doğrulama skoru**: 0.6847\n",
    "\n",
    "#### L1 Sonuçları (Lasso):\n",
    "Lasso (L1 regularization) ile 166 özellik arasından en önemli 20 özellik seçilmiştir. Aşağıda bu özellikler, Lasso katsayılarına göre sıralanmıştır:\n",
    "\n",
    "1. **Open_LOG__fft_coefficient__attr_\"real\"__coeff_44**: 2.795158\n",
    "2. **Open_LOG__fft_coefficient__attr_\"real\"__coeff_34**: 1.144467\n",
    "3. **Open_LOG__fft_coefficient__attr_\"real\"__coeff_18**: 0.940388\n",
    "4. **Open_LOG__fft_coefficient__attr_\"real\"__coeff_17**: 0.752983\n",
    "5. **Open_LOG__fft_coefficient__attr_\"imag\"__coeff_20**: 0.749958\n",
    "\n",
    "**En önemli 20 özellik kullanılarak elde edilen doğruluk (Lasso)**: 0.6944  \n",
    "**Çapraz doğrulama skorları (Lasso)**: [0.72222222, 0.76388889, 0.75694444, 0.68055556, 0.72222222]  \n",
    "**Ortalama çapraz doğrulama skoru (Lasso)**: 0.7292\n",
    "\n",
    "### Sonuçların Karşılaştırılması\n",
    "- **RFE** yöntemi ile seçilen en önemli 20 özelliği kullanarak elde edilen doğruluk (0.7167) ve çapraz doğrulama skoru (0.6847), **Lasso** ile seçilen özellikler ile karşılaştırıldığında daha iyi bir performans göstermektedir.\n",
    "- **Lasso** yönteminin doğruluk değeri 0.6944 ile biraz daha düşük olsa da, çapraz doğrulama skorları (0.7292) biraz daha yüksek olmuştur.\n",
    "- Her iki yöntem de önemli özellikleri seçmiş ve farklı doğruluk değerleri elde edilmiştir, ancak genel olarak RFE ile elde edilen sonuçlar biraz daha başarılı olmuştur.\n"
   ]
  },
  {
   "cell_type": "code",
   "execution_count": 46,
   "id": "a9c9568f-f941-4d7c-894c-abfced71076c",
   "metadata": {},
   "outputs": [],
   "source": [
    "# Model ve Veri İşleme Araçları\n",
    "from sklearn.model_selection import train_test_split\n",
    "from sklearn.preprocessing import StandardScaler, LabelEncoder\n",
    "from sklearn.metrics import accuracy_score, classification_report\n",
    "\n",
    "# Sınıflandırma Modelleri\n",
    "from sklearn.ensemble import RandomForestClassifier, GradientBoostingClassifier\n",
    "from sklearn.linear_model import LogisticRegression\n",
    "from sklearn.svm import SVC\n",
    "from sklearn.neural_network import MLPClassifier\n",
    "\n",
    "# Özellik Seçimi ve Boyut İndirgeme\n",
    "from sklearn.feature_selection import RFE\n",
    "from sklearn.decomposition import PCA\n",
    "\n",
    "# Ekstra: XGBoost Modeli\n",
    "from xgboost import XGBClassifier"
   ]
  },
  {
   "cell_type": "code",
   "execution_count": 60,
   "id": "c7a72635-d36e-4a16-b89c-d5611ffbb774",
   "metadata": {},
   "outputs": [],
   "source": [
    "# Load data\n",
    "extracted_labeled_data = pd.read_csv('../data/processed_data/extracted_labeled_features.xlsx')"
   ]
  },
  {
   "cell_type": "code",
   "execution_count": 104,
   "id": "5ff58d4b-72b2-4bdd-a758-4d6f4d69ede4",
   "metadata": {
    "scrolled": true
   },
   "outputs": [
    {
     "name": "stdout",
     "output_type": "stream",
     "text": [
      "RFE Selected Features (385): ['Open_LOG__abs_energy', 'Open_LOG__mean_abs_change', 'Open_LOG__mean_second_derivative_central', 'Open_LOG__median', 'Open_LOG__variance', 'Open_LOG__skewness', 'Open_LOG__kurtosis', 'Open_LOG__absolute_sum_of_changes', 'Open_LOG__longest_strike_above_mean', 'Open_LOG__count_below_mean', 'Open_LOG__last_location_of_maximum', 'Open_LOG__first_location_of_maximum', 'Open_LOG__last_location_of_minimum', 'Open_LOG__percentage_of_reoccurring_values_to_all_values', 'Open_LOG__percentage_of_reoccurring_datapoints_to_all_datapoints', 'Open_LOG__sum_of_reoccurring_values', 'Open_LOG__sum_of_reoccurring_data_points', 'Open_LOG__c3__lag_1', 'Open_LOG__cid_ce__normalize_True', 'Open_LOG__cid_ce__normalize_False', 'Open_LOG__quantile__q_0.6', 'Open_LOG__quantile__q_0.7', 'Open_LOG__quantile__q_0.8', 'Open_LOG__quantile__q_0.9', 'Open_LOG__autocorrelation__lag_1', 'Open_LOG__autocorrelation__lag_2', 'Open_LOG__autocorrelation__lag_3', 'Open_LOG__autocorrelation__lag_4', 'Open_LOG__autocorrelation__lag_5', 'Open_LOG__autocorrelation__lag_6', 'Open_LOG__autocorrelation__lag_7', 'Open_LOG__autocorrelation__lag_8', 'Open_LOG__autocorrelation__lag_9', 'Open_LOG__agg_autocorrelation__f_agg_\"mean\"__maxlag_40', 'Open_LOG__agg_autocorrelation__f_agg_\"median\"__maxlag_40', 'Open_LOG__agg_autocorrelation__f_agg_\"var\"__maxlag_40', 'Open_LOG__partial_autocorrelation__lag_1', 'Open_LOG__partial_autocorrelation__lag_2', 'Open_LOG__partial_autocorrelation__lag_3', 'Open_LOG__partial_autocorrelation__lag_6', 'Open_LOG__partial_autocorrelation__lag_8', 'Open_LOG__partial_autocorrelation__lag_9', 'Open_LOG__cwt_coefficients__coeff_0__w_2__widths_(2, 5, 10, 20)', 'Open_LOG__cwt_coefficients__coeff_0__w_5__widths_(2, 5, 10, 20)', 'Open_LOG__cwt_coefficients__coeff_0__w_10__widths_(2, 5, 10, 20)', 'Open_LOG__cwt_coefficients__coeff_1__w_20__widths_(2, 5, 10, 20)', 'Open_LOG__cwt_coefficients__coeff_2__w_2__widths_(2, 5, 10, 20)', 'Open_LOG__cwt_coefficients__coeff_3__w_2__widths_(2, 5, 10, 20)', 'Open_LOG__cwt_coefficients__coeff_3__w_20__widths_(2, 5, 10, 20)', 'Open_LOG__cwt_coefficients__coeff_6__w_2__widths_(2, 5, 10, 20)', 'Open_LOG__cwt_coefficients__coeff_6__w_5__widths_(2, 5, 10, 20)', 'Open_LOG__cwt_coefficients__coeff_7__w_20__widths_(2, 5, 10, 20)', 'Open_LOG__cwt_coefficients__coeff_9__w_2__widths_(2, 5, 10, 20)', 'Open_LOG__cwt_coefficients__coeff_10__w_2__widths_(2, 5, 10, 20)', 'Open_LOG__cwt_coefficients__coeff_10__w_20__widths_(2, 5, 10, 20)', 'Open_LOG__cwt_coefficients__coeff_11__w_2__widths_(2, 5, 10, 20)', 'Open_LOG__cwt_coefficients__coeff_12__w_2__widths_(2, 5, 10, 20)', 'Open_LOG__cwt_coefficients__coeff_14__w_2__widths_(2, 5, 10, 20)', 'Open_LOG__cwt_coefficients__coeff_14__w_5__widths_(2, 5, 10, 20)', 'Open_LOG__spkt_welch_density__coeff_2', 'Open_LOG__spkt_welch_density__coeff_8', 'Open_LOG__ar_coefficient__coeff_1__k_10', 'Open_LOG__ar_coefficient__coeff_2__k_10', 'Open_LOG__ar_coefficient__coeff_3__k_10', 'Open_LOG__ar_coefficient__coeff_5__k_10', 'Open_LOG__ar_coefficient__coeff_6__k_10', 'Open_LOG__ar_coefficient__coeff_10__k_10', 'Open_LOG__change_quantiles__f_agg_\"mean\"__isabs_False__qh_0.2__ql_0.0', 'Open_LOG__change_quantiles__f_agg_\"mean\"__isabs_False__qh_0.4__ql_0.0', 'Open_LOG__change_quantiles__f_agg_\"var\"__isabs_False__qh_0.4__ql_0.0', 'Open_LOG__change_quantiles__f_agg_\"mean\"__isabs_True__qh_0.4__ql_0.0', 'Open_LOG__change_quantiles__f_agg_\"var\"__isabs_True__qh_0.4__ql_0.0', 'Open_LOG__change_quantiles__f_agg_\"var\"__isabs_False__qh_0.6__ql_0.0', 'Open_LOG__change_quantiles__f_agg_\"mean\"__isabs_True__qh_0.6__ql_0.0', 'Open_LOG__change_quantiles__f_agg_\"var\"__isabs_True__qh_0.6__ql_0.0', 'Open_LOG__change_quantiles__f_agg_\"mean\"__isabs_False__qh_0.8__ql_0.0', 'Open_LOG__change_quantiles__f_agg_\"var\"__isabs_False__qh_0.8__ql_0.0', 'Open_LOG__change_quantiles__f_agg_\"mean\"__isabs_True__qh_0.8__ql_0.0', 'Open_LOG__change_quantiles__f_agg_\"var\"__isabs_True__qh_0.8__ql_0.0', 'Open_LOG__change_quantiles__f_agg_\"var\"__isabs_False__qh_1.0__ql_0.0', 'Open_LOG__change_quantiles__f_agg_\"mean\"__isabs_True__qh_1.0__ql_0.0', 'Open_LOG__change_quantiles__f_agg_\"var\"__isabs_True__qh_1.0__ql_0.0', 'Open_LOG__change_quantiles__f_agg_\"var\"__isabs_False__qh_0.4__ql_0.2', 'Open_LOG__change_quantiles__f_agg_\"mean\"__isabs_True__qh_0.4__ql_0.2', 'Open_LOG__change_quantiles__f_agg_\"var\"__isabs_True__qh_0.4__ql_0.2', 'Open_LOG__change_quantiles__f_agg_\"var\"__isabs_False__qh_0.6__ql_0.2', 'Open_LOG__change_quantiles__f_agg_\"var\"__isabs_True__qh_0.6__ql_0.2', 'Open_LOG__change_quantiles__f_agg_\"mean\"__isabs_False__qh_0.8__ql_0.2', 'Open_LOG__change_quantiles__f_agg_\"var\"__isabs_False__qh_0.8__ql_0.2', 'Open_LOG__change_quantiles__f_agg_\"mean\"__isabs_True__qh_0.8__ql_0.2', 'Open_LOG__change_quantiles__f_agg_\"var\"__isabs_True__qh_0.8__ql_0.2', 'Open_LOG__change_quantiles__f_agg_\"var\"__isabs_False__qh_1.0__ql_0.2', 'Open_LOG__change_quantiles__f_agg_\"mean\"__isabs_True__qh_1.0__ql_0.2', 'Open_LOG__change_quantiles__f_agg_\"var\"__isabs_True__qh_1.0__ql_0.2', 'Open_LOG__change_quantiles__f_agg_\"var\"__isabs_False__qh_0.6__ql_0.4', 'Open_LOG__change_quantiles__f_agg_\"mean\"__isabs_True__qh_0.6__ql_0.4', 'Open_LOG__change_quantiles__f_agg_\"var\"__isabs_True__qh_0.6__ql_0.4', 'Open_LOG__change_quantiles__f_agg_\"mean\"__isabs_False__qh_0.8__ql_0.4', 'Open_LOG__change_quantiles__f_agg_\"mean\"__isabs_True__qh_0.8__ql_0.4', 'Open_LOG__change_quantiles__f_agg_\"var\"__isabs_False__qh_1.0__ql_0.4', 'Open_LOG__change_quantiles__f_agg_\"mean\"__isabs_True__qh_1.0__ql_0.4', 'Open_LOG__change_quantiles__f_agg_\"var\"__isabs_True__qh_1.0__ql_0.4', 'Open_LOG__change_quantiles__f_agg_\"mean\"__isabs_True__qh_0.8__ql_0.6', 'Open_LOG__change_quantiles__f_agg_\"var\"__isabs_False__qh_1.0__ql_0.6', 'Open_LOG__change_quantiles__f_agg_\"mean\"__isabs_True__qh_1.0__ql_0.6', 'Open_LOG__change_quantiles__f_agg_\"var\"__isabs_True__qh_1.0__ql_0.6', 'Open_LOG__change_quantiles__f_agg_\"mean\"__isabs_False__qh_1.0__ql_0.8', 'Open_LOG__change_quantiles__f_agg_\"var\"__isabs_False__qh_1.0__ql_0.8', 'Open_LOG__change_quantiles__f_agg_\"mean\"__isabs_True__qh_1.0__ql_0.8', 'Open_LOG__change_quantiles__f_agg_\"var\"__isabs_True__qh_1.0__ql_0.8', 'Open_LOG__fft_coefficient__attr_\"real\"__coeff_1', 'Open_LOG__fft_coefficient__attr_\"real\"__coeff_2', 'Open_LOG__fft_coefficient__attr_\"real\"__coeff_3', 'Open_LOG__fft_coefficient__attr_\"real\"__coeff_4', 'Open_LOG__fft_coefficient__attr_\"real\"__coeff_5', 'Open_LOG__fft_coefficient__attr_\"real\"__coeff_7', 'Open_LOG__fft_coefficient__attr_\"real\"__coeff_8', 'Open_LOG__fft_coefficient__attr_\"real\"__coeff_9', 'Open_LOG__fft_coefficient__attr_\"real\"__coeff_11', 'Open_LOG__fft_coefficient__attr_\"real\"__coeff_12', 'Open_LOG__fft_coefficient__attr_\"real\"__coeff_13', 'Open_LOG__fft_coefficient__attr_\"real\"__coeff_14', 'Open_LOG__fft_coefficient__attr_\"real\"__coeff_15', 'Open_LOG__fft_coefficient__attr_\"real\"__coeff_16', 'Open_LOG__fft_coefficient__attr_\"real\"__coeff_17', 'Open_LOG__fft_coefficient__attr_\"real\"__coeff_18', 'Open_LOG__fft_coefficient__attr_\"real\"__coeff_19', 'Open_LOG__fft_coefficient__attr_\"real\"__coeff_20', 'Open_LOG__fft_coefficient__attr_\"real\"__coeff_21', 'Open_LOG__fft_coefficient__attr_\"real\"__coeff_22', 'Open_LOG__fft_coefficient__attr_\"real\"__coeff_23', 'Open_LOG__fft_coefficient__attr_\"real\"__coeff_24', 'Open_LOG__fft_coefficient__attr_\"real\"__coeff_25', 'Open_LOG__fft_coefficient__attr_\"real\"__coeff_26', 'Open_LOG__fft_coefficient__attr_\"real\"__coeff_27', 'Open_LOG__fft_coefficient__attr_\"real\"__coeff_28', 'Open_LOG__fft_coefficient__attr_\"real\"__coeff_29', 'Open_LOG__fft_coefficient__attr_\"real\"__coeff_30', 'Open_LOG__fft_coefficient__attr_\"real\"__coeff_31', 'Open_LOG__fft_coefficient__attr_\"real\"__coeff_32', 'Open_LOG__fft_coefficient__attr_\"real\"__coeff_33', 'Open_LOG__fft_coefficient__attr_\"real\"__coeff_34', 'Open_LOG__fft_coefficient__attr_\"real\"__coeff_36', 'Open_LOG__fft_coefficient__attr_\"real\"__coeff_37', 'Open_LOG__fft_coefficient__attr_\"real\"__coeff_39', 'Open_LOG__fft_coefficient__attr_\"real\"__coeff_40', 'Open_LOG__fft_coefficient__attr_\"real\"__coeff_41', 'Open_LOG__fft_coefficient__attr_\"real\"__coeff_42', 'Open_LOG__fft_coefficient__attr_\"real\"__coeff_44', 'Open_LOG__fft_coefficient__attr_\"real\"__coeff_45', 'Open_LOG__fft_coefficient__attr_\"real\"__coeff_46', 'Open_LOG__fft_coefficient__attr_\"real\"__coeff_48', 'Open_LOG__fft_coefficient__attr_\"real\"__coeff_51', 'Open_LOG__fft_coefficient__attr_\"real\"__coeff_52', 'Open_LOG__fft_coefficient__attr_\"real\"__coeff_53', 'Open_LOG__fft_coefficient__attr_\"real\"__coeff_54', 'Open_LOG__fft_coefficient__attr_\"real\"__coeff_56', 'Open_LOG__fft_coefficient__attr_\"real\"__coeff_57', 'Open_LOG__fft_coefficient__attr_\"real\"__coeff_58', 'Open_LOG__fft_coefficient__attr_\"real\"__coeff_61', 'Open_LOG__fft_coefficient__attr_\"real\"__coeff_62', 'Open_LOG__fft_coefficient__attr_\"real\"__coeff_63', 'Open_LOG__fft_coefficient__attr_\"real\"__coeff_66', 'Open_LOG__fft_coefficient__attr_\"real\"__coeff_67', 'Open_LOG__fft_coefficient__attr_\"real\"__coeff_68', 'Open_LOG__fft_coefficient__attr_\"real\"__coeff_71', 'Open_LOG__fft_coefficient__attr_\"real\"__coeff_72', 'Open_LOG__fft_coefficient__attr_\"real\"__coeff_74', 'Open_LOG__fft_coefficient__attr_\"real\"__coeff_75', 'Open_LOG__fft_coefficient__attr_\"real\"__coeff_78', 'Open_LOG__fft_coefficient__attr_\"real\"__coeff_80', 'Open_LOG__fft_coefficient__attr_\"real\"__coeff_83', 'Open_LOG__fft_coefficient__attr_\"real\"__coeff_84', 'Open_LOG__fft_coefficient__attr_\"real\"__coeff_88', 'Open_LOG__fft_coefficient__attr_\"real\"__coeff_90', 'Open_LOG__fft_coefficient__attr_\"real\"__coeff_91', 'Open_LOG__fft_coefficient__attr_\"real\"__coeff_93', 'Open_LOG__fft_coefficient__attr_\"real\"__coeff_94', 'Open_LOG__fft_coefficient__attr_\"real\"__coeff_97', 'Open_LOG__fft_coefficient__attr_\"imag\"__coeff_1', 'Open_LOG__fft_coefficient__attr_\"imag\"__coeff_5', 'Open_LOG__fft_coefficient__attr_\"imag\"__coeff_6', 'Open_LOG__fft_coefficient__attr_\"imag\"__coeff_8', 'Open_LOG__fft_coefficient__attr_\"imag\"__coeff_9', 'Open_LOG__fft_coefficient__attr_\"imag\"__coeff_14', 'Open_LOG__fft_coefficient__attr_\"imag\"__coeff_16', 'Open_LOG__fft_coefficient__attr_\"imag\"__coeff_20', 'Open_LOG__fft_coefficient__attr_\"imag\"__coeff_21', 'Open_LOG__fft_coefficient__attr_\"imag\"__coeff_22', 'Open_LOG__fft_coefficient__attr_\"imag\"__coeff_24', 'Open_LOG__fft_coefficient__attr_\"imag\"__coeff_27', 'Open_LOG__fft_coefficient__attr_\"imag\"__coeff_28', 'Open_LOG__fft_coefficient__attr_\"imag\"__coeff_30', 'Open_LOG__fft_coefficient__attr_\"imag\"__coeff_32', 'Open_LOG__fft_coefficient__attr_\"imag\"__coeff_40', 'Open_LOG__fft_coefficient__attr_\"imag\"__coeff_41', 'Open_LOG__fft_coefficient__attr_\"imag\"__coeff_43', 'Open_LOG__fft_coefficient__attr_\"imag\"__coeff_44', 'Open_LOG__fft_coefficient__attr_\"imag\"__coeff_45', 'Open_LOG__fft_coefficient__attr_\"imag\"__coeff_47', 'Open_LOG__fft_coefficient__attr_\"imag\"__coeff_48', 'Open_LOG__fft_coefficient__attr_\"imag\"__coeff_49', 'Open_LOG__fft_coefficient__attr_\"imag\"__coeff_52', 'Open_LOG__fft_coefficient__attr_\"imag\"__coeff_53', 'Open_LOG__fft_coefficient__attr_\"imag\"__coeff_54', 'Open_LOG__fft_coefficient__attr_\"imag\"__coeff_58', 'Open_LOG__fft_coefficient__attr_\"imag\"__coeff_59', 'Open_LOG__fft_coefficient__attr_\"imag\"__coeff_63', 'Open_LOG__fft_coefficient__attr_\"imag\"__coeff_64', 'Open_LOG__fft_coefficient__attr_\"imag\"__coeff_66', 'Open_LOG__fft_coefficient__attr_\"imag\"__coeff_68', 'Open_LOG__fft_coefficient__attr_\"imag\"__coeff_72', 'Open_LOG__fft_coefficient__attr_\"imag\"__coeff_73', 'Open_LOG__fft_coefficient__attr_\"imag\"__coeff_74', 'Open_LOG__fft_coefficient__attr_\"imag\"__coeff_75', 'Open_LOG__fft_coefficient__attr_\"imag\"__coeff_76', 'Open_LOG__fft_coefficient__attr_\"imag\"__coeff_77', 'Open_LOG__fft_coefficient__attr_\"imag\"__coeff_79', 'Open_LOG__fft_coefficient__attr_\"imag\"__coeff_80', 'Open_LOG__fft_coefficient__attr_\"imag\"__coeff_81', 'Open_LOG__fft_coefficient__attr_\"imag\"__coeff_82', 'Open_LOG__fft_coefficient__attr_\"imag\"__coeff_85', 'Open_LOG__fft_coefficient__attr_\"imag\"__coeff_87', 'Open_LOG__fft_coefficient__attr_\"imag\"__coeff_88', 'Open_LOG__fft_coefficient__attr_\"imag\"__coeff_89', 'Open_LOG__fft_coefficient__attr_\"imag\"__coeff_90', 'Open_LOG__fft_coefficient__attr_\"imag\"__coeff_91', 'Open_LOG__fft_coefficient__attr_\"imag\"__coeff_92', 'Open_LOG__fft_coefficient__attr_\"imag\"__coeff_93', 'Open_LOG__fft_coefficient__attr_\"imag\"__coeff_94', 'Open_LOG__fft_coefficient__attr_\"imag\"__coeff_95', 'Open_LOG__fft_coefficient__attr_\"imag\"__coeff_97', 'Open_LOG__fft_coefficient__attr_\"imag\"__coeff_98', 'Open_LOG__fft_coefficient__attr_\"imag\"__coeff_99', 'Open_LOG__fft_coefficient__attr_\"abs\"__coeff_1', 'Open_LOG__fft_coefficient__attr_\"abs\"__coeff_3', 'Open_LOG__fft_coefficient__attr_\"abs\"__coeff_4', 'Open_LOG__fft_coefficient__attr_\"abs\"__coeff_5', 'Open_LOG__fft_coefficient__attr_\"abs\"__coeff_6', 'Open_LOG__fft_coefficient__attr_\"abs\"__coeff_7', 'Open_LOG__fft_coefficient__attr_\"abs\"__coeff_9', 'Open_LOG__fft_coefficient__attr_\"abs\"__coeff_10', 'Open_LOG__fft_coefficient__attr_\"abs\"__coeff_12', 'Open_LOG__fft_coefficient__attr_\"abs\"__coeff_14', 'Open_LOG__fft_coefficient__attr_\"abs\"__coeff_15', 'Open_LOG__fft_coefficient__attr_\"abs\"__coeff_16', 'Open_LOG__fft_coefficient__attr_\"abs\"__coeff_18', 'Open_LOG__fft_coefficient__attr_\"abs\"__coeff_19', 'Open_LOG__fft_coefficient__attr_\"abs\"__coeff_21', 'Open_LOG__fft_coefficient__attr_\"abs\"__coeff_22', 'Open_LOG__fft_coefficient__attr_\"abs\"__coeff_24', 'Open_LOG__fft_coefficient__attr_\"abs\"__coeff_27', 'Open_LOG__fft_coefficient__attr_\"abs\"__coeff_28', 'Open_LOG__fft_coefficient__attr_\"abs\"__coeff_30', 'Open_LOG__fft_coefficient__attr_\"abs\"__coeff_32', 'Open_LOG__fft_coefficient__attr_\"abs\"__coeff_35', 'Open_LOG__fft_coefficient__attr_\"abs\"__coeff_37', 'Open_LOG__fft_coefficient__attr_\"abs\"__coeff_40', 'Open_LOG__fft_coefficient__attr_\"abs\"__coeff_43', 'Open_LOG__fft_coefficient__attr_\"abs\"__coeff_45', 'Open_LOG__fft_coefficient__attr_\"abs\"__coeff_47', 'Open_LOG__fft_coefficient__attr_\"abs\"__coeff_48', 'Open_LOG__fft_coefficient__attr_\"abs\"__coeff_52', 'Open_LOG__fft_coefficient__attr_\"abs\"__coeff_56', 'Open_LOG__fft_coefficient__attr_\"abs\"__coeff_58', 'Open_LOG__fft_coefficient__attr_\"abs\"__coeff_59', 'Open_LOG__fft_coefficient__attr_\"abs\"__coeff_62', 'Open_LOG__fft_coefficient__attr_\"abs\"__coeff_64', 'Open_LOG__fft_coefficient__attr_\"abs\"__coeff_67', 'Open_LOG__fft_coefficient__attr_\"abs\"__coeff_71', 'Open_LOG__fft_coefficient__attr_\"abs\"__coeff_72', 'Open_LOG__fft_coefficient__attr_\"abs\"__coeff_75', 'Open_LOG__fft_coefficient__attr_\"abs\"__coeff_76', 'Open_LOG__fft_coefficient__attr_\"abs\"__coeff_77', 'Open_LOG__fft_coefficient__attr_\"abs\"__coeff_79', 'Open_LOG__fft_coefficient__attr_\"abs\"__coeff_80', 'Open_LOG__fft_coefficient__attr_\"abs\"__coeff_84', 'Open_LOG__fft_coefficient__attr_\"abs\"__coeff_86', 'Open_LOG__fft_coefficient__attr_\"abs\"__coeff_87', 'Open_LOG__fft_coefficient__attr_\"abs\"__coeff_88', 'Open_LOG__fft_coefficient__attr_\"abs\"__coeff_90', 'Open_LOG__fft_coefficient__attr_\"abs\"__coeff_91', 'Open_LOG__fft_coefficient__attr_\"abs\"__coeff_93', 'Open_LOG__fft_coefficient__attr_\"abs\"__coeff_94', 'Open_LOG__fft_coefficient__attr_\"abs\"__coeff_95', 'Open_LOG__fft_coefficient__attr_\"abs\"__coeff_97', 'Open_LOG__fft_coefficient__attr_\"angle\"__coeff_1', 'Open_LOG__fft_coefficient__attr_\"angle\"__coeff_2', 'Open_LOG__fft_coefficient__attr_\"angle\"__coeff_3', 'Open_LOG__fft_coefficient__attr_\"angle\"__coeff_4', 'Open_LOG__fft_coefficient__attr_\"angle\"__coeff_6', 'Open_LOG__fft_coefficient__attr_\"angle\"__coeff_7', 'Open_LOG__fft_coefficient__attr_\"angle\"__coeff_8', 'Open_LOG__fft_coefficient__attr_\"angle\"__coeff_9', 'Open_LOG__fft_coefficient__attr_\"angle\"__coeff_11', 'Open_LOG__fft_coefficient__attr_\"angle\"__coeff_13', 'Open_LOG__fft_coefficient__attr_\"angle\"__coeff_14', 'Open_LOG__fft_coefficient__attr_\"angle\"__coeff_15', 'Open_LOG__fft_coefficient__attr_\"angle\"__coeff_16', 'Open_LOG__fft_coefficient__attr_\"angle\"__coeff_17', 'Open_LOG__fft_coefficient__attr_\"angle\"__coeff_18', 'Open_LOG__fft_coefficient__attr_\"angle\"__coeff_19', 'Open_LOG__fft_coefficient__attr_\"angle\"__coeff_20', 'Open_LOG__fft_coefficient__attr_\"angle\"__coeff_21', 'Open_LOG__fft_coefficient__attr_\"angle\"__coeff_24', 'Open_LOG__fft_coefficient__attr_\"angle\"__coeff_25', 'Open_LOG__fft_coefficient__attr_\"angle\"__coeff_26', 'Open_LOG__fft_coefficient__attr_\"angle\"__coeff_27', 'Open_LOG__fft_coefficient__attr_\"angle\"__coeff_28', 'Open_LOG__fft_coefficient__attr_\"angle\"__coeff_29', 'Open_LOG__fft_coefficient__attr_\"angle\"__coeff_30', 'Open_LOG__fft_coefficient__attr_\"angle\"__coeff_31', 'Open_LOG__fft_coefficient__attr_\"angle\"__coeff_32', 'Open_LOG__fft_coefficient__attr_\"angle\"__coeff_34', 'Open_LOG__fft_coefficient__attr_\"angle\"__coeff_35', 'Open_LOG__fft_coefficient__attr_\"angle\"__coeff_36', 'Open_LOG__fft_coefficient__attr_\"angle\"__coeff_37', 'Open_LOG__fft_coefficient__attr_\"angle\"__coeff_40', 'Open_LOG__fft_coefficient__attr_\"angle\"__coeff_41', 'Open_LOG__fft_coefficient__attr_\"angle\"__coeff_42', 'Open_LOG__fft_coefficient__attr_\"angle\"__coeff_44', 'Open_LOG__fft_coefficient__attr_\"angle\"__coeff_45', 'Open_LOG__fft_coefficient__attr_\"angle\"__coeff_47', 'Open_LOG__fft_coefficient__attr_\"angle\"__coeff_48', 'Open_LOG__fft_coefficient__attr_\"angle\"__coeff_52', 'Open_LOG__fft_coefficient__attr_\"angle\"__coeff_55', 'Open_LOG__fft_coefficient__attr_\"angle\"__coeff_56', 'Open_LOG__fft_coefficient__attr_\"angle\"__coeff_57', 'Open_LOG__fft_coefficient__attr_\"angle\"__coeff_58', 'Open_LOG__fft_coefficient__attr_\"angle\"__coeff_61', 'Open_LOG__fft_coefficient__attr_\"angle\"__coeff_62', 'Open_LOG__fft_coefficient__attr_\"angle\"__coeff_63', 'Open_LOG__fft_coefficient__attr_\"angle\"__coeff_64', 'Open_LOG__fft_coefficient__attr_\"angle\"__coeff_66', 'Open_LOG__fft_coefficient__attr_\"angle\"__coeff_71', 'Open_LOG__fft_coefficient__attr_\"angle\"__coeff_72', 'Open_LOG__fft_coefficient__attr_\"angle\"__coeff_73', 'Open_LOG__fft_coefficient__attr_\"angle\"__coeff_74', 'Open_LOG__fft_coefficient__attr_\"angle\"__coeff_75', 'Open_LOG__fft_coefficient__attr_\"angle\"__coeff_77', 'Open_LOG__fft_coefficient__attr_\"angle\"__coeff_78', 'Open_LOG__fft_coefficient__attr_\"angle\"__coeff_81', 'Open_LOG__fft_coefficient__attr_\"angle\"__coeff_82', 'Open_LOG__fft_coefficient__attr_\"angle\"__coeff_83', 'Open_LOG__fft_coefficient__attr_\"angle\"__coeff_84', 'Open_LOG__fft_coefficient__attr_\"angle\"__coeff_87', 'Open_LOG__fft_coefficient__attr_\"angle\"__coeff_88', 'Open_LOG__fft_coefficient__attr_\"angle\"__coeff_89', 'Open_LOG__fft_coefficient__attr_\"angle\"__coeff_90', 'Open_LOG__fft_coefficient__attr_\"angle\"__coeff_91', 'Open_LOG__fft_coefficient__attr_\"angle\"__coeff_93', 'Open_LOG__fft_coefficient__attr_\"angle\"__coeff_94', 'Open_LOG__fft_coefficient__attr_\"angle\"__coeff_95', 'Open_LOG__fft_coefficient__attr_\"angle\"__coeff_96', 'Open_LOG__fft_coefficient__attr_\"angle\"__coeff_97', 'Open_LOG__fft_coefficient__attr_\"angle\"__coeff_99', 'Open_LOG__fft_aggregated__aggtype_\"centroid\"', 'Open_LOG__fft_aggregated__aggtype_\"variance\"', 'Open_LOG__fft_aggregated__aggtype_\"skew\"', 'Open_LOG__fft_aggregated__aggtype_\"kurtosis\"', 'Open_LOG__linear_trend__attr_\"slope\"', 'Open_LOG__linear_trend__attr_\"stderr\"', 'Open_LOG__agg_linear_trend__attr_\"rvalue\"__chunk_len_5__f_agg_\"var\"', 'Open_LOG__agg_linear_trend__attr_\"rvalue\"__chunk_len_10__f_agg_\"var\"', 'Open_LOG__agg_linear_trend__attr_\"intercept\"__chunk_len_5__f_agg_\"max\"', 'Open_LOG__agg_linear_trend__attr_\"intercept\"__chunk_len_10__f_agg_\"mean\"', 'Open_LOG__agg_linear_trend__attr_\"intercept\"__chunk_len_50__f_agg_\"min\"', 'Open_LOG__agg_linear_trend__attr_\"slope\"__chunk_len_5__f_agg_\"var\"', 'Open_LOG__agg_linear_trend__attr_\"slope\"__chunk_len_50__f_agg_\"var\"', 'Open_LOG__agg_linear_trend__attr_\"stderr\"__chunk_len_5__f_agg_\"var\"', 'Open_LOG__agg_linear_trend__attr_\"stderr\"__chunk_len_10__f_agg_\"min\"', 'Open_LOG__agg_linear_trend__attr_\"stderr\"__chunk_len_10__f_agg_\"mean\"', 'Open_LOG__agg_linear_trend__attr_\"stderr\"__chunk_len_50__f_agg_\"min\"', 'Open_LOG__agg_linear_trend__attr_\"stderr\"__chunk_len_50__f_agg_\"mean\"', 'Open_LOG__agg_linear_trend__attr_\"stderr\"__chunk_len_50__f_agg_\"var\"', 'Open_LOG__energy_ratio_by_chunks__num_segments_10__segment_focus_4', 'Open_LOG__energy_ratio_by_chunks__num_segments_10__segment_focus_5', 'Open_LOG__energy_ratio_by_chunks__num_segments_10__segment_focus_6', 'Open_LOG__energy_ratio_by_chunks__num_segments_10__segment_focus_7', 'Open_LOG__energy_ratio_by_chunks__num_segments_10__segment_focus_9', 'Open_LOG__ratio_beyond_r_sigma__r_0.5', 'Open_LOG__permutation_entropy__dimension_3__tau_1', 'Open_LOG__permutation_entropy__dimension_5__tau_1', 'Open_LOG__permutation_entropy__dimension_6__tau_1', 'Open_LOG__mean_n_absolute_max__number_of_maxima_7']\n"
     ]
    }
   ],
   "source": [
    "# Define features and labels\n",
    "X = extracted_labeled_data.drop(columns=['Label'])\n",
    "y = extracted_labeled_data['Label']\n",
    "\n",
    "# Train-test split\n",
    "X_train, X_test, y_train, y_test = train_test_split(X, y, test_size=0.2, random_state=0)\n",
    "\n",
    "### 1. Recursive Feature Elimination (RFE) ###\n",
    "selector_rfe = RFE(RandomForestClassifier(random_state=10))\n",
    "selector_rfe.fit(X_train, y_train)\n",
    "\n",
    "# Transform datasets\n",
    "X_train_rfe = selector_rfe.transform(X_train)\n",
    "X_test_rfe = selector_rfe.transform(X_test)\n",
    "\n",
    "# List selected features\n",
    "selected_features_rfe = X_train.columns[selector_rfe.get_support()]\n",
    "print(f\"RFE Selected Features ({len(selected_features_rfe)}): {list(selected_features_rfe)}\")"
   ]
  },
  {
   "cell_type": "code",
   "execution_count": 278,
   "id": "44a8597a-b764-4a19-91bf-9321372dc69a",
   "metadata": {},
   "outputs": [],
   "source": [
    "# RFE'nin seçtiği feature'ları scores sütununa göre listele\n",
    "results = pd.DataFrame(\n",
    "    data=selector_rfe.estimator_.feature_importances_,\n",
    "    index=selected_features_rfe,\n",
    "    columns=['scores']\n",
    ")"
   ]
  },
  {
   "cell_type": "code",
   "execution_count": 294,
   "id": "b4c62fbe-cef4-4c2e-97e2-3d8fa64cb220",
   "metadata": {},
   "outputs": [
    {
     "name": "stdout",
     "output_type": "stream",
     "text": [
      "En önemli 20 feature (Random Forest önem değerlerine göre):\n",
      "1. Open_LOG__mean_abs_change: 0.009998\n",
      "2. Open_LOG__fft_coefficient__attr_\"real\"__coeff_7: 0.009923\n",
      "3. Open_LOG__fft_coefficient__attr_\"angle\"__coeff_58: 0.008836\n",
      "4. Open_LOG__sum_of_reoccurring_values: 0.008206\n",
      "5. Open_LOG__change_quantiles__f_agg_\"mean\"__isabs_True__qh_1.0__ql_0.8: 0.008201\n",
      "6. Open_LOG__change_quantiles__f_agg_\"mean\"__isabs_True__qh_1.0__ql_0.2: 0.007394\n",
      "7. Open_LOG__fft_coefficient__attr_\"real\"__coeff_94: 0.007320\n",
      "8. Open_LOG__fft_coefficient__attr_\"real\"__coeff_34: 0.007298\n",
      "9. Open_LOG__change_quantiles__f_agg_\"mean\"__isabs_True__qh_1.0__ql_0.0: 0.007214\n",
      "10. Open_LOG__percentage_of_reoccurring_values_to_all_values: 0.007091\n",
      "11. Open_LOG__change_quantiles__f_agg_\"mean\"__isabs_True__qh_1.0__ql_0.6: 0.007058\n",
      "12. Open_LOG__change_quantiles__f_agg_\"var\"__isabs_False__qh_1.0__ql_0.4: 0.006988\n",
      "13. Open_LOG__fft_coefficient__attr_\"real\"__coeff_11: 0.006836\n",
      "14. Open_LOG__fft_coefficient__attr_\"real\"__coeff_90: 0.006485\n",
      "15. Open_LOG__change_quantiles__f_agg_\"mean\"__isabs_True__qh_1.0__ql_0.4: 0.006401\n",
      "16. Open_LOG__absolute_sum_of_changes: 0.006284\n",
      "17. Open_LOG__fft_coefficient__attr_\"imag\"__coeff_73: 0.006101\n",
      "18. Open_LOG__fft_coefficient__attr_\"real\"__coeff_44: 0.005971\n",
      "19. Open_LOG__fft_coefficient__attr_\"imag\"__coeff_97: 0.005838\n",
      "20. Open_LOG__change_quantiles__f_agg_\"var\"__isabs_False__qh_1.0__ql_0.6: 0.005837\n"
     ]
    }
   ],
   "source": [
    "from sklearn.model_selection import cross_val_score\n",
    "from sklearn.metrics import accuracy_score\n",
    "\n",
    "# Sonuçları büyükten küçüğe sırala\n",
    "sorted_results_desc = results.sort_values(by='scores', ascending=False)\n",
    "\n",
    "# En önemli 20 feature'ı seç\n",
    "top_20_features_rf = sorted_results_desc.index[:20]\n",
    "\n",
    "print(f\"En önemli 20 feature (Random Forest önem değerlerine göre):\")\n",
    "for i, feature in enumerate(top_20_features_rf, 1):\n",
    "    score = sorted_results_desc.loc[feature, 'scores']\n",
    "    print(f\"{i}. {feature}: {score:.6f}\")\n"
   ]
  },
  {
   "cell_type": "code",
   "execution_count": 296,
   "id": "9ee160f9-6e21-4e07-84ba-bf727ce0cbbf",
   "metadata": {},
   "outputs": [],
   "source": [
    "# Bu feature'ları kullanarak yeni veri setleri oluştur\n",
    "X_train_top20_rf = X_train[top_20_features_rf]\n",
    "X_test_top20_rf = X_test[top_20_features_rf]\n",
    "\n",
    "# Model oluştur ve eğit\n",
    "rf_model_top20 = RandomForestClassifier(random_state=10)\n",
    "rf_model_top20.fit(X_train_top20_rf, y_train)\n",
    "\n",
    "# Test seti üzerinde tahmin yap\n",
    "y_pred_top20_rf = rf_model_top20.predict(X_test_top20_rf)"
   ]
  },
  {
   "cell_type": "code",
   "execution_count": 298,
   "id": "5bb8ddb1-546b-4da1-a18f-2acccaa16557",
   "metadata": {
    "scrolled": true
   },
   "outputs": [
    {
     "name": "stdout",
     "output_type": "stream",
     "text": [
      "Lasso Selected Features (166): ['Open_LOG__sum_values', 'Open_LOG__abs_energy', 'Open_LOG__length', 'Open_LOG__longest_strike_above_mean', 'Open_LOG__count_above_mean', 'Open_LOG__count_below_mean', 'Open_LOG__sum_of_reoccurring_values', 'Open_LOG__sum_of_reoccurring_data_points', 'Open_LOG__c3__lag_1', 'Open_LOG__c3__lag_2', 'Open_LOG__c3__lag_3', 'Open_LOG__number_cwt_peaks__n_1', 'Open_LOG__number_cwt_peaks__n_5', 'Open_LOG__number_peaks__n_1', 'Open_LOG__number_peaks__n_3', 'Open_LOG__number_peaks__n_10', 'Open_LOG__spkt_welch_density__coeff_2', 'Open_LOG__fft_coefficient__attr_\"real\"__coeff_0', 'Open_LOG__fft_coefficient__attr_\"real\"__coeff_1', 'Open_LOG__fft_coefficient__attr_\"real\"__coeff_2', 'Open_LOG__fft_coefficient__attr_\"real\"__coeff_3', 'Open_LOG__fft_coefficient__attr_\"real\"__coeff_4', 'Open_LOG__fft_coefficient__attr_\"real\"__coeff_5', 'Open_LOG__fft_coefficient__attr_\"real\"__coeff_7', 'Open_LOG__fft_coefficient__attr_\"real\"__coeff_8', 'Open_LOG__fft_coefficient__attr_\"real\"__coeff_10', 'Open_LOG__fft_coefficient__attr_\"real\"__coeff_11', 'Open_LOG__fft_coefficient__attr_\"real\"__coeff_13', 'Open_LOG__fft_coefficient__attr_\"real\"__coeff_14', 'Open_LOG__fft_coefficient__attr_\"real\"__coeff_16', 'Open_LOG__fft_coefficient__attr_\"real\"__coeff_17', 'Open_LOG__fft_coefficient__attr_\"real\"__coeff_18', 'Open_LOG__fft_coefficient__attr_\"real\"__coeff_20', 'Open_LOG__fft_coefficient__attr_\"real\"__coeff_21', 'Open_LOG__fft_coefficient__attr_\"real\"__coeff_24', 'Open_LOG__fft_coefficient__attr_\"real\"__coeff_27', 'Open_LOG__fft_coefficient__attr_\"real\"__coeff_28', 'Open_LOG__fft_coefficient__attr_\"real\"__coeff_30', 'Open_LOG__fft_coefficient__attr_\"real\"__coeff_34', 'Open_LOG__fft_coefficient__attr_\"real\"__coeff_44', 'Open_LOG__fft_coefficient__attr_\"imag\"__coeff_1', 'Open_LOG__fft_coefficient__attr_\"imag\"__coeff_2', 'Open_LOG__fft_coefficient__attr_\"imag\"__coeff_3', 'Open_LOG__fft_coefficient__attr_\"imag\"__coeff_4', 'Open_LOG__fft_coefficient__attr_\"imag\"__coeff_5', 'Open_LOG__fft_coefficient__attr_\"imag\"__coeff_6', 'Open_LOG__fft_coefficient__attr_\"imag\"__coeff_7', 'Open_LOG__fft_coefficient__attr_\"imag\"__coeff_8', 'Open_LOG__fft_coefficient__attr_\"imag\"__coeff_9', 'Open_LOG__fft_coefficient__attr_\"imag\"__coeff_11', 'Open_LOG__fft_coefficient__attr_\"imag\"__coeff_12', 'Open_LOG__fft_coefficient__attr_\"imag\"__coeff_18', 'Open_LOG__fft_coefficient__attr_\"imag\"__coeff_20', 'Open_LOG__fft_coefficient__attr_\"imag\"__coeff_22', 'Open_LOG__fft_coefficient__attr_\"imag\"__coeff_23', 'Open_LOG__fft_coefficient__attr_\"imag\"__coeff_27', 'Open_LOG__fft_coefficient__attr_\"imag\"__coeff_34', 'Open_LOG__fft_coefficient__attr_\"abs\"__coeff_0', 'Open_LOG__fft_coefficient__attr_\"abs\"__coeff_1', 'Open_LOG__fft_coefficient__attr_\"abs\"__coeff_2', 'Open_LOG__fft_coefficient__attr_\"abs\"__coeff_4', 'Open_LOG__fft_coefficient__attr_\"abs\"__coeff_6', 'Open_LOG__fft_coefficient__attr_\"abs\"__coeff_9', 'Open_LOG__fft_coefficient__attr_\"abs\"__coeff_10', 'Open_LOG__fft_coefficient__attr_\"abs\"__coeff_17', 'Open_LOG__fft_coefficient__attr_\"abs\"__coeff_24', 'Open_LOG__fft_coefficient__attr_\"abs\"__coeff_25', 'Open_LOG__fft_coefficient__attr_\"angle\"__coeff_1', 'Open_LOG__fft_coefficient__attr_\"angle\"__coeff_2', 'Open_LOG__fft_coefficient__attr_\"angle\"__coeff_3', 'Open_LOG__fft_coefficient__attr_\"angle\"__coeff_4', 'Open_LOG__fft_coefficient__attr_\"angle\"__coeff_5', 'Open_LOG__fft_coefficient__attr_\"angle\"__coeff_6', 'Open_LOG__fft_coefficient__attr_\"angle\"__coeff_7', 'Open_LOG__fft_coefficient__attr_\"angle\"__coeff_8', 'Open_LOG__fft_coefficient__attr_\"angle\"__coeff_9', 'Open_LOG__fft_coefficient__attr_\"angle\"__coeff_10', 'Open_LOG__fft_coefficient__attr_\"angle\"__coeff_12', 'Open_LOG__fft_coefficient__attr_\"angle\"__coeff_13', 'Open_LOG__fft_coefficient__attr_\"angle\"__coeff_14', 'Open_LOG__fft_coefficient__attr_\"angle\"__coeff_15', 'Open_LOG__fft_coefficient__attr_\"angle\"__coeff_16', 'Open_LOG__fft_coefficient__attr_\"angle\"__coeff_17', 'Open_LOG__fft_coefficient__attr_\"angle\"__coeff_18', 'Open_LOG__fft_coefficient__attr_\"angle\"__coeff_19', 'Open_LOG__fft_coefficient__attr_\"angle\"__coeff_20', 'Open_LOG__fft_coefficient__attr_\"angle\"__coeff_21', 'Open_LOG__fft_coefficient__attr_\"angle\"__coeff_22', 'Open_LOG__fft_coefficient__attr_\"angle\"__coeff_23', 'Open_LOG__fft_coefficient__attr_\"angle\"__coeff_24', 'Open_LOG__fft_coefficient__attr_\"angle\"__coeff_25', 'Open_LOG__fft_coefficient__attr_\"angle\"__coeff_26', 'Open_LOG__fft_coefficient__attr_\"angle\"__coeff_27', 'Open_LOG__fft_coefficient__attr_\"angle\"__coeff_28', 'Open_LOG__fft_coefficient__attr_\"angle\"__coeff_29', 'Open_LOG__fft_coefficient__attr_\"angle\"__coeff_30', 'Open_LOG__fft_coefficient__attr_\"angle\"__coeff_31', 'Open_LOG__fft_coefficient__attr_\"angle\"__coeff_32', 'Open_LOG__fft_coefficient__attr_\"angle\"__coeff_33', 'Open_LOG__fft_coefficient__attr_\"angle\"__coeff_34', 'Open_LOG__fft_coefficient__attr_\"angle\"__coeff_35', 'Open_LOG__fft_coefficient__attr_\"angle\"__coeff_36', 'Open_LOG__fft_coefficient__attr_\"angle\"__coeff_37', 'Open_LOG__fft_coefficient__attr_\"angle\"__coeff_38', 'Open_LOG__fft_coefficient__attr_\"angle\"__coeff_40', 'Open_LOG__fft_coefficient__attr_\"angle\"__coeff_41', 'Open_LOG__fft_coefficient__attr_\"angle\"__coeff_42', 'Open_LOG__fft_coefficient__attr_\"angle\"__coeff_43', 'Open_LOG__fft_coefficient__attr_\"angle\"__coeff_44', 'Open_LOG__fft_coefficient__attr_\"angle\"__coeff_45', 'Open_LOG__fft_coefficient__attr_\"angle\"__coeff_46', 'Open_LOG__fft_coefficient__attr_\"angle\"__coeff_47', 'Open_LOG__fft_coefficient__attr_\"angle\"__coeff_48', 'Open_LOG__fft_coefficient__attr_\"angle\"__coeff_49', 'Open_LOG__fft_coefficient__attr_\"angle\"__coeff_50', 'Open_LOG__fft_coefficient__attr_\"angle\"__coeff_51', 'Open_LOG__fft_coefficient__attr_\"angle\"__coeff_52', 'Open_LOG__fft_coefficient__attr_\"angle\"__coeff_53', 'Open_LOG__fft_coefficient__attr_\"angle\"__coeff_54', 'Open_LOG__fft_coefficient__attr_\"angle\"__coeff_55', 'Open_LOG__fft_coefficient__attr_\"angle\"__coeff_56', 'Open_LOG__fft_coefficient__attr_\"angle\"__coeff_57', 'Open_LOG__fft_coefficient__attr_\"angle\"__coeff_58', 'Open_LOG__fft_coefficient__attr_\"angle\"__coeff_59', 'Open_LOG__fft_coefficient__attr_\"angle\"__coeff_60', 'Open_LOG__fft_coefficient__attr_\"angle\"__coeff_61', 'Open_LOG__fft_coefficient__attr_\"angle\"__coeff_62', 'Open_LOG__fft_coefficient__attr_\"angle\"__coeff_63', 'Open_LOG__fft_coefficient__attr_\"angle\"__coeff_64', 'Open_LOG__fft_coefficient__attr_\"angle\"__coeff_65', 'Open_LOG__fft_coefficient__attr_\"angle\"__coeff_66', 'Open_LOG__fft_coefficient__attr_\"angle\"__coeff_67', 'Open_LOG__fft_coefficient__attr_\"angle\"__coeff_68', 'Open_LOG__fft_coefficient__attr_\"angle\"__coeff_69', 'Open_LOG__fft_coefficient__attr_\"angle\"__coeff_70', 'Open_LOG__fft_coefficient__attr_\"angle\"__coeff_71', 'Open_LOG__fft_coefficient__attr_\"angle\"__coeff_72', 'Open_LOG__fft_coefficient__attr_\"angle\"__coeff_73', 'Open_LOG__fft_coefficient__attr_\"angle\"__coeff_74', 'Open_LOG__fft_coefficient__attr_\"angle\"__coeff_75', 'Open_LOG__fft_coefficient__attr_\"angle\"__coeff_76', 'Open_LOG__fft_coefficient__attr_\"angle\"__coeff_77', 'Open_LOG__fft_coefficient__attr_\"angle\"__coeff_78', 'Open_LOG__fft_coefficient__attr_\"angle\"__coeff_79', 'Open_LOG__fft_coefficient__attr_\"angle\"__coeff_80', 'Open_LOG__fft_coefficient__attr_\"angle\"__coeff_81', 'Open_LOG__fft_coefficient__attr_\"angle\"__coeff_82', 'Open_LOG__fft_coefficient__attr_\"angle\"__coeff_83', 'Open_LOG__fft_coefficient__attr_\"angle\"__coeff_84', 'Open_LOG__fft_coefficient__attr_\"angle\"__coeff_85', 'Open_LOG__fft_coefficient__attr_\"angle\"__coeff_86', 'Open_LOG__fft_coefficient__attr_\"angle\"__coeff_88', 'Open_LOG__fft_coefficient__attr_\"angle\"__coeff_89', 'Open_LOG__fft_coefficient__attr_\"angle\"__coeff_90', 'Open_LOG__fft_coefficient__attr_\"angle\"__coeff_91', 'Open_LOG__fft_coefficient__attr_\"angle\"__coeff_92', 'Open_LOG__fft_coefficient__attr_\"angle\"__coeff_93', 'Open_LOG__fft_coefficient__attr_\"angle\"__coeff_94', 'Open_LOG__fft_coefficient__attr_\"angle\"__coeff_95', 'Open_LOG__fft_coefficient__attr_\"angle\"__coeff_96', 'Open_LOG__fft_coefficient__attr_\"angle\"__coeff_97', 'Open_LOG__fft_coefficient__attr_\"angle\"__coeff_98', 'Open_LOG__fft_coefficient__attr_\"angle\"__coeff_99', 'Open_LOG__fft_aggregated__aggtype_\"variance\"', 'Open_LOG__range_count__max_1__min_-1', 'Open_LOG__range_count__max_1000000000000.0__min_0']\n"
     ]
    }
   ],
   "source": [
    "### 2. L1 Regularization (Lasso) ###\n",
    "lasso = LogisticRegression(penalty=\"l1\", solver=\"liblinear\", random_state=10)\n",
    "lasso.fit(X_train, y_train)\n",
    "\n",
    "# Select non-zero coefficient features\n",
    "selected_features_lasso = X_train.columns[lasso.coef_[0] != 0]\n",
    "X_train_lasso = X_train[selected_features_lasso]\n",
    "X_test_lasso = X_test[selected_features_lasso]\n",
    "\n",
    "print(f\"Lasso Selected Features ({len(selected_features_lasso)}): {list(selected_features_lasso)}\")"
   ]
  },
  {
   "cell_type": "code",
   "execution_count": 306,
   "id": "9deda067-e3f0-4285-bd9a-7eacc7277a68",
   "metadata": {},
   "outputs": [
    {
     "name": "stdout",
     "output_type": "stream",
     "text": [
      "En önemli 20 feature (Lasso katsayılarına göre):\n",
      "1. Open_LOG__fft_coefficient__attr_\"real\"__coeff_44: 2.795158\n",
      "2. Open_LOG__fft_coefficient__attr_\"real\"__coeff_34: 1.144467\n",
      "3. Open_LOG__fft_coefficient__attr_\"real\"__coeff_18: 0.940388\n",
      "4. Open_LOG__fft_coefficient__attr_\"real\"__coeff_17: 0.752983\n",
      "5. Open_LOG__fft_coefficient__attr_\"imag\"__coeff_20: 0.749958\n",
      "6. Open_LOG__fft_coefficient__attr_\"real\"__coeff_24: 0.662814\n",
      "7. Open_LOG__fft_coefficient__attr_\"real\"__coeff_20: 0.480475\n",
      "8. Open_LOG__fft_coefficient__attr_\"imag\"__coeff_18: 0.461297\n",
      "9. Open_LOG__fft_coefficient__attr_\"abs\"__coeff_25: 0.423871\n",
      "10. Open_LOG__fft_coefficient__attr_\"abs\"__coeff_10: 0.419204\n",
      "11. Open_LOG__fft_coefficient__attr_\"imag\"__coeff_8: 0.413403\n",
      "12. Open_LOG__fft_coefficient__attr_\"real\"__coeff_16: 0.370956\n",
      "13. Open_LOG__fft_coefficient__attr_\"imag\"__coeff_2: 0.338724\n",
      "14. Open_LOG__fft_coefficient__attr_\"real\"__coeff_11: 0.326932\n",
      "15. Open_LOG__fft_coefficient__attr_\"imag\"__coeff_27: 0.321631\n",
      "16. Open_LOG__fft_coefficient__attr_\"imag\"__coeff_7: 0.301130\n",
      "17. Open_LOG__fft_coefficient__attr_\"abs\"__coeff_24: 0.281229\n",
      "18. Open_LOG__fft_coefficient__attr_\"imag\"__coeff_4: 0.277839\n",
      "19. Open_LOG__fft_coefficient__attr_\"real\"__coeff_28: 0.274034\n",
      "20. Open_LOG__fft_coefficient__attr_\"real\"__coeff_7: 0.271834\n"
     ]
    }
   ],
   "source": [
    "### 2. L1 Regularization (Lasso) için özellik önem değerlerini hesaplayalım ###\n",
    "# L1 katsayılarının mutlak değerlerini alarak özellik önem sıralaması oluştur\n",
    "feature_importance_lasso = pd.DataFrame({\n",
    "    'scores': np.abs(lasso.coef_[0]),\n",
    "    'names': X_train.columns\n",
    "})\n",
    "feature_importance_lasso = feature_importance_lasso.set_index('names')\n",
    "\n",
    "# Sonuçları büyükten küçüğe sırala\n",
    "sorted_results_lasso_desc = feature_importance_lasso.sort_values(by='scores', ascending=False)\n",
    "\n",
    "# En önemli 20 feature'ı seç\n",
    "top_20_features_lasso = sorted_results_lasso_desc.index[:20]\n",
    "print(f\"En önemli 20 feature (Lasso katsayılarına göre):\")\n",
    "for i, feature in enumerate(top_20_features_lasso, 1):\n",
    "    score = sorted_results_lasso_desc.loc[feature, 'scores']\n",
    "    print(f\"{i}. {feature}: {score:.6f}\")"
   ]
  },
  {
   "cell_type": "code",
   "execution_count": 308,
   "id": "e0b41619-a956-4c2d-afc8-e37a1182ba52",
   "metadata": {},
   "outputs": [
    {
     "name": "stderr",
     "output_type": "stream",
     "text": [
      "D:\\Anaconda\\Lib\\site-packages\\sklearn\\linear_model\\_logistic.py:460: ConvergenceWarning: lbfgs failed to converge (status=1):\n",
      "STOP: TOTAL NO. of ITERATIONS REACHED LIMIT.\n",
      "\n",
      "Increase the number of iterations (max_iter) or scale the data as shown in:\n",
      "    https://scikit-learn.org/stable/modules/preprocessing.html\n",
      "Please also refer to the documentation for alternative solver options:\n",
      "    https://scikit-learn.org/stable/modules/linear_model.html#logistic-regression\n",
      "  n_iter_i = _check_optimize_result(\n"
     ]
    }
   ],
   "source": [
    "# Bu feature'ları kullanarak yeni veri setleri oluştur\n",
    "X_train_top20_lasso = X_train[top_20_features_lasso]\n",
    "X_test_top20_lasso = X_test[top_20_features_lasso]\n",
    "\n",
    "# Model oluştur ve eğit (Lojistik Regresyon kullanıyoruz çünkü Lasso bir özellik seçim yöntemidir)\n",
    "lr_model_top20 = LogisticRegression(random_state=10)\n",
    "lr_model_top20.fit(X_train_top20_lasso, y_train)\n",
    "\n",
    "# Test seti üzerinde tahmin yap\n",
    "y_pred_top20_lasso = lr_model_top20.predict(X_test_top20_lasso)"
   ]
  },
  {
   "cell_type": "code",
   "execution_count": 310,
   "id": "11e2ef4b-379e-4b36-bf4a-d07b36258a79",
   "metadata": {
    "scrolled": true
   },
   "outputs": [
    {
     "name": "stdout",
     "output_type": "stream",
     "text": [
      "\n",
      "En önemli 20 feature kullanılarak elde edilen doğruluk: 0.7167\n",
      "Çapraz doğrulama skorları: [0.70833333 0.70138889 0.625      0.69444444 0.69444444]\n",
      "Ortalama çapraz doğrulama skoru: 0.6847\n",
      "\n",
      "En önemli 20 feature kullanılarak elde edilen doğruluk (Lasso): 0.6944\n",
      "Çapraz doğrulama skorları (Lasso): [0.72222222 0.76388889 0.75694444 0.68055556 0.72222222]\n",
      "Ortalama çapraz doğrulama skoru (Lasso): 0.7292\n"
     ]
    },
    {
     "name": "stderr",
     "output_type": "stream",
     "text": [
      "D:\\Anaconda\\Lib\\site-packages\\sklearn\\linear_model\\_logistic.py:460: ConvergenceWarning: lbfgs failed to converge (status=1):\n",
      "STOP: TOTAL NO. of ITERATIONS REACHED LIMIT.\n",
      "\n",
      "Increase the number of iterations (max_iter) or scale the data as shown in:\n",
      "    https://scikit-learn.org/stable/modules/preprocessing.html\n",
      "Please also refer to the documentation for alternative solver options:\n",
      "    https://scikit-learn.org/stable/modules/linear_model.html#logistic-regression\n",
      "  n_iter_i = _check_optimize_result(\n",
      "D:\\Anaconda\\Lib\\site-packages\\sklearn\\linear_model\\_logistic.py:460: ConvergenceWarning: lbfgs failed to converge (status=1):\n",
      "STOP: TOTAL NO. of ITERATIONS REACHED LIMIT.\n",
      "\n",
      "Increase the number of iterations (max_iter) or scale the data as shown in:\n",
      "    https://scikit-learn.org/stable/modules/preprocessing.html\n",
      "Please also refer to the documentation for alternative solver options:\n",
      "    https://scikit-learn.org/stable/modules/linear_model.html#logistic-regression\n",
      "  n_iter_i = _check_optimize_result(\n",
      "D:\\Anaconda\\Lib\\site-packages\\sklearn\\linear_model\\_logistic.py:460: ConvergenceWarning: lbfgs failed to converge (status=1):\n",
      "STOP: TOTAL NO. of ITERATIONS REACHED LIMIT.\n",
      "\n",
      "Increase the number of iterations (max_iter) or scale the data as shown in:\n",
      "    https://scikit-learn.org/stable/modules/preprocessing.html\n",
      "Please also refer to the documentation for alternative solver options:\n",
      "    https://scikit-learn.org/stable/modules/linear_model.html#logistic-regression\n",
      "  n_iter_i = _check_optimize_result(\n",
      "D:\\Anaconda\\Lib\\site-packages\\sklearn\\linear_model\\_logistic.py:460: ConvergenceWarning: lbfgs failed to converge (status=1):\n",
      "STOP: TOTAL NO. of ITERATIONS REACHED LIMIT.\n",
      "\n",
      "Increase the number of iterations (max_iter) or scale the data as shown in:\n",
      "    https://scikit-learn.org/stable/modules/preprocessing.html\n",
      "Please also refer to the documentation for alternative solver options:\n",
      "    https://scikit-learn.org/stable/modules/linear_model.html#logistic-regression\n",
      "  n_iter_i = _check_optimize_result(\n",
      "D:\\Anaconda\\Lib\\site-packages\\sklearn\\linear_model\\_logistic.py:460: ConvergenceWarning: lbfgs failed to converge (status=1):\n",
      "STOP: TOTAL NO. of ITERATIONS REACHED LIMIT.\n",
      "\n",
      "Increase the number of iterations (max_iter) or scale the data as shown in:\n",
      "    https://scikit-learn.org/stable/modules/preprocessing.html\n",
      "Please also refer to the documentation for alternative solver options:\n",
      "    https://scikit-learn.org/stable/modules/linear_model.html#logistic-regression\n",
      "  n_iter_i = _check_optimize_result(\n"
     ]
    }
   ],
   "source": [
    "# Doğruluk (accuracy) hesapla RFE\n",
    "accuracy_top20_rf = accuracy_score(y_test, y_pred_top20_rf)\n",
    "print(f\"\\nEn önemli 20 feature kullanılarak elde edilen doğruluk: {accuracy_top20_rf:.4f}\")\n",
    "\n",
    "# Çapraz doğrulama yap RFE\n",
    "cv_scores_top20_rf = cross_val_score(rf_model_top20, X_train_top20_rf, y_train, cv=5, scoring='accuracy')\n",
    "print(f\"Çapraz doğrulama skorları: {cv_scores_top20_rf}\")\n",
    "print(f\"Ortalama çapraz doğrulama skoru: {cv_scores_top20_rf.mean():.4f}\")\n",
    "\n",
    "#------------------------------------------------------------------------------------------------------------------------\n",
    "\n",
    "# Doğruluk (accuracy) hesapla Lasoo\n",
    "accuracy_top20_lasso = accuracy_score(y_test, y_pred_top20_lasso)\n",
    "print(f\"\\nEn önemli 20 feature kullanılarak elde edilen doğruluk (Lasso): {accuracy_top20_lasso:.4f}\")\n",
    "\n",
    "# Çapraz doğrulama yap Lasso\n",
    "cv_scores_top20_lasso = cross_val_score(lr_model_top20, X_train_top20_lasso, y_train, cv=5, scoring='accuracy')\n",
    "print(f\"Çapraz doğrulama skorları (Lasso): {cv_scores_top20_lasso}\")\n",
    "print(f\"Ortalama çapraz doğrulama skoru (Lasso): {cv_scores_top20_lasso.mean():.4f}\")"
   ]
  },
  {
   "cell_type": "code",
   "execution_count": 312,
   "id": "405cf9f7-8d60-4c94-ae89-7ee8e768b0a4",
   "metadata": {},
   "outputs": [
    {
     "name": "stderr",
     "output_type": "stream",
     "text": [
      "C:\\Users\\only_\\AppData\\Local\\Temp\\ipykernel_8136\\151639754.py:15: UserWarning: Tight layout not applied. The bottom and top margins cannot be made large enough to accommodate all axes decorations.\n",
      "  plt.tight_layout()\n"
     ]
    },
    {
     "data": {
      "text/plain": [
       "<Figure size 1400x600 with 0 Axes>"
      ]
     },
     "metadata": {},
     "output_type": "display_data"
    },
    {
     "data": {
      "image/png": "[encoded data removed]",
      "text/plain": [
       "<Figure size 640x480 with 1 Axes>"
      ]
     },
     "metadata": {},
     "output_type": "display_data"
    }
   ],
   "source": [
    "# Feature importance values for RFE (Random Forest)\n",
    "results_of_20_best_feature = pd.DataFrame(\n",
    "    data=selector_rfe.estimator_.feature_importances_[:20],\n",
    "    index=selected_features_rfe[:20],\n",
    "    columns=['scores']\n",
    ")\n",
    "# Visualize importance scores\n",
    "plt.figure(figsize=(14, 6))\n",
    "results_of_20_best_feature.sort_values(by='scores', ascending=False).plot.bar(\n",
    "    title='Özellik Önem Skorları - RFE (Random Forest)'\n",
    ")\n",
    "plt.xlabel('Değişkenler')\n",
    "plt.ylabel('RF Scores')\n",
    "plt.xticks(rotation=90)\n",
    "plt.tight_layout()\n",
    "plt.show()"
   ]
  },
  {
   "cell_type": "code",
   "execution_count": 173,
   "id": "271d50ce-507f-457d-9326-ac1561d3e68c",
   "metadata": {
    "scrolled": true
   },
   "outputs": [
    {
     "data": {
      "text/html": [
       "<div>\n",
       "<style scoped>\n",
       "    .dataframe tbody tr th:only-of-type {\n",
       "        vertical-align: middle;\n",
       "    }\n",
       "\n",
       "    .dataframe tbody tr th {\n",
       "        vertical-align: top;\n",
       "    }\n",
       "\n",
       "    .dataframe thead th {\n",
       "        text-align: right;\n",
       "    }\n",
       "</style>\n",
       "<table border=\"1\" class=\"dataframe\">\n",
       "  <thead>\n",
       "    <tr style=\"text-align: right;\">\n",
       "      <th></th>\n",
       "      <th>scores</th>\n",
       "    </tr>\n",
       "  </thead>\n",
       "  <tbody>\n",
       "    <tr>\n",
       "      <th>Open_LOG__abs_energy</th>\n",
       "      <td>0.001734</td>\n",
       "    </tr>\n",
       "    <tr>\n",
       "      <th>Open_LOG__mean_abs_change</th>\n",
       "      <td>0.009998</td>\n",
       "    </tr>\n",
       "    <tr>\n",
       "      <th>Open_LOG__mean_second_derivative_central</th>\n",
       "      <td>0.001394</td>\n",
       "    </tr>\n",
       "    <tr>\n",
       "      <th>Open_LOG__median</th>\n",
       "      <td>0.002302</td>\n",
       "    </tr>\n",
       "    <tr>\n",
       "      <th>Open_LOG__variance</th>\n",
       "      <td>0.002074</td>\n",
       "    </tr>\n",
       "    <tr>\n",
       "      <th>Open_LOG__skewness</th>\n",
       "      <td>0.000933</td>\n",
       "    </tr>\n",
       "    <tr>\n",
       "      <th>Open_LOG__kurtosis</th>\n",
       "      <td>0.001612</td>\n",
       "    </tr>\n",
       "    <tr>\n",
       "      <th>Open_LOG__absolute_sum_of_changes</th>\n",
       "      <td>0.006284</td>\n",
       "    </tr>\n",
       "    <tr>\n",
       "      <th>Open_LOG__longest_strike_above_mean</th>\n",
       "      <td>0.001458</td>\n",
       "    </tr>\n",
       "    <tr>\n",
       "      <th>Open_LOG__count_below_mean</th>\n",
       "      <td>0.001547</td>\n",
       "    </tr>\n",
       "    <tr>\n",
       "      <th>Open_LOG__last_location_of_maximum</th>\n",
       "      <td>0.002258</td>\n",
       "    </tr>\n",
       "    <tr>\n",
       "      <th>Open_LOG__first_location_of_maximum</th>\n",
       "      <td>0.002444</td>\n",
       "    </tr>\n",
       "    <tr>\n",
       "      <th>Open_LOG__last_location_of_minimum</th>\n",
       "      <td>0.002196</td>\n",
       "    </tr>\n",
       "    <tr>\n",
       "      <th>Open_LOG__percentage_of_reoccurring_values_to_all_values</th>\n",
       "      <td>0.007091</td>\n",
       "    </tr>\n",
       "    <tr>\n",
       "      <th>Open_LOG__percentage_of_reoccurring_datapoints_to_all_datapoints</th>\n",
       "      <td>0.000773</td>\n",
       "    </tr>\n",
       "    <tr>\n",
       "      <th>Open_LOG__sum_of_reoccurring_values</th>\n",
       "      <td>0.008206</td>\n",
       "    </tr>\n",
       "    <tr>\n",
       "      <th>Open_LOG__sum_of_reoccurring_data_points</th>\n",
       "      <td>0.003503</td>\n",
       "    </tr>\n",
       "    <tr>\n",
       "      <th>Open_LOG__c3__lag_1</th>\n",
       "      <td>0.001553</td>\n",
       "    </tr>\n",
       "    <tr>\n",
       "      <th>Open_LOG__cid_ce__normalize_True</th>\n",
       "      <td>0.001667</td>\n",
       "    </tr>\n",
       "    <tr>\n",
       "      <th>Open_LOG__cid_ce__normalize_False</th>\n",
       "      <td>0.004490</td>\n",
       "    </tr>\n",
       "  </tbody>\n",
       "</table>\n",
       "</div>"
      ],
      "text/plain": [
       "                                                      scores\n",
       "Open_LOG__abs_energy                                0.001734\n",
       "Open_LOG__mean_abs_change                           0.009998\n",
       "Open_LOG__mean_second_derivative_central            0.001394\n",
       "Open_LOG__median                                    0.002302\n",
       "Open_LOG__variance                                  0.002074\n",
       "Open_LOG__skewness                                  0.000933\n",
       "Open_LOG__kurtosis                                  0.001612\n",
       "Open_LOG__absolute_sum_of_changes                   0.006284\n",
       "Open_LOG__longest_strike_above_mean                 0.001458\n",
       "Open_LOG__count_below_mean                          0.001547\n",
       "Open_LOG__last_location_of_maximum                  0.002258\n",
       "Open_LOG__first_location_of_maximum                 0.002444\n",
       "Open_LOG__last_location_of_minimum                  0.002196\n",
       "Open_LOG__percentage_of_reoccurring_values_to_a...  0.007091\n",
       "Open_LOG__percentage_of_reoccurring_datapoints_...  0.000773\n",
       "Open_LOG__sum_of_reoccurring_values                 0.008206\n",
       "Open_LOG__sum_of_reoccurring_data_points            0.003503\n",
       "Open_LOG__c3__lag_1                                 0.001553\n",
       "Open_LOG__cid_ce__normalize_True                    0.001667\n",
       "Open_LOG__cid_ce__normalize_False                   0.004490"
      ]
     },
     "execution_count": 173,
     "metadata": {},
     "output_type": "execute_result"
    }
   ],
   "source": [
    "results_of_20_best_feature"
   ]
  },
  {
   "cell_type": "code",
   "execution_count": 123,
   "id": "a9e2b58b-8c5b-4245-a8f5-c79e9552959d",
   "metadata": {},
   "outputs": [
    {
     "name": "stdout",
     "output_type": "stream",
     "text": [
      "Modeller şu dizine kaydedildi: ../trained_models/\n"
     ]
    }
   ],
   "source": [
    "import os\n",
    "import joblib  # Modeli yüklemek için\n",
    "\n",
    "# Kayıt dizinini oluştur (eğer yoksa)\n",
    "save_dir = \"../trained_models/\"\n",
    "os.makedirs(save_dir, exist_ok=True)\n",
    "\n",
    "# Random Forest modelini kaydet\n",
    "rf_model_path = os.path.join(save_dir, \"rf_model_top20.pkl\")\n",
    "joblib.dump(rf_model_top20, rf_model_path)\n",
    "\n",
    "# Logistic Regression modelini kaydet\n",
    "lr_model_path = os.path.join(save_dir, \"lr_model_top20_lasso.pkl\")\n",
    "joblib.dump(lr_model_top20, lr_model_path)\n",
    "\n",
    "print(f\"Modeller şu dizine kaydedildi: {save_dir}\")"
   ]
  },
  {
   "cell_type": "markdown",
   "id": "c5cb8003-3be9-4d78-90cb-5be5af44cf39",
   "metadata": {},
   "source": [
    "# Model Geliştirme"
   ]
  },
  {
   "cell_type": "code",
   "execution_count": 330,
   "id": "f96c0904-bfa4-4e00-a801-16d8d7d62839",
   "metadata": {},
   "outputs": [],
   "source": [
    "# Gerekli kütüphaneleri içe aktaralım\n",
    "from sklearn.linear_model import LogisticRegression\n",
    "from sklearn.svm import SVC\n",
    "from sklearn.ensemble import RandomForestClassifier, GradientBoostingClassifier, AdaBoostClassifier\n",
    "from sklearn.neural_network import MLPClassifier\n",
    "from xgboost import XGBClassifier\n",
    "from sklearn.linear_model import RidgeClassifier\n",
    "from sklearn.neighbors import KNeighborsClassifier\n",
    "from sklearn.naive_bayes import GaussianNB"
   ]
  },
  {
   "cell_type": "code",
   "execution_count": 332,
   "id": "04a81fbc-0dc5-4822-b5d0-e2f02b83f465",
   "metadata": {},
   "outputs": [],
   "source": [
    "# Label encoding (eğer label'lar string ise)\n",
    "label_encoder = LabelEncoder()\n",
    "y_train_encoded = label_encoder.fit_transform(y_train)\n",
    "y_test_encoded = label_encoder.transform(y_test)"
   ]
  },
  {
   "cell_type": "code",
   "execution_count": 334,
   "id": "841be426-92d9-4c5d-be9c-d1bbd3b9bd3e",
   "metadata": {},
   "outputs": [],
   "source": [
    "# Farklı modelleri tanımla\n",
    "models = {\n",
    "    # Temel modeller\n",
    "    \"Logistic Regression\": LogisticRegression(max_iter=1000, random_state=0),\n",
    "    \"SVC\": SVC(random_state=0, probability=True),\n",
    "    \"Random Forest\": RandomForestClassifier(n_estimators=100, random_state=10),\n",
    "    \"Gradient Boosting\": GradientBoostingClassifier(n_estimators=100, random_state=10),\n",
    "    \n",
    "    # Gelişmiş modeller\n",
    "    \"XGBoost\": XGBClassifier(n_estimators=100, random_state=10, use_label_encoder=False, eval_metric='logloss'),\n",
    "    \"MLP Classifier\": MLPClassifier(hidden_layer_sizes=(100, 50), max_iter=1000, random_state=0),\n",
    "    \n",
    "    # Ek modeller\n",
    "    \"AdaBoost\": AdaBoostClassifier(n_estimators=100, random_state=10),\n",
    "    \"Ridge Classifier\": RidgeClassifier(random_state=0),\n",
    "    \"KNeighbors\": KNeighborsClassifier(n_neighbors=5),\n",
    "    \"Gaussian NB\": GaussianNB()\n",
    "}"
   ]
  },
  {
   "cell_type": "code",
   "execution_count": 336,
   "id": "de8298ec-11f1-47ee-bab6-8ca4374a1aea",
   "metadata": {
    "scrolled": true
   },
   "outputs": [
    {
     "name": "stdout",
     "output_type": "stream",
     "text": [
      "\n",
      "Logistic Regression eğitiliyor...\n"
     ]
    },
    {
     "name": "stderr",
     "output_type": "stream",
     "text": [
      "D:\\Anaconda\\Lib\\site-packages\\sklearn\\linear_model\\_logistic.py:460: ConvergenceWarning: lbfgs failed to converge (status=1):\n",
      "STOP: TOTAL NO. of ITERATIONS REACHED LIMIT.\n",
      "\n",
      "Increase the number of iterations (max_iter) or scale the data as shown in:\n",
      "    https://scikit-learn.org/stable/modules/preprocessing.html\n",
      "Please also refer to the documentation for alternative solver options:\n",
      "    https://scikit-learn.org/stable/modules/linear_model.html#logistic-regression\n",
      "  n_iter_i = _check_optimize_result(\n"
     ]
    },
    {
     "name": "stdout",
     "output_type": "stream",
     "text": [
      "Logistic Regression kaydedildi: ../trained_models/Logistic_Regression.pkl\n",
      "Logistic Regression Accuracy: 0.7111\n",
      "              precision    recall  f1-score   support\n",
      "\n",
      "           0       0.81      0.75      0.77        83\n",
      "           1       0.70      0.62      0.66        48\n",
      "           2       0.60      0.73      0.66        49\n",
      "\n",
      "    accuracy                           0.71       180\n",
      "   macro avg       0.70      0.70      0.70       180\n",
      "weighted avg       0.72      0.71      0.71       180\n",
      "\n",
      "\n",
      "SVC eğitiliyor...\n",
      "SVC kaydedildi: ../trained_models/SVC.pkl\n",
      "SVC Accuracy: 0.5944\n",
      "              precision    recall  f1-score   support\n",
      "\n",
      "           0       0.68      0.77      0.72        83\n",
      "           1       0.57      0.25      0.35        48\n",
      "           2       0.48      0.63      0.54        49\n",
      "\n",
      "    accuracy                           0.59       180\n",
      "   macro avg       0.58      0.55      0.54       180\n",
      "weighted avg       0.60      0.59      0.57       180\n",
      "\n",
      "\n",
      "Random Forest eğitiliyor...\n",
      "Random Forest kaydedildi: ../trained_models/Random_Forest.pkl\n",
      "Random Forest Accuracy: 0.7556\n",
      "              precision    recall  f1-score   support\n",
      "\n",
      "           0       0.86      0.82      0.84        83\n",
      "           1       0.81      0.62      0.71        48\n",
      "           2       0.59      0.78      0.67        49\n",
      "\n",
      "    accuracy                           0.76       180\n",
      "   macro avg       0.76      0.74      0.74       180\n",
      "weighted avg       0.77      0.76      0.76       180\n",
      "\n",
      "\n",
      "Gradient Boosting eğitiliyor...\n",
      "Gradient Boosting kaydedildi: ../trained_models/Gradient_Boosting.pkl\n",
      "Gradient Boosting Accuracy: 0.8167\n",
      "              precision    recall  f1-score   support\n",
      "\n",
      "           0       0.89      0.87      0.88        83\n",
      "           1       0.81      0.79      0.80        48\n",
      "           2       0.71      0.76      0.73        49\n",
      "\n",
      "    accuracy                           0.82       180\n",
      "   macro avg       0.80      0.80      0.80       180\n",
      "weighted avg       0.82      0.82      0.82       180\n",
      "\n",
      "\n",
      "XGBoost eğitiliyor...\n"
     ]
    },
    {
     "name": "stderr",
     "output_type": "stream",
     "text": [
      "D:\\Anaconda\\Lib\\site-packages\\xgboost\\core.py:158: UserWarning: [16:09:26] WARNING: C:\\buildkite-agent\\builds\\buildkite-windows-cpu-autoscaling-group-i-08cbc0333d8d4aae1-1\\xgboost\\xgboost-ci-windows\\src\\learner.cc:740: \n",
      "Parameters: { \"use_label_encoder\" } are not used.\n",
      "\n",
      "  warnings.warn(smsg, UserWarning)\n"
     ]
    },
    {
     "name": "stdout",
     "output_type": "stream",
     "text": [
      "XGBoost kaydedildi: ../trained_models/XGBoost.pkl\n",
      "XGBoost Accuracy: 0.8056\n",
      "              precision    recall  f1-score   support\n",
      "\n",
      "           0       0.89      0.88      0.88        83\n",
      "           1       0.82      0.75      0.78        48\n",
      "           2       0.67      0.73      0.70        49\n",
      "\n",
      "    accuracy                           0.81       180\n",
      "   macro avg       0.79      0.79      0.79       180\n",
      "weighted avg       0.81      0.81      0.81       180\n",
      "\n",
      "\n",
      "MLP Classifier eğitiliyor...\n",
      "MLP Classifier kaydedildi: ../trained_models/MLP_Classifier.pkl\n",
      "MLP Classifier Accuracy: 0.5611\n",
      "              precision    recall  f1-score   support\n",
      "\n",
      "           0       0.71      0.64      0.67        83\n",
      "           1       0.45      0.52      0.48        48\n",
      "           2       0.47      0.47      0.47        49\n",
      "\n",
      "    accuracy                           0.56       180\n",
      "   macro avg       0.54      0.54      0.54       180\n",
      "weighted avg       0.57      0.56      0.57       180\n",
      "\n",
      "\n",
      "AdaBoost eğitiliyor...\n",
      "AdaBoost kaydedildi: ../trained_models/AdaBoost.pkl\n",
      "AdaBoost Accuracy: 0.7278\n",
      "              precision    recall  f1-score   support\n",
      "\n",
      "           0       0.88      0.80      0.84        83\n",
      "           1       0.88      0.46      0.60        48\n",
      "           2       0.54      0.88      0.67        49\n",
      "\n",
      "    accuracy                           0.73       180\n",
      "   macro avg       0.77      0.71      0.70       180\n",
      "weighted avg       0.79      0.73      0.73       180\n",
      "\n",
      "\n",
      "Ridge Classifier eğitiliyor...\n",
      "Ridge Classifier kaydedildi: ../trained_models/Ridge_Classifier.pkl\n",
      "Ridge Classifier Accuracy: 0.7944\n",
      "              precision    recall  f1-score   support\n",
      "\n",
      "           0       0.88      0.88      0.88        83\n",
      "           1       0.80      0.67      0.73        48\n",
      "           2       0.67      0.78      0.72        49\n",
      "\n",
      "    accuracy                           0.79       180\n",
      "   macro avg       0.78      0.77      0.77       180\n",
      "weighted avg       0.80      0.79      0.79       180\n",
      "\n",
      "\n",
      "KNeighbors eğitiliyor...\n",
      "KNeighbors kaydedildi: ../trained_models/KNeighbors.pkl\n",
      "KNeighbors Accuracy: 0.4833\n",
      "              precision    recall  f1-score   support\n",
      "\n",
      "           0       0.59      0.72      0.65        83\n",
      "           1       0.38      0.31      0.34        48\n",
      "           2       0.31      0.24      0.27        49\n",
      "\n",
      "    accuracy                           0.48       180\n",
      "   macro avg       0.43      0.43      0.42       180\n",
      "weighted avg       0.46      0.48      0.47       180\n",
      "\n",
      "\n",
      "Gaussian NB eğitiliyor...\n",
      "Gaussian NB kaydedildi: ../trained_models/Gaussian_NB.pkl\n",
      "Gaussian NB Accuracy: 0.6000\n",
      "              precision    recall  f1-score   support\n",
      "\n",
      "           0       0.65      0.77      0.71        83\n",
      "           1       0.49      0.42      0.45        48\n",
      "           2       0.59      0.49      0.53        49\n",
      "\n",
      "    accuracy                           0.60       180\n",
      "   macro avg       0.58      0.56      0.56       180\n",
      "weighted avg       0.59      0.60      0.59       180\n",
      "\n",
      "\n",
      "En iyi model: Gradient Boosting (Accuracy: 0.8167)\n"
     ]
    }
   ],
   "source": [
    "import os\n",
    "import joblib  # Modeli yüklemek için\n",
    "\n",
    "# Kayıt dizinini oluştur (eğer yoksa)\n",
    "save_dir = \"../trained_models/\"\n",
    "os.makedirs(save_dir, exist_ok=True)\n",
    "\n",
    "# Sonuçları tutacak liste\n",
    "results = []\n",
    "\n",
    "# Her modeli eğit, test et ve accuracy score hesapla\n",
    "for model_name, model in models.items():\n",
    "    print(f\"\\n{model_name} eğitiliyor...\")\n",
    "    model.fit(X_train_rfe, y_train_encoded)  # Modeli eğit\n",
    "    y_pred = model.predict(X_test_rfe)  # Test verisiyle tahmin yap\n",
    "    \n",
    "    # Model dosya adını oluştur ve kaydet\n",
    "    model_filename = os.path.join(save_dir, f\"{model_name.replace(' ', '_')}.pkl\")\n",
    "    joblib.dump(model, model_filename)  # Modeli kaydet\n",
    "    print(f\"{model_name} kaydedildi: {model_filename}\")\n",
    "    \n",
    "    acc = accuracy_score(y_test_encoded, y_pred)  # Accuracy hesapla\n",
    "    print(f\"{model_name} Accuracy: {acc:.4f}\")\n",
    "    \n",
    "    target_names = [str(cls) for cls in label_encoder.classes_]\n",
    "    # Classification report yazdır\n",
    "    print(classification_report(y_test_encoded, y_pred, target_names=target_names))\n",
    "    \n",
    "    # Sonuçları sakla\n",
    "    results.append((model_name, acc))\n",
    "\n",
    "# En iyi modeli bul\n",
    "best_model = max(results, key=lambda x: x[1])\n",
    "print(f\"\\nEn iyi model: {best_model[0]} (Accuracy: {best_model[1]:.4f})\")"
   ]
  },
  {
   "cell_type": "code",
   "execution_count": 337,
   "id": "4c2e40e2-a7d2-46a9-bf1f-39f1a4343ea3",
   "metadata": {},
   "outputs": [
    {
     "name": "stdout",
     "output_type": "stream",
     "text": [
      "\n",
      "Model Performances:\n",
      "                 Model  Test Accuracy\n",
      "3    Gradient Boosting       0.816667\n",
      "4              XGBoost       0.805556\n",
      "7     Ridge Classifier       0.794444\n",
      "2        Random Forest       0.755556\n",
      "6             AdaBoost       0.727778\n",
      "0  Logistic Regression       0.711111\n",
      "9          Gaussian NB       0.600000\n",
      "1                  SVC       0.594444\n",
      "5       MLP Classifier       0.561111\n",
      "8           KNeighbors       0.483333\n"
     ]
    }
   ],
   "source": [
    "# Sonuçları DataFrame olarak göster\n",
    "results_df = pd.DataFrame(results, columns=[\"Model\", \"Test Accuracy\"])\n",
    "print(\"\\nModel Performances:\")\n",
    "print(results_df.sort_values(by=\"Test Accuracy\", ascending=False))"
   ]
  },
  {
   "cell_type": "markdown",
   "id": "63e3b545-a36c-4d57-adff-c41d992e4746",
   "metadata": {},
   "source": [
    "- En iyi sonucu Gradient Boosting verdiği için bu model ile devam edeceğim ve bu modeli geliştirmek için Hiperparametre Optimizasyonu ve Cross-Validation işlemleri yapacağım"
   ]
  },
  {
   "cell_type": "markdown",
   "id": "81ea32be-9f58-4080-a703-149c30486401",
   "metadata": {},
   "source": [
    "# **Sektörel Benzerlik Analizi**"
   ]
  },
  {
   "cell_type": "code",
   "execution_count": 198,
   "id": "33724932-9f67-4ea1-8689-b639ccbe7aa1",
   "metadata": {},
   "outputs": [],
   "source": [
    "from sklearn.pipeline import Pipeline\n",
    "from sklearn.preprocessing import FunctionTransformer\n",
    "import tsfresh\n",
    "from tsfresh.feature_extraction import EfficientFCParameters\n",
    "import joblib  # Modeli yüklemek için"
   ]
  },
  {
   "cell_type": "code",
   "execution_count": 258,
   "id": "c3ad7d3b-86b6-4fd0-898c-d05e3a3a3f82",
   "metadata": {},
   "outputs": [],
   "source": [
    "# --- 1. Veri İşleme Fonksiyonları ---\n",
    "def preprocess_open_values(df):\n",
    "    \"\"\" Open değerlerini işleyip log dönüşümü uygular ve 2005'ten itibaren filtreler. \"\"\"\n",
    "    df_data = yf.download(df, start='2005-01-01')\n",
    "\n",
    "    df_open_data = df_data['Open'] # Sadece open verisini al\n",
    "    df_open_data = df_open_data.ffill().fillna(0) # İlk ffill, sonra bütün boş değerleri 0 ile doldur\n",
    "    df_open_data = df_open_data.resample('M').first() # Günlük verileri aylığa çevir.\n",
    "\n",
    "    df_open_data_long = df_open_data.reset_index().melt(id_vars='Date', var_name='Ticker', value_name='Open') # Long türüne çevir\n",
    "\n",
    "    df_open_data_long['Open_LOG'] = np.log1p(df_open_data_long['Open']) # Open değerlerinin, Log1/y değerini al\n",
    "    return df_open_data_long[['Date', 'Ticker', 'Open_LOG']]"
   ]
  },
  {
   "cell_type": "code",
   "execution_count": 260,
   "id": "ebac1527-65f6-4cc4-9f2f-e1d35161ebf5",
   "metadata": {},
   "outputs": [],
   "source": [
    "# --- 2. Özellik Çıkarma Fonksiyonu ---\n",
    "def extract_features(df):\n",
    "    \"\"\" Open_LOG üzerinden özellik çıkarır ve seçili olanları döndürür. \"\"\"\n",
    "    features = tsfresh.extract_features(\n",
    "        df,\n",
    "        column_id='Ticker',\n",
    "        column_sort='Date',\n",
    "        column_value='Open_LOG',\n",
    "        default_fc_parameters=EfficientFCParameters()\n",
    "    )\n",
    "\n",
    "    return features[selected_features_rfe]"
   ]
  },
  {
   "cell_type": "code",
   "execution_count": 262,
   "id": "051676a1-a730-4e77-bbbb-43e73a8a7e18",
   "metadata": {},
   "outputs": [],
   "source": [
    "# --- 3. Pipeline Tanımlama ---\n",
    "data_pipeline = Pipeline([\n",
    "    ('preprocessing', FunctionTransformer(preprocess_open_values)),  # Open işlemleri\n",
    "    ('feature_extraction', FunctionTransformer(extract_features)),  # Tsfresh özellik çıkarımı\n",
    "])"
   ]
  },
  {
   "cell_type": "code",
   "execution_count": 264,
   "id": "414497a3-b4cf-483d-b348-dc0ddbc38b47",
   "metadata": {},
   "outputs": [],
   "source": [
    "# --- 4. Model Yükleme ---\n",
    "mlp_model = joblib.load(\"../trained_models/Gradient_Boosting.pkl\")  # Eğittiğin MLP modelini yükle"
   ]
  },
  {
   "cell_type": "code",
   "execution_count": 266,
   "id": "7a6249c7-4a94-4d77-974f-4c4e818b0d8d",
   "metadata": {},
   "outputs": [],
   "source": [
    "def predict_sector(df):\n",
    "    \"\"\" İşlenmiş veriyi modele sokar ve sektöre olan olasılıklarını döndürür. \"\"\"\n",
    "    X_processed = data_pipeline.transform(df)\n",
    "    probabilities = mlp_model.predict_proba(X_processed)[0]  # Olasılıkları al\n",
    "\n",
    "    sector_mapping = {0: 'Financials', 1: 'Healthcare', 2: 'Technology'}\n",
    "\n",
    "    # Yuvarlanmış olasılıkları bir sözlük olarak döndür\n",
    "    sector_probabilities = {sector_mapping[i]: round(prob, 4) for i, prob in enumerate(probabilities)}\n",
    "\n",
    "    return sector_probabilities"
   ]
  },
  {
   "cell_type": "code",
   "execution_count": 268,
   "id": "691989a4-c74f-4b11-bfa9-e9bef33cf269",
   "metadata": {},
   "outputs": [],
   "source": [
    "# --- 6. Kullanım ---\n",
    "# Örnek olarak seçilen endüstri şirketi verisi (Industrials, Materials vs.)\n",
    "df_selected_company = pd.read_csv(\"../data/stock_sectors/real-estate.csv\")  # Örnek dosya (inşaat şirketleri)\n",
    "df_selected_company_ticker = df_selected_company['Symbol'].dropna().tolist() # Tüm şirketler\n",
    "df_selected_company_ticker_random = df_selected_company_ticker[5] # 5. Şirket (herhangi bir sayı olabilir)"
   ]
  },
  {
   "cell_type": "code",
   "execution_count": 274,
   "id": "36a0606e-7b10-4718-b9c4-5b7baf61aabb",
   "metadata": {},
   "outputs": [
    {
     "name": "stderr",
     "output_type": "stream",
     "text": [
      "[*********************100%***********************]  1 of 1 completed\n",
      "Feature Extraction: 100%|██████████| 1/1 [00:06<00:00,  6.36s/it]"
     ]
    },
    {
     "name": "stdout",
     "output_type": "stream",
     "text": [
      "Bu şirket en çok şu sektöre benziyor: {'Financials': 0.0557, 'Healthcare': 0.7635, 'Technology': 0.1808}\n"
     ]
    },
    {
     "name": "stderr",
     "output_type": "stream",
     "text": [
      "\n",
      "D:\\Anaconda\\Lib\\site-packages\\sklearn\\base.py:457: UserWarning: X has feature names, but GradientBoostingClassifier was fitted without feature names\n",
      "  warnings.warn(\n"
     ]
    }
   ],
   "source": [
    "predicted_sector = predict_sector(df_selected_company_ticker_random)"
   ]
  },
  {
   "cell_type": "code",
   "execution_count": 276,
   "id": "a96e5137-555f-4b06-a899-63343ab381a4",
   "metadata": {},
   "outputs": [
    {
     "name": "stdout",
     "output_type": "stream",
     "text": [
      "Bu şirket en çok şu sektöre benziyor: {'Financials': 0.0557, 'Healthcare': 0.7635, 'Technology': 0.1808}\n"
     ]
    }
   ],
   "source": [
    "# Sonuç\n",
    "print(f\"Bu şirket en çok şu sektöre benziyor: {predicted_sector}\")"
   ]
  }
 ],
 "metadata": {
  "kernelspec": {
   "display_name": "Python [conda env:base] *",
   "language": "python",
   "name": "conda-base-py"
  },
  "language_info": {
   "codemirror_mode": {
    "name": "ipython",
    "version": 3
   },
   "file_extension": ".py",
   "mimetype": "text/x-python",
   "name": "python",
   "nbconvert_exporter": "python",
   "pygments_lexer": "ipython3",
   "version": "3.11.5"
  }
 },
 "nbformat": 4,
 "nbformat_minor": 5
}
