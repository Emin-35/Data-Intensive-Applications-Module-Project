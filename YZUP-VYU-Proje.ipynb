{
 "cells": [
  {
   "cell_type": "markdown",
   "id": "bafb600a-49b3-48b1-aba8-7dac7aabe956",
   "metadata": {},
   "source": [
    "# Veri Toplama\n",
    "- yfinance, investpy, quandl gibi kütüphaneler kullanılarak, 2005-01-01 tarihinden\n",
    "itibaren aylık getirilere sahip hisse senetleri ve sektör verileri toplanacak.\n",
    "- Web scraping ile sektörlerin ve hisse senetlerinin listesi çekilecek."
   ]
  },
  {
   "cell_type": "code",
   "execution_count": 2,
   "id": "cb67a70e-1a6b-4f9c-8613-9cbc08ca9ea0",
   "metadata": {
    "scrolled": true
   },
   "outputs": [],
   "source": [
    "#!pip install yfinance\n",
    "#!pip install scipy==1.14.0\n",
    "#!pip install --upgrade tsfresh"
   ]
  },
  {
   "cell_type": "code",
   "execution_count": 1,
   "id": "06ecb3e0-7146-4f0e-acc4-2e47751cd3c0",
   "metadata": {},
   "outputs": [],
   "source": [
    "import yfinance as yf\n",
    "import pandas as pd\n",
    "import requests\n",
    "from bs4 import BeautifulSoup\n",
    "from io import StringIO"
   ]
  },
  {
   "cell_type": "code",
   "execution_count": 3,
   "id": "253893ae-f03f-4edf-81a2-7d53f22cc2f4",
   "metadata": {},
   "outputs": [],
   "source": [
    "def fetch_sectors_names():\n",
    "    url = \"https://stockanalysis.com/stocks/industry/sectors/\"\n",
    "    response = requests.get(url)\n",
    "    \n",
    "    if response.status_code == 200:\n",
    "        soup = BeautifulSoup(response.content, \"html.parser\")\n",
    "        df=pd.read_html(StringIO(str(soup.find_all(\"table\"))))[0]\n",
    "        \n",
    "    else:\n",
    "        print(f\"Error: Failed to fetch data from page {url}\")\n",
    "        \n",
    "    return df\n",
    "\n",
    "def fetch_industry_names():\n",
    "    url = \"https://stockanalysis.com/stocks/industry/all/\"\n",
    "    response = requests.get(url)\n",
    "    \n",
    "    if response.status_code == 200:\n",
    "        soup = BeautifulSoup(response.content, \"html.parser\")\n",
    "        df=pd.read_html(StringIO(str(soup.find_all(\"table\"))))[0]\n",
    "        \n",
    "    else:\n",
    "        print(f\"Error: Failed to fetch data from page {url}\")\n",
    "        \n",
    "    return df\n",
    "    \n",
    "def fetch_data(sectors):\n",
    "    url = f\"https://stockanalysis.com/stocks/sector/{sectors}/\"\n",
    "    response = requests.get(url)\n",
    "    \n",
    "    if response.status_code == 200:\n",
    "        soup = BeautifulSoup(response.content, \"html.parser\")\n",
    "        df=pd.read_html(StringIO(str(soup.find_all(\"table\"))))[0]\n",
    "        df.drop(columns='No.', inplace=True)\n",
    "        \n",
    "    else:\n",
    "        print(f\"Error: Failed to fetch data from page {url}\")\n",
    "        \n",
    "    return df"
   ]
  },
  {
   "cell_type": "code",
   "execution_count": 8,
   "id": "781aedbf-fdfe-419d-9ae5-2f7eb40e6690",
   "metadata": {},
   "outputs": [],
   "source": [
    "sectors=fetch_sectors_names()\n",
    "indusrty=fetch_industry_names()"
   ]
  },
  {
   "cell_type": "code",
   "execution_count": 10,
   "id": "0a2ee056-5f72-4be7-ae88-4048081959d4",
   "metadata": {},
   "outputs": [
    {
     "data": {
      "text/html": [
       "<div>\n",
       "<style scoped>\n",
       "    .dataframe tbody tr th:only-of-type {\n",
       "        vertical-align: middle;\n",
       "    }\n",
       "\n",
       "    .dataframe tbody tr th {\n",
       "        vertical-align: top;\n",
       "    }\n",
       "\n",
       "    .dataframe thead th {\n",
       "        text-align: right;\n",
       "    }\n",
       "</style>\n",
       "<table border=\"1\" class=\"dataframe\">\n",
       "  <thead>\n",
       "    <tr style=\"text-align: right;\">\n",
       "      <th></th>\n",
       "      <th>Sector Name</th>\n",
       "      <th>Stocks</th>\n",
       "      <th>Market Cap</th>\n",
       "      <th>Div. Yield</th>\n",
       "      <th>PE Ratio</th>\n",
       "      <th>Profit Margin</th>\n",
       "      <th>1D Change</th>\n",
       "      <th>1Y Change</th>\n",
       "    </tr>\n",
       "  </thead>\n",
       "  <tbody>\n",
       "    <tr>\n",
       "      <th>0</th>\n",
       "      <td>Financials</td>\n",
       "      <td>1272</td>\n",
       "      <td>11.96T</td>\n",
       "      <td>0.17%</td>\n",
       "      <td>15.88</td>\n",
       "      <td>19.97%</td>\n",
       "      <td>-0.56%</td>\n",
       "      <td>37.57%</td>\n",
       "    </tr>\n",
       "    <tr>\n",
       "      <th>1</th>\n",
       "      <td>Healthcare</td>\n",
       "      <td>1157</td>\n",
       "      <td>8,050.42B</td>\n",
       "      <td>0.51%</td>\n",
       "      <td>59.35</td>\n",
       "      <td>3.19%</td>\n",
       "      <td>-0.64%</td>\n",
       "      <td>10.10%</td>\n",
       "    </tr>\n",
       "    <tr>\n",
       "      <th>2</th>\n",
       "      <td>Technology</td>\n",
       "      <td>769</td>\n",
       "      <td>21.51T</td>\n",
       "      <td>0.49%</td>\n",
       "      <td>45.77</td>\n",
       "      <td>14.62%</td>\n",
       "      <td>-1.02%</td>\n",
       "      <td>48.02%</td>\n",
       "    </tr>\n",
       "    <tr>\n",
       "      <th>3</th>\n",
       "      <td>Industrials</td>\n",
       "      <td>661</td>\n",
       "      <td>5,902.02B</td>\n",
       "      <td>1.19%</td>\n",
       "      <td>29.37</td>\n",
       "      <td>7.25%</td>\n",
       "      <td>-0.60%</td>\n",
       "      <td>26.47%</td>\n",
       "    </tr>\n",
       "    <tr>\n",
       "      <th>4</th>\n",
       "      <td>Consumer Discretionary</td>\n",
       "      <td>561</td>\n",
       "      <td>8,772.75B</td>\n",
       "      <td>0.75%</td>\n",
       "      <td>29.42</td>\n",
       "      <td>6.51%</td>\n",
       "      <td>-2.14%</td>\n",
       "      <td>38.69%</td>\n",
       "    </tr>\n",
       "    <tr>\n",
       "      <th>5</th>\n",
       "      <td>Materials</td>\n",
       "      <td>266</td>\n",
       "      <td>2,035.83B</td>\n",
       "      <td>1.71%</td>\n",
       "      <td>27.95</td>\n",
       "      <td>6.33%</td>\n",
       "      <td>-1.00%</td>\n",
       "      <td>13.76%</td>\n",
       "    </tr>\n",
       "    <tr>\n",
       "      <th>6</th>\n",
       "      <td>Real Estate</td>\n",
       "      <td>263</td>\n",
       "      <td>1,675.38B</td>\n",
       "      <td>3.78%</td>\n",
       "      <td>49.20</td>\n",
       "      <td>9.51%</td>\n",
       "      <td>-0.40%</td>\n",
       "      <td>13.67%</td>\n",
       "    </tr>\n",
       "    <tr>\n",
       "      <th>7</th>\n",
       "      <td>Energy</td>\n",
       "      <td>251</td>\n",
       "      <td>3,613.08B</td>\n",
       "      <td>3.18%</td>\n",
       "      <td>13.25</td>\n",
       "      <td>8.18%</td>\n",
       "      <td>-0.05%</td>\n",
       "      <td>12.47%</td>\n",
       "    </tr>\n",
       "    <tr>\n",
       "      <th>8</th>\n",
       "      <td>Communication Services</td>\n",
       "      <td>245</td>\n",
       "      <td>6,456.13B</td>\n",
       "      <td>1.46%</td>\n",
       "      <td>33.37</td>\n",
       "      <td>11.59%</td>\n",
       "      <td>-1.02%</td>\n",
       "      <td>40.95%</td>\n",
       "    </tr>\n",
       "    <tr>\n",
       "      <th>9</th>\n",
       "      <td>Consumer Staples</td>\n",
       "      <td>242</td>\n",
       "      <td>4,229.57B</td>\n",
       "      <td>1.53%</td>\n",
       "      <td>29.62</td>\n",
       "      <td>4.90%</td>\n",
       "      <td>-0.38%</td>\n",
       "      <td>26.62%</td>\n",
       "    </tr>\n",
       "    <tr>\n",
       "      <th>10</th>\n",
       "      <td>Utilities</td>\n",
       "      <td>109</td>\n",
       "      <td>1,642.05B</td>\n",
       "      <td>2.74%</td>\n",
       "      <td>21.42</td>\n",
       "      <td>10.62%</td>\n",
       "      <td>-0.22%</td>\n",
       "      <td>37.92%</td>\n",
       "    </tr>\n",
       "  </tbody>\n",
       "</table>\n",
       "</div>"
      ],
      "text/plain": [
       "               Sector Name  Stocks Market Cap Div. Yield  PE Ratio  \\\n",
       "0               Financials    1272     11.96T      0.17%     15.88   \n",
       "1               Healthcare    1157  8,050.42B      0.51%     59.35   \n",
       "2               Technology     769     21.51T      0.49%     45.77   \n",
       "3              Industrials     661  5,902.02B      1.19%     29.37   \n",
       "4   Consumer Discretionary     561  8,772.75B      0.75%     29.42   \n",
       "5                Materials     266  2,035.83B      1.71%     27.95   \n",
       "6              Real Estate     263  1,675.38B      3.78%     49.20   \n",
       "7                   Energy     251  3,613.08B      3.18%     13.25   \n",
       "8   Communication Services     245  6,456.13B      1.46%     33.37   \n",
       "9         Consumer Staples     242  4,229.57B      1.53%     29.62   \n",
       "10               Utilities     109  1,642.05B      2.74%     21.42   \n",
       "\n",
       "   Profit Margin 1D Change 1Y Change  \n",
       "0         19.97%    -0.56%    37.57%  \n",
       "1          3.19%    -0.64%    10.10%  \n",
       "2         14.62%    -1.02%    48.02%  \n",
       "3          7.25%    -0.60%    26.47%  \n",
       "4          6.51%    -2.14%    38.69%  \n",
       "5          6.33%    -1.00%    13.76%  \n",
       "6          9.51%    -0.40%    13.67%  \n",
       "7          8.18%    -0.05%    12.47%  \n",
       "8         11.59%    -1.02%    40.95%  \n",
       "9          4.90%    -0.38%    26.62%  \n",
       "10        10.62%    -0.22%    37.92%  "
      ]
     },
     "execution_count": 10,
     "metadata": {},
     "output_type": "execute_result"
    }
   ],
   "source": [
    "sectors"
   ]
  },
  {
   "cell_type": "code",
   "execution_count": 12,
   "id": "42fe9012-dc13-446b-81f1-42431ef88060",
   "metadata": {},
   "outputs": [],
   "source": [
    "# Çektiğim verileri, data klasörü içerisinde tutuyorum\n",
    "#mkdir ..\\data\\stock_sectors"
   ]
  },
  {
   "cell_type": "code",
   "execution_count": 14,
   "id": "5f7e9df8-7387-4959-b740-4782a5f1da76",
   "metadata": {},
   "outputs": [],
   "source": [
    "fetch_data(sectors='energy').to_csv('../data/stock_sectors/energy.csv')\n",
    "\n",
    "fetch_data(sectors='financials').to_csv('../data/stock_sectors/financials.csv')\n",
    "\n",
    "fetch_data(sectors='healthcare').to_csv('../data/stock_sectors/healthcare.csv')\n",
    "\n",
    "fetch_data(sectors='technology').to_csv('../data/stock_sectors/technology.csv')\n",
    "\n",
    "fetch_data(sectors='utilities').to_csv('../data/stock_sectors/utilities.csv')\n",
    "\n",
    "fetch_data(sectors='real-estate').to_csv('../data/stock_sectors/real-estate.csv')\n",
    "\n",
    "fetch_data(sectors='materials').to_csv('../data/stock_sectors/materials.csv')\n",
    "\n",
    "fetch_data(sectors='industrials').to_csv('../data/stock_sectors/industrials.csv')\n",
    "\n",
    "fetch_data(sectors='consumer-staples').to_csv('../data/stock_sectors/consumer-staples.csv')\n",
    "\n",
    "fetch_data(sectors='consumer-discretionary').to_csv('../data/stock_sectors/consumer-discretionary.csv')\n",
    "\n",
    "fetch_data(sectors='communication-services').to_csv('../data/stock_sectors/communication-services.csv')"
   ]
  },
  {
   "cell_type": "markdown",
   "id": "d9d0e801-7276-4861-a156-946d75860d98",
   "metadata": {},
   "source": [
    "- Hangi sütunu baz alacağımı kararlaştırmak için sütun isimlerini yazdırdım\n",
    "- ['Open'] sütununu baz alacağım"
   ]
  },
  {
   "cell_type": "code",
   "execution_count": 16,
   "id": "f1d8b333-f284-465c-93ae-99e345d11e82",
   "metadata": {
    "scrolled": true
   },
   "outputs": [
    {
     "name": "stderr",
     "output_type": "stream",
     "text": [
      "[*********************100%***********************]  1 of 1 completed"
     ]
    },
    {
     "name": "stdout",
     "output_type": "stream",
     "text": [
      "MultiIndex([( 'Close', 'AAPL'),\n",
      "            (  'High', 'AAPL'),\n",
      "            (   'Low', 'AAPL'),\n",
      "            (  'Open', 'AAPL'),\n",
      "            ('Volume', 'AAPL')],\n",
      "           names=['Price', 'Ticker'])\n"
     ]
    },
    {
     "name": "stderr",
     "output_type": "stream",
     "text": [
      "\n"
     ]
    }
   ],
   "source": [
    "aapl_data = yf.download(\"AAPL\")\n",
    "print(aapl_data.columns)"
   ]
  },
  {
   "cell_type": "code",
   "execution_count": 19,
   "id": "9cb746be-446f-4170-b6b7-ad67053795b5",
   "metadata": {},
   "outputs": [
    {
     "data": {
      "text/html": [
       "<div>\n",
       "<style scoped>\n",
       "    .dataframe tbody tr th:only-of-type {\n",
       "        vertical-align: middle;\n",
       "    }\n",
       "\n",
       "    .dataframe tbody tr th {\n",
       "        vertical-align: top;\n",
       "    }\n",
       "\n",
       "    .dataframe thead tr th {\n",
       "        text-align: left;\n",
       "    }\n",
       "\n",
       "    .dataframe thead tr:last-of-type th {\n",
       "        text-align: right;\n",
       "    }\n",
       "</style>\n",
       "<table border=\"1\" class=\"dataframe\">\n",
       "  <thead>\n",
       "    <tr>\n",
       "      <th>Price</th>\n",
       "      <th>Close</th>\n",
       "      <th>High</th>\n",
       "      <th>Low</th>\n",
       "      <th>Open</th>\n",
       "      <th>Volume</th>\n",
       "    </tr>\n",
       "    <tr>\n",
       "      <th>Ticker</th>\n",
       "      <th>AAPL</th>\n",
       "      <th>AAPL</th>\n",
       "      <th>AAPL</th>\n",
       "      <th>AAPL</th>\n",
       "      <th>AAPL</th>\n",
       "    </tr>\n",
       "    <tr>\n",
       "      <th>Date</th>\n",
       "      <th></th>\n",
       "      <th></th>\n",
       "      <th></th>\n",
       "      <th></th>\n",
       "      <th></th>\n",
       "    </tr>\n",
       "  </thead>\n",
       "  <tbody>\n",
       "    <tr>\n",
       "      <th>1980-12-12</th>\n",
       "      <td>0.098834</td>\n",
       "      <td>0.099264</td>\n",
       "      <td>0.098834</td>\n",
       "      <td>0.098834</td>\n",
       "      <td>469033600</td>\n",
       "    </tr>\n",
       "    <tr>\n",
       "      <th>1980-12-15</th>\n",
       "      <td>0.093678</td>\n",
       "      <td>0.094108</td>\n",
       "      <td>0.093678</td>\n",
       "      <td>0.094108</td>\n",
       "      <td>175884800</td>\n",
       "    </tr>\n",
       "    <tr>\n",
       "      <th>1980-12-16</th>\n",
       "      <td>0.086802</td>\n",
       "      <td>0.087232</td>\n",
       "      <td>0.086802</td>\n",
       "      <td>0.087232</td>\n",
       "      <td>105728000</td>\n",
       "    </tr>\n",
       "    <tr>\n",
       "      <th>1980-12-17</th>\n",
       "      <td>0.088951</td>\n",
       "      <td>0.089381</td>\n",
       "      <td>0.088951</td>\n",
       "      <td>0.088951</td>\n",
       "      <td>86441600</td>\n",
       "    </tr>\n",
       "    <tr>\n",
       "      <th>1980-12-18</th>\n",
       "      <td>0.091530</td>\n",
       "      <td>0.091959</td>\n",
       "      <td>0.091530</td>\n",
       "      <td>0.091530</td>\n",
       "      <td>73449600</td>\n",
       "    </tr>\n",
       "  </tbody>\n",
       "</table>\n",
       "</div>"
      ],
      "text/plain": [
       "Price          Close      High       Low      Open     Volume\n",
       "Ticker          AAPL      AAPL      AAPL      AAPL       AAPL\n",
       "Date                                                         \n",
       "1980-12-12  0.098834  0.099264  0.098834  0.098834  469033600\n",
       "1980-12-15  0.093678  0.094108  0.093678  0.094108  175884800\n",
       "1980-12-16  0.086802  0.087232  0.086802  0.087232  105728000\n",
       "1980-12-17  0.088951  0.089381  0.088951  0.088951   86441600\n",
       "1980-12-18  0.091530  0.091959  0.091530  0.091530   73449600"
      ]
     },
     "execution_count": 19,
     "metadata": {},
     "output_type": "execute_result"
    }
   ],
   "source": [
    "aapl_data.head()"
   ]
  },
  {
   "cell_type": "code",
   "execution_count": 5,
   "id": "de7104ef-d0cb-42cd-bfcb-dd8806ebdc66",
   "metadata": {
    "scrolled": true
   },
   "outputs": [],
   "source": [
    "financials = pd.read_csv('../data/stock_sectors/financials.csv')\n",
    "healthcare = pd.read_csv('../data/stock_sectors/healthcare.csv')\n",
    "technology = pd.read_csv('../data/stock_sectors/technology.csv')"
   ]
  },
  {
   "cell_type": "markdown",
   "id": "ca5073e3-1f9f-4600-b268-39a88b2f84a8",
   "metadata": {},
   "source": [
    "# **Tarihsel Veri Filtreleme ve Rastgele Firma Seçme**\n",
    "    - Rastgele seçim yapmadan önce 2005 öncesi verisi olan hisseleri otomatik filtreledim\n",
    "    - En büyük 3 endüstriden (Sağlık, Finans ve Teknoloji) rastgele 500 tane firma seçtim\n",
    "    - Burada herhangi bir işlem yapmama gerek kalmadı çünkü zaten önceden hem boş sütunları temizledim hem de bütün veriyi 2005 tarihinden sonrası için ayarladım, kısacası sadece rastgele olarak firma seçmek kaldı"
   ]
  },
  {
   "cell_type": "code",
   "execution_count": 24,
   "id": "cb03b0ed-ffd0-4e4b-9489-52dbb73496e3",
   "metadata": {},
   "outputs": [
    {
     "data": {
      "text/plain": [
       "1500"
      ]
     },
     "execution_count": 24,
     "metadata": {},
     "output_type": "execute_result"
    }
   ],
   "source": [
    "# Geçerli semboller (NaN veya float olmayanları aldım)\n",
    "technology_tickers = technology['Symbol'].dropna().astype(str).tolist()\n",
    "financials_tickers = financials['Symbol'].dropna().tolist()\n",
    "healthcare_tickers = healthcare['Symbol'].dropna().tolist()\n",
    "\n",
    "# Her bir kategoriden EN BÜYÜK 500 şirket seçtim\n",
    "technology_biggest = technology_tickers[:500]\n",
    "financials_biggest = financials_tickers[:500]\n",
    "healthcare_biggest = healthcare_tickers[:500]\n",
    "\n",
    "# Tüm şirketleri birleştirdim\n",
    "all_biggest_tickers = technology_biggest + financials_biggest + healthcare_biggest\n",
    "\n",
    "len(all_biggest_tickers)"
   ]
  },
  {
   "cell_type": "code",
   "execution_count": 26,
   "id": "79251d49-e656-4e31-9b99-07d552f3eaea",
   "metadata": {},
   "outputs": [
    {
     "name": "stderr",
     "output_type": "stream",
     "text": [
      "[*********************100%***********************]  100 of 100 completed\n",
      "[*********************100%***********************]  100 of 100 completed\n",
      "[*********************100%***********************]  100 of 100 completed\n",
      "[*********************100%***********************]  100 of 100 completed\n",
      "[*********************100%***********************]  100 of 100 completed\n",
      "[*********************100%***********************]  100 of 100 completed\n",
      "\n",
      "1 Failed download:\n",
      "['BRK.B']: YFTzMissingError('$%ticker%: possibly delisted; no timezone found')\n",
      "[*********************100%***********************]  100 of 100 completed\n",
      "[*********************100%***********************]  100 of 100 completed\n",
      "\n",
      "1 Failed download:\n",
      "['AGM.A']: YFTzMissingError('$%ticker%: possibly delisted; no timezone found')\n",
      "[*********************100%***********************]  100 of 100 completed\n",
      "[*********************100%***********************]  100 of 100 completed\n",
      "\n",
      "2 Failed downloads:\n",
      "['CRD.B', 'CRD.A']: YFTzMissingError('$%ticker%: possibly delisted; no timezone found')\n",
      "[*********************100%***********************]  100 of 100 completed\n",
      "[*********************100%***********************]  100 of 100 completed\n",
      "\n",
      "1 Failed download:\n",
      "['BIO.B']: YFPricesMissingError('$%ticker%: possibly delisted; no price data found  (1d 2005-01-01 -> 2025-02-08)')\n",
      "[*********************100%***********************]  100 of 100 completed\n",
      "[*********************100%***********************]  100 of 100 completed\n",
      "\n",
      "1 Failed download:\n",
      "['SION']: YFInvalidPeriodError(\"%ticker%: Period 'max' is invalid, must be of the format 1d, 5d, etc.\")\n",
      "[*********************100%***********************]  99 of 100 completed\n",
      "\n",
      "1 Failed download:\n",
      "['NMRA']: ReadTimeout(ReadTimeoutError(\"HTTPSConnectionPool(host='query2.finance.yahoo.com', port=443): Read timed out. (read timeout=10)\"))\n",
      "[*********************100%***********************]  99 of 100 completed"
     ]
    }
   ],
   "source": [
    "import time\n",
    "\n",
    "# Semboller için listeyi 100'lük parçalara böldüm ki veri çekmesi kolay olsun\n",
    "chunks = [all_biggest_tickers[i:i+100] for i in range(0, len(all_biggest_tickers), 100)]\n",
    "\n",
    "# Veriyi parça parça çektim\n",
    "all_data = []\n",
    "for chunk in chunks:\n",
    "    try:\n",
    "        data = yf.download(chunk, start='2005-01-01')\n",
    "        all_data.append(data)\n",
    "        time.sleep(15)  # 15 saniye bekleme, API limitini aşmamak için\n",
    "    except yf.download.YFRateLimitError:\n",
    "        print(\"Rate limit exceeded. Retrying in 60 seconds...\")\n",
    "        time.sleep(60)"
   ]
  },
  {
   "cell_type": "markdown",
   "id": "09bf3818-5693-4217-b7d9-d3e5b3383405",
   "metadata": {},
   "source": [
    "```\n",
    "tickers = technology['Symbol'].tolist()\n",
    "\n",
    "# Verileri çek\n",
    "data = yf.download(tickers, start='2005-01-01')\n",
    "```\n",
    "\n",
    "`TypeError: expected string or bytes-like object, got 'float'. `\n",
    "- Bu hatayı aldığım için ``yfinance.download()`` fonksiyonu bir ``float`` değeri ile karşılaşıyor, fakat bu fonksiyon yalnızca ``string`` türündeki sembollerle çalışabilir. ``technology[Symbol]`` sütununda bazı ``NaN`` veya ``float`` değerleri mevcut. Bu nedenle hata veriyor\n",
    "    1. NaN değerlerini temizledim\n",
    "    2. Sadece string değerleri aldım\n",
    "- Ekstra olarak\n",
    "    - `YFRateLimitError('Too Many Requests. Rate limited. Try after a while.')` hatası nedeniyle aralıklı veri indirdim"
   ]
  },
  {
   "cell_type": "code",
   "execution_count": 38,
   "id": "df67377f-02c6-4670-8716-f1814b160386",
   "metadata": {},
   "outputs": [
    {
     "name": "stdout",
     "output_type": "stream",
     "text": [
      "Ticker          AAPL        ACN       ADBE        ADI        ADP       ADSK  \\\n",
      "Date                                                                          \n",
      "2005-01-31  0.975804  19.106173  31.493821  23.208161  21.876525  38.280256   \n",
      "2005-02-28  1.160631  18.113645  28.444421  22.499747  21.432085  29.144969   \n",
      "2005-03-31  1.355400  18.134909  31.023913  23.340554  21.209857  29.914572   \n",
      "2005-04-30  1.268032  17.702456  33.910000  22.857040  22.277331  29.690001   \n",
      "2005-05-31  1.090887  15.348744  29.870001  21.419060  21.528969  31.850000   \n",
      "\n",
      "Ticker      AFRM       AMAT        AMD  ANET  ...  TSHA  UPB  URGN  VALN  VMD  \\\n",
      "Date                                          ...                               \n",
      "2005-01-31   NaN  12.584158  22.110001   NaN  ...   NaN  NaN   NaN   NaN  NaN   \n",
      "2005-02-28   NaN  11.735457  15.900000   NaN  ...   NaN  NaN   NaN   NaN  NaN   \n",
      "2005-03-31   NaN  12.906073  17.629999   NaN  ...   NaN  NaN   NaN   NaN  NaN   \n",
      "2005-04-30   NaN  12.035427  16.309999   NaN  ...   NaN  NaN   NaN   NaN  NaN   \n",
      "2005-05-31   NaN  10.945287  14.210000   NaN  ...   NaN  NaN   NaN   NaN  NaN   \n",
      "\n",
      "Ticker      VREX  XERS  ZBIO  ZIMV  ZVRA  \n",
      "Date                                      \n",
      "2005-01-31   NaN   NaN   NaN   NaN   NaN  \n",
      "2005-02-28   NaN   NaN   NaN   NaN   NaN  \n",
      "2005-03-31   NaN   NaN   NaN   NaN   NaN  \n",
      "2005-04-30   NaN   NaN   NaN   NaN   NaN  \n",
      "2005-05-31   NaN   NaN   NaN   NaN   NaN  \n",
      "\n",
      "[5 rows x 1500 columns]\n"
     ]
    }
   ],
   "source": [
    "# Sonuçları birleştir\n",
    "final_data = pd.concat(all_data, axis=1)\n",
    "\n",
    "# \"Open\" fiyatlarını al\n",
    "data_open = final_data['Open']\n",
    "\n",
    "# Günlük verileri aylığa çeviriyoruz.\n",
    "data_open_monthly = data_open.resample('M').first()\n",
    "\n",
    "# Sonuç\n",
    "print(data_open_monthly.head())"
   ]
  },
  {
   "cell_type": "code",
   "execution_count": 40,
   "id": "7482305b-5001-4e05-a9cf-e71e2b2d6a08",
   "metadata": {},
   "outputs": [],
   "source": [
    "%matplotlib inline"
   ]
  },
  {
   "cell_type": "markdown",
   "id": "32d47660-cbba-40bb-89ef-c0f4914ec0c3",
   "metadata": {},
   "source": [
    "- Görüldüğü gibi, bazı şirketlerin verilerinde 2005 yılından itibaren en az 10-15 yıllık boşluklar bulunmakta, ve bu boşlukları doldurmak mantıksız çünkü bu şirketlerin kuruluş yılları 2016 yıllarına dayanmaktadır. Bu nedenle boş (NaN) verileri %80 ve üstü olan sütunları (şirketleri) temizledim."
   ]
  },
  {
   "cell_type": "code",
   "execution_count": 45,
   "id": "3d14cce2-6ece-4b15-b8aa-9abd9bd25c3e",
   "metadata": {},
   "outputs": [
    {
     "data": {
      "text/plain": [
       "<Axes: xlabel='Date'>"
      ]
     },
     "execution_count": 45,
     "metadata": {},
     "output_type": "execute_result"
    },
    {
     "data": {
      "image/png": "[encoded data removed]",
      "text/plain": [
       "<Figure size 1600x400 with 1 Axes>"
      ]
     },
     "metadata": {},
     "output_type": "display_data"
    }
   ],
   "source": [
    "import matplotlib.pyplot as plt\n",
    "\n",
    "# Şirket isimlerini belirleyin\n",
    "companies = ['VREX', 'XERS', 'ZBIO', 'ZIMV', 'TBPH']\n",
    "\n",
    "# Veriyi sadece istenen şirketlere göre filtrele\n",
    "data_open_monthly_filtered = data_open_monthly[companies]\n",
    "\n",
    "data_open_monthly_filtered.plot(kind='line',figsize=(16,4),logy=True)"
   ]
  },
  {
   "cell_type": "code",
   "execution_count": 47,
   "id": "5bfb5d4e-b731-487b-8f5d-df293f288c09",
   "metadata": {},
   "outputs": [
    {
     "name": "stdout",
     "output_type": "stream",
     "text": [
      "Ticker          AAPL        ACN       ADBE        ADI        ADP       ADSK  \\\n",
      "Date                                                                          \n",
      "2005-01-31  0.975804  19.106173  31.493821  23.208161  21.876525  38.280256   \n",
      "2005-02-28  1.160631  18.113645  28.444421  22.499747  21.432085  29.144969   \n",
      "2005-03-31  1.355400  18.134909  31.023913  23.340554  21.209857  29.914572   \n",
      "2005-04-30  1.268032  17.702456  33.910000  22.857040  22.277331  29.690001   \n",
      "2005-05-31  1.090887  15.348744  29.870001  21.419060  21.528969  31.850000   \n",
      "\n",
      "Ticker           AMAT        AMD       ANSS       APH  ...  CERS        CYH  \\\n",
      "Date                                                   ...                    \n",
      "2005-01-31  12.584158  22.110001  16.219999  2.011462  ...  2.95  22.856671   \n",
      "2005-02-28  11.735457  15.900000  16.299999  2.180542  ...  3.42  23.790934   \n",
      "2005-03-31  12.906073  17.629999  18.000000  2.203526  ...  4.40  26.741238   \n",
      "2005-04-30  12.035427  16.309999  17.125000  2.033771  ...  3.09  28.724499   \n",
      "2005-05-31  10.945287  14.210000  15.145000  2.165193  ...  3.67  30.322581   \n",
      "\n",
      "Ticker       EYPT        RIGL      SIGA   SMTI       SNDA      SPOK  \\\n",
      "Date                                                                  \n",
      "2005-01-31  420.0  245.800003  1.374736  125.0  85.050003  6.397717   \n",
      "2005-02-28  356.0  192.699997  1.301956  105.0  87.000000  6.523627   \n",
      "2005-03-31  328.0  186.000000  1.172569   95.0  81.599998  7.116685   \n",
      "2005-04-30  270.0  162.199997  1.035095   80.0  84.300003  5.930571   \n",
      "2005-05-31  208.0  167.199997  0.849102   80.0  88.500000  5.436053   \n",
      "\n",
      "Ticker           SRDX       TBRG  \n",
      "Date                              \n",
      "2005-01-31  32.389999  12.886932  \n",
      "2005-02-28  29.480000  12.223468  \n",
      "2005-03-31  32.490002  14.726663  \n",
      "2005-04-30  31.990000  15.934517  \n",
      "2005-05-31  36.480000  18.049668  \n",
      "\n",
      "[5 rows x 710 columns]\n"
     ]
    }
   ],
   "source": [
    "# %60'tan fazla eksik veri içeren sütunları sil\n",
    "threshold = len(data_open_monthly) * 0.8  # %80'lık bir doluluk oranı gerekiyor\n",
    "\n",
    "filtered_data = data_open_monthly.dropna(axis=1, thresh=threshold)\n",
    "\n",
    "# Sonucu göster\n",
    "print(filtered_data.head())"
   ]
  },
  {
   "cell_type": "markdown",
   "id": "f350c310-1da4-4a76-92a3-96c71ca082a6",
   "metadata": {},
   "source": [
    "1. **`data_open_monthly.reset_index()`**\n",
    "   - `long_data = filtered_data.reset_index().melt(id_vars='Date', var_name='Ticker', value_name='Open')` Bu satır, `filtered_data` verisini **uzun formata** dönüştürmek için pandas'ın `melt()` fonksiyonunu kullanır.\n",
    "   - `filtered_data` bir pandas **Series** objesidir ve indeksi tarihlerdir (aylık bazda).  \n",
    "   - `reset_index()`, bu diziyi bir **DataFrame**'e çevirir.  \n",
    "     - **İndeks** (`Date` sütunu olarak) veriye eklenir.\n",
    "     - Açılış fiyatları aynı sütunda kalır.\n",
    "\n",
    "3. **`.melt(id_vars='Date', var_name='Ticker', value_name='Open')`**  \n",
    "   - `melt()` fonksiyonu, veriyi **geniş formattan uzun formata** dönüştürür.\n",
    "   - **`id_vars='Date'`** → `\"Date\"` sütununu korur.\n",
    "   - **`var_name='Ticker'`** → Önceden sütun başlıklarında olan hisse senedi kodlarını `\"Ticker\"` olarak adlandırır.\n",
    "   - **`value_name='Open'`** → Açılış fiyatlarını `\"Open\"` sütununa taşır.\n",
    "\n",
    "---\n",
    "\n",
    "#### **Dönüştürmeden Önce (Geniş Format)** \n",
    "| Date       | AAPL | MSFT | GOOG |  \n",
    "|------------|------|------|------|  \n",
    "| 2024-01-01 | 150  | 300  | 2800 |  \n",
    "| 2024-02-01 | 155  | 310  | 2900 |  \n",
    "\n",
    "#### **Dönüştürdükten Sonra (Uzun Format)**  \n",
    "| Date       | Ticker | Open |  \n",
    "|------------|--------|------|  \n",
    "| 2024-01-01 | AAPL   | 150  |  \n",
    "| 2024-01-01 | MSFT   | 300  |  \n",
    "| 2024-01-01 | GOOG   | 2800 |  \n",
    "| 2024-02-01 | AAPL   | 155  |  \n",
    "| 2024-02-01 | MSFT   | 310  |  \n",
    "| 2024-02-01 | GOOG   | 2900 |  \n",
    "\n",
    "---\n",
    "\n",
    "### **Neden Kullanılır?**\n",
    "- Uzun format, **gruplama, filtreleme ve görselleştirme** işlemleri için daha uygundur.\n",
    "- `seaborn` veya `matplotlib` ile grafik çizmek için daha kullanışlıdır.\n",
    "- **Diğer veri setleriyle birleştirme** işlemleri (örneğin, sektör bilgisi eklemek) daha kolay olur.\n",
    "- Ben 2. ve 3. neden için kullanıyor olacağım\n"
   ]
  },
  {
   "cell_type": "code",
   "execution_count": 67,
   "id": "0baf42bd-4b6e-41e7-ba01-5eea70891fc6",
   "metadata": {},
   "outputs": [],
   "source": [
    "# Uzun formata çevirme\n",
    "long_data = filtered_data.reset_index().melt(id_vars='Date', var_name='Ticker', value_name='Open')\n",
    "\n",
    "# Sektör bilgilerini ekleme\n",
    "sector_map = {}\n",
    "for ticker in financials_biggest:\n",
    "    sector_map[ticker] = 'Financials'\n",
    "\n",
    "for ticker in healthcare_biggest:\n",
    "    sector_map[ticker] = 'Healthcare'\n",
    "\n",
    "for ticker in technology_biggest:\n",
    "    sector_map[ticker] = 'Technology'\n",
    "\n",
    "long_data['Sector'] = long_data['Ticker'].map(sector_map)"
   ]
  },
  {
   "cell_type": "code",
   "execution_count": null,
   "id": "0a178010-957c-4528-8161-af8aae35e887",
   "metadata": {},
   "outputs": [],
   "source": [
    "# Datayı kayıt et\n",
    "long_data.to_csv('../data/processed_data/combined_data.csv', index=False)"
   ]
  },
  {
   "cell_type": "code",
   "execution_count": 21,
   "id": "7e851a2a-ddde-4405-8378-9c60bf4ffbcb",
   "metadata": {},
   "outputs": [
    {
     "data": {
      "text/html": [
       "<div>\n",
       "<style scoped>\n",
       "    .dataframe tbody tr th:only-of-type {\n",
       "        vertical-align: middle;\n",
       "    }\n",
       "\n",
       "    .dataframe tbody tr th {\n",
       "        vertical-align: top;\n",
       "    }\n",
       "\n",
       "    .dataframe thead th {\n",
       "        text-align: right;\n",
       "    }\n",
       "</style>\n",
       "<table border=\"1\" class=\"dataframe\">\n",
       "  <thead>\n",
       "    <tr style=\"text-align: right;\">\n",
       "      <th></th>\n",
       "      <th>Date</th>\n",
       "      <th>Ticker</th>\n",
       "      <th>Open</th>\n",
       "      <th>Sector</th>\n",
       "    </tr>\n",
       "  </thead>\n",
       "  <tbody>\n",
       "    <tr>\n",
       "      <th>0</th>\n",
       "      <td>2005-01-31</td>\n",
       "      <td>AAPL</td>\n",
       "      <td>0.975804</td>\n",
       "      <td>Technology</td>\n",
       "    </tr>\n",
       "    <tr>\n",
       "      <th>1</th>\n",
       "      <td>2005-02-28</td>\n",
       "      <td>AAPL</td>\n",
       "      <td>1.160631</td>\n",
       "      <td>Technology</td>\n",
       "    </tr>\n",
       "    <tr>\n",
       "      <th>2</th>\n",
       "      <td>2005-03-31</td>\n",
       "      <td>AAPL</td>\n",
       "      <td>1.355400</td>\n",
       "      <td>Technology</td>\n",
       "    </tr>\n",
       "    <tr>\n",
       "      <th>3</th>\n",
       "      <td>2005-04-30</td>\n",
       "      <td>AAPL</td>\n",
       "      <td>1.268032</td>\n",
       "      <td>Technology</td>\n",
       "    </tr>\n",
       "    <tr>\n",
       "      <th>4</th>\n",
       "      <td>2005-05-31</td>\n",
       "      <td>AAPL</td>\n",
       "      <td>1.090887</td>\n",
       "      <td>Technology</td>\n",
       "    </tr>\n",
       "  </tbody>\n",
       "</table>\n",
       "</div>"
      ],
      "text/plain": [
       "         Date Ticker      Open      Sector\n",
       "0  2005-01-31   AAPL  0.975804  Technology\n",
       "1  2005-02-28   AAPL  1.160631  Technology\n",
       "2  2005-03-31   AAPL  1.355400  Technology\n",
       "3  2005-04-30   AAPL  1.268032  Technology\n",
       "4  2005-05-31   AAPL  1.090887  Technology"
      ]
     },
     "execution_count": 21,
     "metadata": {},
     "output_type": "execute_result"
    }
   ],
   "source": [
    "long_formatted_data = pd.read_csv('../data/processed_data/combined_data.csv')\n",
    "\n",
    "# İlk 5 Veri\n",
    "long_formatted_data.head()"
   ]
  },
  {
   "cell_type": "code",
   "execution_count": 23,
   "id": "5a81550e-7200-4a7f-b9bf-e2cd15f02c36",
   "metadata": {},
   "outputs": [
    {
     "name": "stdout",
     "output_type": "stream",
     "text": [
      "              Date Ticker        Open\n",
      "0       2005-01-31   AAPL    0.975804\n",
      "1       2005-02-28   AAPL    1.160631\n",
      "2       2005-03-31   AAPL    1.355400\n",
      "3       2005-04-30   AAPL    1.268032\n",
      "4       2005-05-31   AAPL    1.090887\n",
      "5       2005-06-30   AAPL    1.201753\n",
      "6       2005-07-31   AAPL    1.109566\n",
      "7       2005-08-31   AAPL    1.282493\n",
      "8       2005-09-30   AAPL    1.415954\n",
      "9       2005-10-31   AAPL    1.631662\n",
      "10      2005-11-30   AAPL    1.724452\n",
      "11      2005-12-31   AAPL    2.077235\n",
      "169884  2005-01-31   EYPT  420.000000\n",
      "169885  2005-02-28   EYPT  356.000000\n",
      "169886  2005-03-31   EYPT  328.000000\n",
      "169887  2005-04-30   EYPT  270.000000\n",
      "169888  2005-05-31   EYPT  208.000000\n",
      "169889  2005-06-30   EYPT  238.000000\n",
      "169890  2005-07-31   EYPT  244.399994\n",
      "169891  2005-08-31   EYPT  272.000000\n",
      "169892  2005-09-30   EYPT  244.000000\n",
      "169893  2005-10-31   EYPT  276.399994\n",
      "169894  2005-11-30   EYPT  240.000000\n",
      "169895  2005-12-31   EYPT  188.000000\n"
     ]
    }
   ],
   "source": [
    "meaningless_data_difference = long_formatted_data[\n",
    "    (long_formatted_data[\"Ticker\"].isin([\"AAPL\", \"EYPT\"])) &\n",
    "    (long_formatted_data[\"Date\"].between(\"2005-01-01\", \"2006-01-01\"))\n",
    "][[\"Date\", \"Ticker\", \"Open\"]]\n",
    "\n",
    "print(meaningless_data_difference)"
   ]
  },
  {
   "cell_type": "markdown",
   "id": "a4319808-4a06-4349-bf6f-940eab723aa5",
   "metadata": {},
   "source": [
    "### Log Dönüşümü Uygulaması ve Nedenleri\n",
    "\n",
    "Veri setinizde farklı ölçeklerde değerler gözlemlenmektedir. Örneğin, bazı Ticker'ların (ör. **AAPL**) değerleri 1 civarındayken, bazıları (ör. **EYPT**) 400 gibi yüksek değerlere sahip. Bu durum, modellerin öğrenme sürecinde farklı ölçekler arasında dengesizliğe yol açabilir.\n",
    "\n",
    "#### Log Dönüşümünün Avantajları\n",
    "- **Ölçek Dengeleme:**  \n",
    "  Log dönüşümü, büyük değerlerin etkisini azaltarak tüm değerleri daha benzer bir ölçeğe çeker. Bu, özellikle farklı büyüklükteki değişkenlerin (tickerların) analizinde faydalıdır.\n",
    "\n",
    "- **Varyansın Stabilizasyonu:**  \n",
    "  Log dönüşümü, veri dağılımındaki varyansı stabil hale getirerek aşırı uç değerlerin (outlier) etkisini hafifletebilir.\n",
    "\n",
    "- **Dağılımın Normalleşmesi:**  \n",
    "  Birçok durumda log dönüşümü, verinin sağa çarpık dağılımını (right-skewed) daha normal bir dağılıma yaklaştırır, bu da bazı makine öğrenmesi algoritmalarının performansını artırabilir.\n",
    "\n",
    "#### Dikkat Edilmesi Gerekenler\n",
    "- **Pozitif Değerler:**  \n",
    "  Log dönüşümünü doğrudan uygulayabilmek için verilerinizin pozitif olması gerekir. Eğer bazı değerler 0 veya negatif ise, `log1p` (yani, log(1 + x)) dönüşümü uygulanabilir.\n",
    "\n",
    "- **Farklı Ölçekler:**  \n",
    "  Her ticker için log dönüşümünü ayrı ayrı uygulamak daha mantıklı olabilir. Bu sayede, her bir zaman serisinin kendi dağılım özelliklerine göre dönüşüm yapılır.\n",
    "\n",
    "- **Küçük Değerler:**  \n",
    "  Değerlerin 1'in altında olması durumunda log dönüşümü negatif sonuçlar verecektir. Bu durum modelleme açısından problem oluşturmaz, ancak yorumlanması sırasında dikkatli olunmalıdır.\n",
    "\n",
    "#### Sonuç\n",
    "Eğer bazı değerler diğerlerine göre \"mantıksız\" ya da \"ölçülemeyecek kadar farklı\" görünüyorsa, **log dönüşümü uygulamak**:\n",
    "- Büyük ölçekli değerlerin etkisini azaltır,\n",
    "- Farklı tickerların değerlerini karşılaştırılabilir hale getirir,\n",
    "- Makine öğrenmesi ve istatistiksel modellerde daha stabil sonuçlar elde etmenize yardımcı olur.\n",
    "\n",
    "Bu nedenle, veri setinizdeki ölçek farklılıklarını gidermek ve istatistiksel özellikleri (örn. `tsfresh` ile çıkarılacak öznitelikler) daha tutarlı hale getirmek için log dönüşümü mantıklı bir adım olabilir."
   ]
  },
  {
   "cell_type": "code",
   "execution_count": 31,
   "id": "fcaed43a-bad5-491a-b783-e3a2c849bfd8",
   "metadata": {},
   "outputs": [
    {
     "data": {
      "text/plain": [
       "'\\nHalihazırdaki Open sütununu güncellemek yerine yeni sütun açmak daha mantıklı \\nçünkü bu kısmı tekrar tekrar çalıştırırsak Open değerleri sürekli değişiyor olacak.\\n'"
      ]
     },
     "execution_count": 31,
     "metadata": {},
     "output_type": "execute_result"
    }
   ],
   "source": [
    "import numpy as np\n",
    "\n",
    "long_formatted_data[\"Open_LOG\"] = np.log1p(long_formatted_data[\"Open\"])\n",
    "\n",
    "'''\n",
    "Halihazırdaki Open sütununu güncellemek yerine yeni sütun açmak daha mantıklı \n",
    "çünkü bu kısmı tekrar tekrar çalıştırırsak Open değerleri sürekli değişiyor olacak.\n",
    "'''"
   ]
  },
  {
   "cell_type": "code",
   "execution_count": 33,
   "id": "b3dbe4f6-870a-40a4-a964-34cc24c30c1d",
   "metadata": {},
   "outputs": [
    {
     "name": "stdout",
     "output_type": "stream",
     "text": [
      "              Date Ticker  Open_LOG\n",
      "0       2005-01-31   AAPL  0.680975\n",
      "1       2005-02-28   AAPL  0.770400\n",
      "2       2005-03-31   AAPL  0.856710\n",
      "3       2005-04-30   AAPL  0.818913\n",
      "4       2005-05-31   AAPL  0.737588\n",
      "5       2005-06-30   AAPL  0.789254\n",
      "6       2005-07-31   AAPL  0.746482\n",
      "7       2005-08-31   AAPL  0.825268\n",
      "8       2005-09-30   AAPL  0.882094\n",
      "9       2005-10-31   AAPL  0.967615\n",
      "10      2005-11-30   AAPL  1.002267\n",
      "11      2005-12-31   AAPL  1.124031\n",
      "169884  2005-01-31   EYPT  6.042633\n",
      "169885  2005-02-28   EYPT  5.877736\n",
      "169886  2005-03-31   EYPT  5.796058\n",
      "169887  2005-04-30   EYPT  5.602119\n",
      "169888  2005-05-31   EYPT  5.342334\n",
      "169889  2005-06-30   EYPT  5.476464\n",
      "169890  2005-07-31   EYPT  5.502890\n",
      "169891  2005-08-31   EYPT  5.609472\n",
      "169892  2005-09-30   EYPT  5.501258\n",
      "169893  2005-10-31   EYPT  5.625460\n",
      "169894  2005-11-30   EYPT  5.484797\n",
      "169895  2005-12-31   EYPT  5.241747\n"
     ]
    }
   ],
   "source": [
    "meaningless_data_difference = long_formatted_data[\n",
    "    (long_formatted_data[\"Ticker\"].isin([\"AAPL\", \"EYPT\"])) &\n",
    "    (long_formatted_data[\"Date\"].between(\"2005-01-01\", \"2006-01-01\"))\n",
    "][[\"Date\", \"Ticker\", \"Open_LOG\"]]\n",
    "\n",
    "print(meaningless_data_difference)"
   ]
  },
  {
   "cell_type": "code",
   "execution_count": 35,
   "id": "06f0e4c2-b0f1-422b-a71b-7c2c94472c45",
   "metadata": {},
   "outputs": [
    {
     "data": {
      "image/png": "[encoded data removed]",
      "text/plain": [
       "<Figure size 640x480 with 1 Axes>"
      ]
     },
     "metadata": {},
     "output_type": "display_data"
    }
   ],
   "source": [
    "import matplotlib.pyplot as plt\n",
    "\n",
    "plt.hist(long_formatted_data[\"Open\"], bins=50)\n",
    "plt.title(\"Log Dönüştürülmemiş Open Değerleri Dağılımı\")\n",
    "plt.xlabel(\"Open\")\n",
    "plt.ylabel(\"Frekans\")\n",
    "plt.show()"
   ]
  },
  {
   "cell_type": "code",
   "execution_count": 37,
   "id": "acf122d0-32ce-41c3-8481-8054abcd48e8",
   "metadata": {},
   "outputs": [
    {
     "data": {
      "image/png": "[encoded data removed]",
      "text/plain": [
       "<Figure size 640x480 with 1 Axes>"
      ]
     },
     "metadata": {},
     "output_type": "display_data"
    }
   ],
   "source": [
    "plt.hist(long_formatted_data[\"Open_LOG\"], bins=50)\n",
    "plt.title(\"Log Dönüştürülmüş Open Değerleri Dağılımı\")\n",
    "plt.xlabel(\"Log(Open)\")\n",
    "plt.ylabel(\"Frekans\")\n",
    "plt.show()"
   ]
  },
  {
   "cell_type": "code",
   "execution_count": 43,
   "id": "e8f41c20-e07f-4b5d-8370-f28de49ceed0",
   "metadata": {},
   "outputs": [
    {
     "data": {
      "text/html": [
       "<div>\n",
       "<style scoped>\n",
       "    .dataframe tbody tr th:only-of-type {\n",
       "        vertical-align: middle;\n",
       "    }\n",
       "\n",
       "    .dataframe tbody tr th {\n",
       "        vertical-align: top;\n",
       "    }\n",
       "\n",
       "    .dataframe thead th {\n",
       "        text-align: right;\n",
       "    }\n",
       "</style>\n",
       "<table border=\"1\" class=\"dataframe\">\n",
       "  <thead>\n",
       "    <tr style=\"text-align: right;\">\n",
       "      <th></th>\n",
       "      <th>Date</th>\n",
       "      <th>Ticker</th>\n",
       "      <th>Open</th>\n",
       "      <th>Sector</th>\n",
       "      <th>Open_LOG</th>\n",
       "    </tr>\n",
       "  </thead>\n",
       "  <tbody>\n",
       "    <tr>\n",
       "      <th>0</th>\n",
       "      <td>2005-01-31</td>\n",
       "      <td>AAPL</td>\n",
       "      <td>0.975804</td>\n",
       "      <td>Technology</td>\n",
       "      <td>0.680975</td>\n",
       "    </tr>\n",
       "    <tr>\n",
       "      <th>1</th>\n",
       "      <td>2005-02-28</td>\n",
       "      <td>AAPL</td>\n",
       "      <td>1.160631</td>\n",
       "      <td>Technology</td>\n",
       "      <td>0.770400</td>\n",
       "    </tr>\n",
       "    <tr>\n",
       "      <th>2</th>\n",
       "      <td>2005-03-31</td>\n",
       "      <td>AAPL</td>\n",
       "      <td>1.355400</td>\n",
       "      <td>Technology</td>\n",
       "      <td>0.856710</td>\n",
       "    </tr>\n",
       "    <tr>\n",
       "      <th>3</th>\n",
       "      <td>2005-04-30</td>\n",
       "      <td>AAPL</td>\n",
       "      <td>1.268032</td>\n",
       "      <td>Technology</td>\n",
       "      <td>0.818913</td>\n",
       "    </tr>\n",
       "    <tr>\n",
       "      <th>4</th>\n",
       "      <td>2005-05-31</td>\n",
       "      <td>AAPL</td>\n",
       "      <td>1.090887</td>\n",
       "      <td>Technology</td>\n",
       "      <td>0.737588</td>\n",
       "    </tr>\n",
       "  </tbody>\n",
       "</table>\n",
       "</div>"
      ],
      "text/plain": [
       "         Date Ticker      Open      Sector  Open_LOG\n",
       "0  2005-01-31   AAPL  0.975804  Technology  0.680975\n",
       "1  2005-02-28   AAPL  1.160631  Technology  0.770400\n",
       "2  2005-03-31   AAPL  1.355400  Technology  0.856710\n",
       "3  2005-04-30   AAPL  1.268032  Technology  0.818913\n",
       "4  2005-05-31   AAPL  1.090887  Technology  0.737588"
      ]
     },
     "execution_count": 43,
     "metadata": {},
     "output_type": "execute_result"
    }
   ],
   "source": [
    "long_formatted_data.head()"
   ]
  },
  {
   "cell_type": "code",
   "execution_count": 45,
   "id": "2391df9e-68c9-4378-9152-a44815362f94",
   "metadata": {},
   "outputs": [],
   "source": [
    "long_formatted_data.to_csv('../data/processed_data/LOG_combined_data.csv', index=False)"
   ]
  },
  {
   "cell_type": "code",
   "execution_count": 47,
   "id": "725b227f-ff10-4037-bfea-c6583241bc84",
   "metadata": {},
   "outputs": [
    {
     "data": {
      "text/html": [
       "<div>\n",
       "<style scoped>\n",
       "    .dataframe tbody tr th:only-of-type {\n",
       "        vertical-align: middle;\n",
       "    }\n",
       "\n",
       "    .dataframe tbody tr th {\n",
       "        vertical-align: top;\n",
       "    }\n",
       "\n",
       "    .dataframe thead th {\n",
       "        text-align: right;\n",
       "    }\n",
       "</style>\n",
       "<table border=\"1\" class=\"dataframe\">\n",
       "  <thead>\n",
       "    <tr style=\"text-align: right;\">\n",
       "      <th></th>\n",
       "      <th>Date</th>\n",
       "      <th>Ticker</th>\n",
       "      <th>Open</th>\n",
       "      <th>Sector</th>\n",
       "      <th>Open_LOG</th>\n",
       "    </tr>\n",
       "  </thead>\n",
       "  <tbody>\n",
       "    <tr>\n",
       "      <th>0</th>\n",
       "      <td>2005-01-31</td>\n",
       "      <td>AAPL</td>\n",
       "      <td>0.975804</td>\n",
       "      <td>Technology</td>\n",
       "      <td>0.680975</td>\n",
       "    </tr>\n",
       "    <tr>\n",
       "      <th>1</th>\n",
       "      <td>2005-02-28</td>\n",
       "      <td>AAPL</td>\n",
       "      <td>1.160631</td>\n",
       "      <td>Technology</td>\n",
       "      <td>0.770400</td>\n",
       "    </tr>\n",
       "    <tr>\n",
       "      <th>2</th>\n",
       "      <td>2005-03-31</td>\n",
       "      <td>AAPL</td>\n",
       "      <td>1.355400</td>\n",
       "      <td>Technology</td>\n",
       "      <td>0.856710</td>\n",
       "    </tr>\n",
       "    <tr>\n",
       "      <th>3</th>\n",
       "      <td>2005-04-30</td>\n",
       "      <td>AAPL</td>\n",
       "      <td>1.268032</td>\n",
       "      <td>Technology</td>\n",
       "      <td>0.818913</td>\n",
       "    </tr>\n",
       "    <tr>\n",
       "      <th>4</th>\n",
       "      <td>2005-05-31</td>\n",
       "      <td>AAPL</td>\n",
       "      <td>1.090887</td>\n",
       "      <td>Technology</td>\n",
       "      <td>0.737588</td>\n",
       "    </tr>\n",
       "  </tbody>\n",
       "</table>\n",
       "</div>"
      ],
      "text/plain": [
       "         Date Ticker      Open      Sector  Open_LOG\n",
       "0  2005-01-31   AAPL  0.975804  Technology  0.680975\n",
       "1  2005-02-28   AAPL  1.160631  Technology  0.770400\n",
       "2  2005-03-31   AAPL  1.355400  Technology  0.856710\n",
       "3  2005-04-30   AAPL  1.268032  Technology  0.818913\n",
       "4  2005-05-31   AAPL  1.090887  Technology  0.737588"
      ]
     },
     "execution_count": 47,
     "metadata": {},
     "output_type": "execute_result"
    }
   ],
   "source": [
    "# Oluşturduğumuz tabloyu okuyalaım\n",
    "combined_data = pd.read_csv('../data/processed_data/LOG_combined_data.csv')\n",
    "\n",
    "combined_data.head()"
   ]
  },
  {
   "cell_type": "markdown",
   "id": "04fc7649-bd9d-4e83-bcd8-dc9d90108989",
   "metadata": {},
   "source": [
    "- Data-type'larında hata var ve tsfresh kütüphanesi ile çalışamam\n",
    "- Hatanın nedeni, Date sütunu type olarak obect ancak datetime64 olması gerek"
   ]
  },
  {
   "cell_type": "code",
   "execution_count": 49,
   "id": "4e8fe090-090c-4cc1-9f2b-8d6102de0af2",
   "metadata": {},
   "outputs": [
    {
     "name": "stdout",
     "output_type": "stream",
     "text": [
      "Date         object\n",
      "Ticker       object\n",
      "Open        float64\n",
      "Sector       object\n",
      "Open_LOG    float64\n",
      "dtype: object\n"
     ]
    }
   ],
   "source": [
    "print(combined_data.dtypes)"
   ]
  },
  {
   "cell_type": "code",
   "execution_count": 51,
   "id": "9157cd8c-8a40-4acc-b922-7ce2b959201e",
   "metadata": {},
   "outputs": [],
   "source": [
    "# Date sütununu datetime64 formuna çevirdim\n",
    "combined_data['Date'] = pd.to_datetime(combined_data['Date'])"
   ]
  },
  {
   "cell_type": "code",
   "execution_count": 53,
   "id": "5b1b430f-285c-491c-9e6a-c0f2cc85b39d",
   "metadata": {},
   "outputs": [
    {
     "name": "stdout",
     "output_type": "stream",
     "text": [
      "Date        datetime64[ns]\n",
      "Ticker              object\n",
      "Open               float64\n",
      "Sector              object\n",
      "Open_LOG           float64\n",
      "dtype: object\n"
     ]
    }
   ],
   "source": [
    "print(combined_data.dtypes)"
   ]
  },
  {
   "cell_type": "code",
   "execution_count": 55,
   "id": "bc55c4b1-557b-46e8-9020-7383f273f805",
   "metadata": {},
   "outputs": [
    {
     "data": {
      "text/plain": [
       "Date           0\n",
       "Ticker         0\n",
       "Open        1855\n",
       "Sector         0\n",
       "Open_LOG    1855\n",
       "dtype: int64"
      ]
     },
     "execution_count": 55,
     "metadata": {},
     "output_type": "execute_result"
    }
   ],
   "source": [
    "combined_data.isna().sum()"
   ]
  },
  {
   "cell_type": "markdown",
   "id": "4c9ee9d3-4350-4192-94a1-39a78fc99c27",
   "metadata": {},
   "source": [
    "## Kategorik Değişkenlerle Çalışma\n",
    "\n",
    "Kategorik veriler, sayısal olmayan ve genellikle kategorilere ayrılan verilerdir. Örneğin, bir şirketin faaliyet gösterdiği sektör gibi kategorik bilgiler, modelleme süreçlerinde sayısal verilere dönüştürülmelidir. Kategorik verileri sayısal hale getirmek için kullanılan yaygın yöntemler **One-Hot Encoding** ve **Label Encoding**'dir.\n",
    "\n",
    "### Sektör Verisi (Nominal Değişken)\n",
    "\n",
    "Verimdeki **Sektör** bilgisi, **nominal** (isimsel) bir değişkendir. Yani, sektörler arasında **doğal bir sıralama** ya da **ağırlık** yoktur. Örneğin, bir şirketin teknoloji, finans veya sağlık sektöründe olması, diğer sektörlere göre daha üstün ya da daha düşük bir değer taşımaz. Her bir sektör, sadece bir isimsel kategoriyi ifade eder.\n",
    "\n",
    "### One-Hot Encoding\n",
    "\n",
    "Nominal veriler için, **One-Hot Encoding** yöntemi genellikle tercih edilir. Bu yöntemde, her benzersiz kategori için ayrı bir sütun oluşturulur ve gözlemde o kategoriye ait olan değer **1** ile işaretlenirken, diğerleri **0** olarak kodlanır. Bu, modelin sektöre ait kategorileri sayısal verilere dönüştürmesine olanak tanır ve herhangi bir sıralama veya ağırlık ilişkisi oluşturmaz.\n",
    "\n",
    "Örneğin, **Sektör** değişkeninde \"Teknoloji\", \"Finans\" ve \"Sağlık\" gibi kategoriler varsa, One-Hot Encoding ile şu şekilde bir dönüşüm yapılır:\n",
    "\n",
    "| Date       | Ticker | Open | Sector    | Sector_Teknoloji | Sector_Finans | Sector_Sağlık |\n",
    "|------------|--------|------|-----------|------------------|---------------|---------------|\n",
    "| 2022-01-01 | AAPL   | 150  | Teknoloji | 1                | 0             | 0             |\n",
    "| 2022-01-02 | TSLA   | 700  | Finans    | 0                | 1             | 0             |\n",
    "| 2022-01-03 | PFE    | 40   | Sağlık    | 0                | 0             | 1             |\n",
    "\n",
    "Bu şekilde, her sektör için ayrı bir sütun eklenmiş olur ve her gözlem, o sektöre ait olan sütunda **1** değerini alırken, diğer sütunlarda **0** değerini alır. Bu, modelin sektörler arasında herhangi bir sıralama yapmamasını sağlar ve sektörel bilgiler daha doğru bir şekilde temsil edilmiş olur.\n"
   ]
  },
  {
   "cell_type": "code",
   "execution_count": 57,
   "id": "15dfe827-600d-4495-8538-9177fafbf1b3",
   "metadata": {},
   "outputs": [
    {
     "name": "stdout",
     "output_type": "stream",
     "text": [
      "        Date Ticker      Open  Open_LOG  Sector_Financials  Sector_Healthcare  \\\n",
      "0 2005-01-31   AAPL  0.975804  0.680975              False              False   \n",
      "1 2005-02-28   AAPL  1.160631  0.770400              False              False   \n",
      "2 2005-03-31   AAPL  1.355400  0.856710              False              False   \n",
      "3 2005-04-30   AAPL  1.268032  0.818913              False              False   \n",
      "4 2005-05-31   AAPL  1.090887  0.737588              False              False   \n",
      "\n",
      "   Sector_Technology  \n",
      "0               True  \n",
      "1               True  \n",
      "2               True  \n",
      "3               True  \n",
      "4               True  \n"
     ]
    }
   ],
   "source": [
    "# One-hot encoding uygulama: 'Sector' sütununu dönüştürüyoruz.\n",
    "combined_data_encoded = pd.get_dummies(combined_data, columns=['Sector'])\n",
    "\n",
    "print(combined_data_encoded.head())"
   ]
  },
  {
   "cell_type": "code",
   "execution_count": 59,
   "id": "cd8c013b-6709-45a2-a46b-14ec23bbcd72",
   "metadata": {},
   "outputs": [],
   "source": [
    "combined_data_encoded.to_csv('../data/processed_data/encoded_combined_data.csv', index=False)"
   ]
  },
  {
   "cell_type": "markdown",
   "id": "bb90cfec-2e78-4eea-8d4f-ad481043eec0",
   "metadata": {},
   "source": [
    "# **Öznitelik Çıkarımı ve Seçme**\n",
    "## **Öznitelik Çıkarımı:** \n",
    "### **1. tsfresh ile Otomatik Özellik Çıkarımı**\n",
    "Zaman serisi analizinde, veriden istatistiksel özellikler çıkarmak modelin başarısını artırabilir. **`tsfresh`** kütüphanesi, zaman serisi verilerinden otomatik olarak öznitelik (feature) çıkarımı yaparak analitik süreçleri hızlandırır. Bu süreçte çıkarılacak bazı temel istatistiksel özellikler şunlardır:\n",
    "\n",
    "- **Ortalama (Mean)**: Verinin genel eğilimini belirler.\n",
    "- **Standart Sapma (Standard Deviation)**: Verinin ne kadar değişkenlik gösterdiğini gösterir.\n",
    "- **Otokorelasyon (Autocorrelation)**: Bir zaman serisinin önceki değerleriyle olan ilişkisini ölçer.\n",
    "- **Minimum ve Maksimum Değerler**: Veri setinin uç noktalarını belirler.\n",
    "- **Medyan ve Çeyrek Değerler**: Veri dağılımı hakkında bilgi verir.\n",
    "\n",
    "Ancak, **`tsfresh` ile başarılı bir öznitelik çıkarımı için veri setinde eksik değer bulunmamalıdır**. Eksik değerlerin doldurulması, sağlıklı analiz yapabilmek için kritik bir adımdır.\n",
    "\n",
    "---\n",
    "\n",
    "### **2. Eksik Değerleri Doldurma Yöntemleri**\n",
    "Veri setinde **1855 adet eksik değer** bulunduğundan, bu boş değerlerin uygun bir yöntemle doldurulması gerekmektedir.\n",
    "\n",
    "#### **2.1 Forward Fill (ffill - İleri Doldurma)**\n",
    "Bu yöntemde, eksik değerler bir önceki satırdaki değer ile doldurulur.\n",
    "\n",
    "✔ **Avantajları:**\n",
    "- Zamansal olarak önceki değerin devam ettiğini varsayarak gerçekçi bir doldurma yapar.\n",
    "- Eğer şirketin açılış değerleri benzer şekilde devam ediyorsa, daha doğru tahminler üretebilir.\n",
    "\n",
    "✖ **Dezavantajları:**\n",
    "- Eğer ilk birkaç veri noktası eksikse, doldurmak mümkün olmayabilir.\n",
    "- Uzun süreli eksikliklerde geçmiş veriye çok bağımlı kalabilir.\n",
    "\n",
    "#### **2.2 Backward Fill (bfill - Geriye Doldurma)**\n",
    "Bu yöntemde, eksik değerler bir sonraki satırdaki değer ile doldurulur.\n",
    "\n",
    "✔ **Avantajları:**\n",
    "- Eğer eksik değerler bir sonraki aya yakın olacaksa, daha doğru olabilir.\n",
    "- Belirsiz olan geçmişi tahmin etmek yerine, bilinen bir gelecek değere güvenerek doldurur.\n",
    "\n",
    "✖ **Dezavantajları:**\n",
    "- Veri geçmişten geleceğe doğru bir bağımlılık içeriyorsa, yanlış tahminlere yol açabilir.\n",
    "\n",
    "** Sonuç:**\n",
    "Şirketlerin açılış değerleri genellikle **bir önceki aya benzer** olduğu için, **ffill** ve **bfill** yöntemlerinin birlikte kullanılması en iyi sonucu verebilir:\n",
    "\n",
    "### **3. En Yakın 5 Komşuya Göre Doldurma (KNN Imputation)**\n",
    "Bazı durumlarda, en yakın **5 komşunun** değerine bakarak eksik değerleri doldurmak daha iyi sonuç verebilir. **KNN (K-Nearest Neighbors) imputation** yöntemi, eksik değerin yerine **zaman serisindeki en yakın 5 değerin ortalamasını** koyar.\n",
    "\n",
    "✔ **Avantajları:**\n",
    "- Veri trendini daha iyi yakalayabilir.\n",
    "- Anormal sıçramaları azaltarak daha doğal bir veri dağılımı sağlar.\n",
    "\n",
    "✖ **Dezavantajları:**\n",
    "- Eğer veri setinde çok fazla eksiklik varsa, komşular yanlış tahminler yapabilir.\n",
    "- Hesaplama maliyeti diğer yöntemlere göre daha yüksektir.\n",
    "\n",
    "### **4. Sonuç**\n",
    "Eksik değerleri doldurmanın en iyi yöntemi, **verinin doğasına bağlıdır**.\n",
    "- **Eğer veride bir önceki ayın değeri geçerliliğini koruyorsa**, `ffill` ve `bfill` kombinasyonu en iyi seçenek olabilir.\n",
    "- **Eğer veri daha dalgalı ve düzensizse**, KNN yöntemi daha uygun olabilir.\n",
    "- **Eğer istatistiksel analiz için eksik verileri nötr bir şekilde doldurmak isteniyorsa**, ortalama (mean) kullanımı da düşünülebilir.\n",
    "\n",
    "Bu çalışmada, **şirketlerin açılış değerleri genellikle bir önceki aya benzer olduğu için `ffill` ve `bfill` kombinasyonu seçildi**. Alternatif olarak, en yakın **5 komşuya göre doldurma (KNN imputation)** yöntemi de veri yapısına bağlı olarak değerlendirilebilir. \n",
    "\n"
   ]
  },
  {
   "cell_type": "code",
   "execution_count": 61,
   "id": "f1174f3d-5d3d-4852-a139-0ad999db3ff6",
   "metadata": {},
   "outputs": [
    {
     "data": {
      "text/plain": [
       "Date           0\n",
       "Ticker         0\n",
       "Open        1855\n",
       "Sector         0\n",
       "Open_LOG    1855\n",
       "dtype: int64"
      ]
     },
     "execution_count": 61,
     "metadata": {},
     "output_type": "execute_result"
    }
   ],
   "source": [
    "combined_data.isna().sum()"
   ]
  },
  {
   "cell_type": "code",
   "execution_count": 63,
   "id": "05ed9f22-c49e-4356-99b1-7364fe3ef260",
   "metadata": {},
   "outputs": [],
   "source": [
    "data_open_filled = pd.read_csv('../data/processed_data/encoded_combined_data.csv')\n",
    "\n",
    "data_open_filled['Open'] = data_open_filled['Open'].ffill().bfill()\n",
    "data_open_filled['Open_LOG'] = data_open_filled['Open_LOG'].ffill().bfill()"
   ]
  },
  {
   "cell_type": "code",
   "execution_count": 101,
   "id": "dd087bd9-2c01-495d-a5eb-d285f4184707",
   "metadata": {},
   "outputs": [
    {
     "data": {
      "text/plain": [
       "Date                 0\n",
       "Ticker               0\n",
       "Open                 0\n",
       "Open_LOG             0\n",
       "Sector_Financials    0\n",
       "Sector_Healthcare    0\n",
       "Sector_Technology    0\n",
       "dtype: int64"
      ]
     },
     "execution_count": 101,
     "metadata": {},
     "output_type": "execute_result"
    }
   ],
   "source": [
    "data_open_filled.isna().sum()"
   ]
  },
  {
   "cell_type": "code",
   "execution_count": 71,
   "id": "04ae949e-6bb0-42bc-aaf4-2b06afa291ce",
   "metadata": {},
   "outputs": [
    {
     "name": "stderr",
     "output_type": "stream",
     "text": [
      "Feature Extraction: 100%|██████████| 30/30 [00:06<00:00,  4.58it/s]\n"
     ]
    }
   ],
   "source": [
    "import tsfresh\n",
    "from tsfresh.feature_extraction import MinimalFCParameters\n",
    "\n",
    "# Extract features using only the 'Open' column\n",
    "data_extract_features = tsfresh.extract_features(\n",
    "    data_open_filled,\n",
    "    column_id='Ticker',\n",
    "    column_sort='Date',\n",
    "    column_value='Open_LOG',  # Explicitly specify the value column\n",
    "    default_fc_parameters=MinimalFCParameters()\n",
    ")"
   ]
  },
  {
   "cell_type": "code",
   "execution_count": 83,
   "id": "a03bd375-f9ee-4507-9e0b-5a48f9a655c4",
   "metadata": {},
   "outputs": [],
   "source": [
    "data_extract_features.to_excel('../data/processed_data/extracted_features.xlsx', index= False)"
   ]
  },
  {
   "cell_type": "code",
   "execution_count": 85,
   "id": "7a1fbb86-02e6-41a4-9628-b859e73297fe",
   "metadata": {},
   "outputs": [
    {
     "data": {
      "text/plain": [
       "Index(['Open_LOG__sum_values', 'Open_LOG__median', 'Open_LOG__mean',\n",
       "       'Open_LOG__length', 'Open_LOG__standard_deviation',\n",
       "       'Open_LOG__variance', 'Open_LOG__root_mean_square', 'Open_LOG__maximum',\n",
       "       'Open_LOG__absolute_maximum', 'Open_LOG__minimum'],\n",
       "      dtype='object')"
      ]
     },
     "execution_count": 85,
     "metadata": {},
     "output_type": "execute_result"
    }
   ],
   "source": [
    "data_extract_features.columns"
   ]
  },
  {
   "cell_type": "code",
   "execution_count": 87,
   "id": "f10bf780-9e97-4a2e-97ee-4ab9060d6c74",
   "metadata": {},
   "outputs": [
    {
     "data": {
      "text/plain": [
       "Open_LOG__sum_values            0.0\n",
       "Open_LOG__median                0.0\n",
       "Open_LOG__mean                  0.0\n",
       "Open_LOG__length                0.0\n",
       "Open_LOG__standard_deviation    0.0\n",
       "Open_LOG__variance              0.0\n",
       "Open_LOG__root_mean_square      0.0\n",
       "Open_LOG__maximum               0.0\n",
       "Open_LOG__absolute_maximum      0.0\n",
       "Open_LOG__minimum               0.0\n",
       "dtype: float64"
      ]
     },
     "execution_count": 87,
     "metadata": {},
     "output_type": "execute_result"
    }
   ],
   "source": [
    "data_extract_features.isna().mean()"
   ]
  },
  {
   "cell_type": "code",
   "execution_count": 89,
   "id": "80e42d33-b7e5-4a52-b21b-76cd85713e20",
   "metadata": {},
   "outputs": [],
   "source": [
    "extracted_data = pd.read_excel('../data/processed_data/extracted_features.xlsx')"
   ]
  },
  {
   "cell_type": "code",
   "execution_count": 113,
   "id": "2933ed69-91d4-42b6-b4ff-1d2552c54367",
   "metadata": {},
   "outputs": [
    {
     "data": {
      "text/html": [
       "<div>\n",
       "<style scoped>\n",
       "    .dataframe tbody tr th:only-of-type {\n",
       "        vertical-align: middle;\n",
       "    }\n",
       "\n",
       "    .dataframe tbody tr th {\n",
       "        vertical-align: top;\n",
       "    }\n",
       "\n",
       "    .dataframe thead th {\n",
       "        text-align: right;\n",
       "    }\n",
       "</style>\n",
       "<table border=\"1\" class=\"dataframe\">\n",
       "  <thead>\n",
       "    <tr style=\"text-align: right;\">\n",
       "      <th></th>\n",
       "      <th>Open_LOG__sum_values</th>\n",
       "      <th>Open_LOG__median</th>\n",
       "      <th>Open_LOG__mean</th>\n",
       "      <th>Open_LOG__length</th>\n",
       "      <th>Open_LOG__standard_deviation</th>\n",
       "      <th>Open_LOG__variance</th>\n",
       "      <th>Open_LOG__root_mean_square</th>\n",
       "      <th>Open_LOG__maximum</th>\n",
       "      <th>Open_LOG__absolute_maximum</th>\n",
       "      <th>Open_LOG__minimum</th>\n",
       "    </tr>\n",
       "  </thead>\n",
       "  <tbody>\n",
       "    <tr>\n",
       "      <th>0</th>\n",
       "      <td>913.803854</td>\n",
       "      <td>3.640010</td>\n",
       "      <td>3.776049</td>\n",
       "      <td>242</td>\n",
       "      <td>0.748784</td>\n",
       "      <td>0.560677</td>\n",
       "      <td>3.849574</td>\n",
       "      <td>5.147572</td>\n",
       "      <td>5.147572</td>\n",
       "      <td>2.271823</td>\n",
       "    </tr>\n",
       "    <tr>\n",
       "      <th>1</th>\n",
       "      <td>765.162532</td>\n",
       "      <td>3.156754</td>\n",
       "      <td>3.161829</td>\n",
       "      <td>242</td>\n",
       "      <td>1.367907</td>\n",
       "      <td>1.871170</td>\n",
       "      <td>3.445044</td>\n",
       "      <td>5.521181</td>\n",
       "      <td>5.521181</td>\n",
       "      <td>0.680975</td>\n",
       "    </tr>\n",
       "    <tr>\n",
       "      <th>2</th>\n",
       "      <td>657.495087</td>\n",
       "      <td>2.678818</td>\n",
       "      <td>2.716922</td>\n",
       "      <td>242</td>\n",
       "      <td>0.548805</td>\n",
       "      <td>0.301187</td>\n",
       "      <td>2.771796</td>\n",
       "      <td>3.797835</td>\n",
       "      <td>3.797835</td>\n",
       "      <td>1.479999</td>\n",
       "    </tr>\n",
       "    <tr>\n",
       "      <th>3</th>\n",
       "      <td>753.473373</td>\n",
       "      <td>3.136306</td>\n",
       "      <td>3.113526</td>\n",
       "      <td>242</td>\n",
       "      <td>0.642239</td>\n",
       "      <td>0.412470</td>\n",
       "      <td>3.179075</td>\n",
       "      <td>4.272131</td>\n",
       "      <td>4.272131</td>\n",
       "      <td>1.601182</td>\n",
       "    </tr>\n",
       "    <tr>\n",
       "      <th>4</th>\n",
       "      <td>881.038604</td>\n",
       "      <td>3.540451</td>\n",
       "      <td>3.640655</td>\n",
       "      <td>242</td>\n",
       "      <td>0.728726</td>\n",
       "      <td>0.531042</td>\n",
       "      <td>3.712871</td>\n",
       "      <td>4.883718</td>\n",
       "      <td>4.883718</td>\n",
       "      <td>2.528605</td>\n",
       "    </tr>\n",
       "  </tbody>\n",
       "</table>\n",
       "</div>"
      ],
      "text/plain": [
       "   Open_LOG__sum_values  Open_LOG__median  Open_LOG__mean  Open_LOG__length  \\\n",
       "0            913.803854          3.640010        3.776049               242   \n",
       "1            765.162532          3.156754        3.161829               242   \n",
       "2            657.495087          2.678818        2.716922               242   \n",
       "3            753.473373          3.136306        3.113526               242   \n",
       "4            881.038604          3.540451        3.640655               242   \n",
       "\n",
       "   Open_LOG__standard_deviation  Open_LOG__variance  \\\n",
       "0                      0.748784            0.560677   \n",
       "1                      1.367907            1.871170   \n",
       "2                      0.548805            0.301187   \n",
       "3                      0.642239            0.412470   \n",
       "4                      0.728726            0.531042   \n",
       "\n",
       "   Open_LOG__root_mean_square  Open_LOG__maximum  Open_LOG__absolute_maximum  \\\n",
       "0                    3.849574           5.147572                    5.147572   \n",
       "1                    3.445044           5.521181                    5.521181   \n",
       "2                    2.771796           3.797835                    3.797835   \n",
       "3                    3.179075           4.272131                    4.272131   \n",
       "4                    3.712871           4.883718                    4.883718   \n",
       "\n",
       "   Open_LOG__minimum  \n",
       "0           2.271823  \n",
       "1           0.680975  \n",
       "2           1.479999  \n",
       "3           1.601182  \n",
       "4           2.528605  "
      ]
     },
     "execution_count": 113,
     "metadata": {},
     "output_type": "execute_result"
    }
   ],
   "source": [
    "extracted_data.head()"
   ]
  },
  {
   "cell_type": "markdown",
   "id": "4eb361ea-f8ed-4155-8635-7e23b17678c6",
   "metadata": {},
   "source": [
    "## **Öznitelik Seçme**:\n",
    "- Çıkarılan özellikler arasından en önemlileri seçmek için\n",
    "    - L1 regularization (Lasso),\n",
    "    - Recursive Feature Elimination (RFE)\n",
    "    - Principal Component Analysis (PCA)\n",
    "gibi yöntemler kullanılabilir."
   ]
  },
  {
   "cell_type": "code",
   "execution_count": 121,
   "id": "4917843f-539e-4fb9-b355-9a94ff8f2416",
   "metadata": {},
   "outputs": [
    {
     "data": {
      "text/plain": [
       "Index(['Date', 'Ticker', 'Open', 'Open_LOG', 'Sector_Financials',\n",
       "       'Sector_Healthcare', 'Sector_Technology'],\n",
       "      dtype='object')"
      ]
     },
     "execution_count": 121,
     "metadata": {},
     "output_type": "execute_result"
    }
   ],
   "source": [
    "data_open_filled.columns"
   ]
  },
  {
   "cell_type": "code",
   "execution_count": 129,
   "id": "bc810a97-b6e5-40c0-acad-ac0903a6d5fe",
   "metadata": {},
   "outputs": [],
   "source": [
    "from sklearn.preprocessing import LabelEncoder\n",
    "\n",
    "# Sektör sütunlarından biri \"True\" olduğu için, hangi sektörse o sütunun adını al\n",
    "data_open_filled['Sector_Label'] = data_open_filled[['Sector_Financials', 'Sector_Healthcare', 'Sector_Technology']].idxmax(axis=1)\n",
    "\n",
    "# Label Encoding\n",
    "label_encoder = LabelEncoder()\n",
    "# Hedef değişkenler (one-hot encoded sektör bilgisi)\n",
    "y = label_encoder.fit_transform(data_open_filled['Sector_Label'])"
   ]
  },
  {
   "cell_type": "code",
   "execution_count": 131,
   "id": "48f7950e-08cd-429b-b9f9-87a44738a428",
   "metadata": {},
   "outputs": [
    {
     "ename": "AxisError",
     "evalue": "axis 1 is out of bounds for array of dimension 1",
     "output_type": "error",
     "traceback": [
      "\u001b[1;31m---------------------------------------------------------------------------\u001b[0m",
      "\u001b[1;31mAxisError\u001b[0m                                 Traceback (most recent call last)",
      "Cell \u001b[1;32mIn[131], line 33\u001b[0m\n\u001b[0;32m     29\u001b[0m mlp\u001b[38;5;241m.\u001b[39mfit(X_train, y_train)\n\u001b[0;32m     31\u001b[0m y_pred_mlp \u001b[38;5;241m=\u001b[39m mlp\u001b[38;5;241m.\u001b[39mpredict(X_test)\n\u001b[1;32m---> 33\u001b[0m \u001b[38;5;28mprint\u001b[39m(\u001b[38;5;124m\"\u001b[39m\u001b[38;5;124mLogistic Regression Accuracy:\u001b[39m\u001b[38;5;124m\"\u001b[39m, accuracy_score(y_test\u001b[38;5;241m.\u001b[39margmax(axis\u001b[38;5;241m=\u001b[39m\u001b[38;5;241m1\u001b[39m), y_pred\u001b[38;5;241m.\u001b[39margmax(axis\u001b[38;5;241m=\u001b[39m\u001b[38;5;241m1\u001b[39m)))\n\u001b[0;32m     34\u001b[0m \u001b[38;5;28mprint\u001b[39m(classification_report(y_test\u001b[38;5;241m.\u001b[39margmax(axis\u001b[38;5;241m=\u001b[39m\u001b[38;5;241m1\u001b[39m), y_pred\u001b[38;5;241m.\u001b[39margmax(axis\u001b[38;5;241m=\u001b[39m\u001b[38;5;241m1\u001b[39m)))\n\u001b[0;32m     36\u001b[0m \u001b[38;5;28mprint\u001b[39m(\u001b[38;5;124m\"\u001b[39m\u001b[38;5;124mRandom Forest Accuracy:\u001b[39m\u001b[38;5;124m\"\u001b[39m, accuracy_score(y_test\u001b[38;5;241m.\u001b[39margmax(axis\u001b[38;5;241m=\u001b[39m\u001b[38;5;241m1\u001b[39m), y_pred_rf\u001b[38;5;241m.\u001b[39margmax(axis\u001b[38;5;241m=\u001b[39m\u001b[38;5;241m1\u001b[39m)))\n",
      "\u001b[1;31mAxisError\u001b[0m: axis 1 is out of bounds for array of dimension 1"
     ]
    }
   ],
   "source": [
    "from sklearn.linear_model import LogisticRegression\n",
    "from sklearn.ensemble import RandomForestClassifier\n",
    "from sklearn.neural_network import MLPClassifier\n",
    "from sklearn.model_selection import train_test_split\n",
    "from sklearn.preprocessing import StandardScaler\n",
    "from sklearn.metrics import accuracy_score, classification_report\n",
    "\n",
    "# Özellikler (hedef değişkenler hariç tüm sütunlar)\n",
    "X = data_open_filled.drop(columns=['Sector_Financials', 'Sector_Healthcare', 'Sector_Technology', 'Sector_Label', 'Ticker', 'Date'])\n",
    "\n",
    "# Veriyi ölçeklendirin\n",
    "scaler = StandardScaler()\n",
    "X_scaled = scaler.fit_transform(X)\n",
    "\n",
    "# Veriyi eğitim ve test olarak ayırın %80 train, %20 test\n",
    "X_train, X_test, y_train, y_test = train_test_split(X_scaled, y, test_size=0.2, random_state=42)\n",
    "\n",
    "log_reg = LogisticRegression(multi_class='ovr', solver='lbfgs', max_iter=1000)\n",
    "log_reg.fit(X_train, y_train)\n",
    "\n",
    "y_pred = log_reg.predict(X_test)\n",
    "\n",
    "rf = RandomForestClassifier(n_estimators=100, random_state=42)\n",
    "rf.fit(X_train, y_train)\n",
    "\n",
    "y_pred_rf = rf.predict(X_test)\n",
    "\n",
    "mlp = MLPClassifier(hidden_layer_sizes=(32, 16), activation='relu', max_iter=500)\n",
    "mlp.fit(X_train, y_train)\n",
    "\n",
    "y_pred_mlp = mlp.predict(X_test)"
   ]
  },
  {
   "cell_type": "code",
   "execution_count": 133,
   "id": "b568e60d-28c0-4b0a-8891-e404bf4d177e",
   "metadata": {},
   "outputs": [
    {
     "name": "stdout",
     "output_type": "stream",
     "text": [
      "Logistic Regression Accuracy: 0.45148993132347803\n",
      "                   precision    recall  f1-score   support\n",
      "\n",
      "Sector_Financials       0.45      0.99      0.62     15510\n",
      "Sector_Healthcare       0.38      0.02      0.04      8060\n",
      "Sector_Technology       0.50      0.00      0.00     10794\n",
      "\n",
      "         accuracy                           0.45     34364\n",
      "        macro avg       0.44      0.34      0.22     34364\n",
      "     weighted avg       0.45      0.45      0.29     34364\n",
      "\n",
      "Random Forest Accuracy: 0.4463973926201839\n",
      "                   precision    recall  f1-score   support\n",
      "\n",
      "Sector_Financials       0.59      0.53      0.56     15510\n",
      "Sector_Healthcare       0.32      0.33      0.33      8060\n",
      "Sector_Technology       0.37      0.41      0.39     10794\n",
      "\n",
      "         accuracy                           0.45     34364\n",
      "        macro avg       0.43      0.42      0.42     34364\n",
      "     weighted avg       0.46      0.45      0.45     34364\n",
      "\n",
      "MLP Classifier Accuracy: 0.460976603422186\n",
      "                   precision    recall  f1-score   support\n",
      "\n",
      "Sector_Financials       0.47      0.92      0.62     15510\n",
      "Sector_Healthcare       0.36      0.12      0.18      8060\n",
      "Sector_Technology       0.47      0.05      0.10     10794\n",
      "\n",
      "         accuracy                           0.46     34364\n",
      "        macro avg       0.43      0.36      0.30     34364\n",
      "     weighted avg       0.44      0.46      0.35     34364\n",
      "\n"
     ]
    }
   ],
   "source": [
    "print(\"Logistic Regression Accuracy:\", accuracy_score(y_test, y_pred))\n",
    "print(classification_report(y_test, y_pred, target_names=label_encoder.classes_))\n",
    "\n",
    "print(\"Random Forest Accuracy:\", accuracy_score(y_test, y_pred_rf))\n",
    "print(classification_report(y_test, y_pred_rf, target_names=label_encoder.classes_))\n",
    "\n",
    "print(\"MLP Classifier Accuracy:\", accuracy_score(y_test, y_pred_mlp))\n",
    "print(classification_report(y_test, y_pred_mlp, target_names=label_encoder.classes_))\n"
   ]
  },
  {
   "cell_type": "markdown",
   "id": "c5cb8003-3be9-4d78-90cb-5be5af44cf39",
   "metadata": {},
   "source": [
    "# Model Geliştirme"
   ]
  },
  {
   "cell_type": "code",
   "execution_count": 300,
   "id": "c9d687bc-ebcc-4003-bb9b-e1ded63cbdb6",
   "metadata": {},
   "outputs": [],
   "source": [
    "from sklearn.preprocessing import LabelEncoder\n",
    "\n",
    "# 'Date' sütununu datetime formatına dönüştürme\n",
    "combined_data_encoded['Date'] = pd.to_datetime(combined_data_encoded['Date'])"
   ]
  },
  {
   "cell_type": "code",
   "execution_count": 302,
   "id": "bc339384-cfd8-43e0-82f3-4af6bb418df7",
   "metadata": {},
   "outputs": [
    {
     "data": {
      "text/html": [
       "<div>\n",
       "<style scoped>\n",
       "    .dataframe tbody tr th:only-of-type {\n",
       "        vertical-align: middle;\n",
       "    }\n",
       "\n",
       "    .dataframe tbody tr th {\n",
       "        vertical-align: top;\n",
       "    }\n",
       "\n",
       "    .dataframe thead th {\n",
       "        text-align: right;\n",
       "    }\n",
       "</style>\n",
       "<table border=\"1\" class=\"dataframe\">\n",
       "  <thead>\n",
       "    <tr style=\"text-align: right;\">\n",
       "      <th></th>\n",
       "      <th>Date</th>\n",
       "      <th>Ticker</th>\n",
       "      <th>Open</th>\n",
       "      <th>Sector_Financials</th>\n",
       "      <th>Sector_Healthcare</th>\n",
       "      <th>Sector_Technology</th>\n",
       "    </tr>\n",
       "  </thead>\n",
       "  <tbody>\n",
       "    <tr>\n",
       "      <th>0</th>\n",
       "      <td>2005-01-31</td>\n",
       "      <td>1</td>\n",
       "      <td>0.975804</td>\n",
       "      <td>False</td>\n",
       "      <td>False</td>\n",
       "      <td>True</td>\n",
       "    </tr>\n",
       "    <tr>\n",
       "      <th>1</th>\n",
       "      <td>2005-02-28</td>\n",
       "      <td>1</td>\n",
       "      <td>1.160631</td>\n",
       "      <td>False</td>\n",
       "      <td>False</td>\n",
       "      <td>True</td>\n",
       "    </tr>\n",
       "    <tr>\n",
       "      <th>2</th>\n",
       "      <td>2005-03-31</td>\n",
       "      <td>1</td>\n",
       "      <td>1.355400</td>\n",
       "      <td>False</td>\n",
       "      <td>False</td>\n",
       "      <td>True</td>\n",
       "    </tr>\n",
       "    <tr>\n",
       "      <th>3</th>\n",
       "      <td>2005-04-30</td>\n",
       "      <td>1</td>\n",
       "      <td>1.268032</td>\n",
       "      <td>False</td>\n",
       "      <td>False</td>\n",
       "      <td>True</td>\n",
       "    </tr>\n",
       "    <tr>\n",
       "      <th>4</th>\n",
       "      <td>2005-05-31</td>\n",
       "      <td>1</td>\n",
       "      <td>1.090887</td>\n",
       "      <td>False</td>\n",
       "      <td>False</td>\n",
       "      <td>True</td>\n",
       "    </tr>\n",
       "    <tr>\n",
       "      <th>...</th>\n",
       "      <td>...</td>\n",
       "      <td>...</td>\n",
       "      <td>...</td>\n",
       "      <td>...</td>\n",
       "      <td>...</td>\n",
       "      <td>...</td>\n",
       "    </tr>\n",
       "    <tr>\n",
       "      <th>171815</th>\n",
       "      <td>2024-10-31</td>\n",
       "      <td>613</td>\n",
       "      <td>11.880000</td>\n",
       "      <td>False</td>\n",
       "      <td>True</td>\n",
       "      <td>False</td>\n",
       "    </tr>\n",
       "    <tr>\n",
       "      <th>171816</th>\n",
       "      <td>2024-11-30</td>\n",
       "      <td>613</td>\n",
       "      <td>12.720000</td>\n",
       "      <td>False</td>\n",
       "      <td>True</td>\n",
       "      <td>False</td>\n",
       "    </tr>\n",
       "    <tr>\n",
       "      <th>171817</th>\n",
       "      <td>2024-12-31</td>\n",
       "      <td>613</td>\n",
       "      <td>17.809999</td>\n",
       "      <td>False</td>\n",
       "      <td>True</td>\n",
       "      <td>False</td>\n",
       "    </tr>\n",
       "    <tr>\n",
       "      <th>171818</th>\n",
       "      <td>2025-01-31</td>\n",
       "      <td>613</td>\n",
       "      <td>19.350000</td>\n",
       "      <td>False</td>\n",
       "      <td>True</td>\n",
       "      <td>False</td>\n",
       "    </tr>\n",
       "    <tr>\n",
       "      <th>171819</th>\n",
       "      <td>2025-02-28</td>\n",
       "      <td>613</td>\n",
       "      <td>24.340000</td>\n",
       "      <td>False</td>\n",
       "      <td>True</td>\n",
       "      <td>False</td>\n",
       "    </tr>\n",
       "  </tbody>\n",
       "</table>\n",
       "<p>171820 rows × 6 columns</p>\n",
       "</div>"
      ],
      "text/plain": [
       "             Date  Ticker       Open  Sector_Financials  Sector_Healthcare  \\\n",
       "0      2005-01-31       1   0.975804              False              False   \n",
       "1      2005-02-28       1   1.160631              False              False   \n",
       "2      2005-03-31       1   1.355400              False              False   \n",
       "3      2005-04-30       1   1.268032              False              False   \n",
       "4      2005-05-31       1   1.090887              False              False   \n",
       "...           ...     ...        ...                ...                ...   \n",
       "171815 2024-10-31     613  11.880000              False               True   \n",
       "171816 2024-11-30     613  12.720000              False               True   \n",
       "171817 2024-12-31     613  17.809999              False               True   \n",
       "171818 2025-01-31     613  19.350000              False               True   \n",
       "171819 2025-02-28     613  24.340000              False               True   \n",
       "\n",
       "        Sector_Technology  \n",
       "0                    True  \n",
       "1                    True  \n",
       "2                    True  \n",
       "3                    True  \n",
       "4                    True  \n",
       "...                   ...  \n",
       "171815              False  \n",
       "171816              False  \n",
       "171817              False  \n",
       "171818              False  \n",
       "171819              False  \n",
       "\n",
       "[171820 rows x 6 columns]"
      ]
     },
     "execution_count": 302,
     "metadata": {},
     "output_type": "execute_result"
    }
   ],
   "source": [
    "combined_data_encoded"
   ]
  },
  {
   "cell_type": "code",
   "execution_count": 336,
   "id": "151121cc-c22b-4e12-9592-928973966e73",
   "metadata": {},
   "outputs": [],
   "source": [
    "# Özellikler (features) ve hedef (target) değişkenini belirleme\n",
    "X = combined_data_encoded.drop(columns=['Date', 'Open', 'Open_LOG', 'Ticker'])  # 'Date' ve 'Open' dışındaki tüm sütunlar\n",
    "y = combined_data_encoded['Open_LOG']"
   ]
  },
  {
   "cell_type": "code",
   "execution_count": 338,
   "id": "f56a0044-5163-47a2-b728-d887022f2d3c",
   "metadata": {},
   "outputs": [],
   "source": [
    "from sklearn.model_selection import train_test_split\n",
    "\n",
    "# Veriyi eğitim ve test setlerine ayırma (80% eğitim, 20% test)\n",
    "X_train, X_test, y_train, y_test = train_test_split(X, y, test_size=0.2, random_state=42)"
   ]
  },
  {
   "cell_type": "code",
   "execution_count": 340,
   "id": "2dd70e59-c3e1-4f26-ad62-f860cf2e4836",
   "metadata": {},
   "outputs": [
    {
     "data": {
      "text/html": [
       "<style>#sk-container-id-5 {color: black;}#sk-container-id-5 pre{padding: 0;}#sk-container-id-5 div.sk-toggleable {background-color: white;}#sk-container-id-5 label.sk-toggleable__label {cursor: pointer;display: block;width: 100%;margin-bottom: 0;padding: 0.3em;box-sizing: border-box;text-align: center;}#sk-container-id-5 label.sk-toggleable__label-arrow:before {content: \"▸\";float: left;margin-right: 0.25em;color: #696969;}#sk-container-id-5 label.sk-toggleable__label-arrow:hover:before {color: black;}#sk-container-id-5 div.sk-estimator:hover label.sk-toggleable__label-arrow:before {color: black;}#sk-container-id-5 div.sk-toggleable__content {max-height: 0;max-width: 0;overflow: hidden;text-align: left;background-color: #f0f8ff;}#sk-container-id-5 div.sk-toggleable__content pre {margin: 0.2em;color: black;border-radius: 0.25em;background-color: #f0f8ff;}#sk-container-id-5 input.sk-toggleable__control:checked~div.sk-toggleable__content {max-height: 200px;max-width: 100%;overflow: auto;}#sk-container-id-5 input.sk-toggleable__control:checked~label.sk-toggleable__label-arrow:before {content: \"▾\";}#sk-container-id-5 div.sk-estimator input.sk-toggleable__control:checked~label.sk-toggleable__label {background-color: #d4ebff;}#sk-container-id-5 div.sk-label input.sk-toggleable__control:checked~label.sk-toggleable__label {background-color: #d4ebff;}#sk-container-id-5 input.sk-hidden--visually {border: 0;clip: rect(1px 1px 1px 1px);clip: rect(1px, 1px, 1px, 1px);height: 1px;margin: -1px;overflow: hidden;padding: 0;position: absolute;width: 1px;}#sk-container-id-5 div.sk-estimator {font-family: monospace;background-color: #f0f8ff;border: 1px dotted black;border-radius: 0.25em;box-sizing: border-box;margin-bottom: 0.5em;}#sk-container-id-5 div.sk-estimator:hover {background-color: #d4ebff;}#sk-container-id-5 div.sk-parallel-item::after {content: \"\";width: 100%;border-bottom: 1px solid gray;flex-grow: 1;}#sk-container-id-5 div.sk-label:hover label.sk-toggleable__label {background-color: #d4ebff;}#sk-container-id-5 div.sk-serial::before {content: \"\";position: absolute;border-left: 1px solid gray;box-sizing: border-box;top: 0;bottom: 0;left: 50%;z-index: 0;}#sk-container-id-5 div.sk-serial {display: flex;flex-direction: column;align-items: center;background-color: white;padding-right: 0.2em;padding-left: 0.2em;position: relative;}#sk-container-id-5 div.sk-item {position: relative;z-index: 1;}#sk-container-id-5 div.sk-parallel {display: flex;align-items: stretch;justify-content: center;background-color: white;position: relative;}#sk-container-id-5 div.sk-item::before, #sk-container-id-5 div.sk-parallel-item::before {content: \"\";position: absolute;border-left: 1px solid gray;box-sizing: border-box;top: 0;bottom: 0;left: 50%;z-index: -1;}#sk-container-id-5 div.sk-parallel-item {display: flex;flex-direction: column;z-index: 1;position: relative;background-color: white;}#sk-container-id-5 div.sk-parallel-item:first-child::after {align-self: flex-end;width: 50%;}#sk-container-id-5 div.sk-parallel-item:last-child::after {align-self: flex-start;width: 50%;}#sk-container-id-5 div.sk-parallel-item:only-child::after {width: 0;}#sk-container-id-5 div.sk-dashed-wrapped {border: 1px dashed gray;margin: 0 0.4em 0.5em 0.4em;box-sizing: border-box;padding-bottom: 0.4em;background-color: white;}#sk-container-id-5 div.sk-label label {font-family: monospace;font-weight: bold;display: inline-block;line-height: 1.2em;}#sk-container-id-5 div.sk-label-container {text-align: center;}#sk-container-id-5 div.sk-container {/* jupyter's `normalize.less` sets `[hidden] { display: none; }` but bootstrap.min.css set `[hidden] { display: none !important; }` so we also need the `!important` here to be able to override the default hidden behavior on the sphinx rendered scikit-learn.org. See: https://github.com/scikit-learn/scikit-learn/issues/21755 */display: inline-block !important;position: relative;}#sk-container-id-5 div.sk-text-repr-fallback {display: none;}</style><div id=\"sk-container-id-5\" class=\"sk-top-container\"><div class=\"sk-text-repr-fallback\"><pre>RandomForestRegressor()</pre><b>In a Jupyter environment, please rerun this cell to show the HTML representation or trust the notebook. <br />On GitHub, the HTML representation is unable to render, please try loading this page with nbviewer.org.</b></div><div class=\"sk-container\" hidden><div class=\"sk-item\"><div class=\"sk-estimator sk-toggleable\"><input class=\"sk-toggleable__control sk-hidden--visually\" id=\"sk-estimator-id-5\" type=\"checkbox\" checked><label for=\"sk-estimator-id-5\" class=\"sk-toggleable__label sk-toggleable__label-arrow\">RandomForestRegressor</label><div class=\"sk-toggleable__content\"><pre>RandomForestRegressor()</pre></div></div></div></div></div>"
      ],
      "text/plain": [
       "RandomForestRegressor()"
      ]
     },
     "execution_count": 340,
     "metadata": {},
     "output_type": "execute_result"
    }
   ],
   "source": [
    "from sklearn.ensemble import RandomForestRegressor\n",
    "rf = RandomForestRegressor()\n",
    "rf.fit(X_train, y_train)"
   ]
  },
  {
   "cell_type": "code",
   "execution_count": 334,
   "id": "5a859211-71fd-4615-a972-a2e1c46b4cdb",
   "metadata": {},
   "outputs": [],
   "source": [
    "y_pred = rf.predict(X_test)"
   ]
  },
  {
   "cell_type": "code",
   "execution_count": 342,
   "id": "c72dc034-773f-40ab-9b4f-19853a0d84bb",
   "metadata": {},
   "outputs": [
    {
     "name": "stdout",
     "output_type": "stream",
     "text": [
      "Mean Absolute Error (MAE): 37.76762603782824\n"
     ]
    }
   ],
   "source": [
    "from sklearn.metrics import mean_absolute_error\n",
    "mae = mean_absolute_error(y_test, y_pred)\n",
    "print(f\"Mean Absolute Error (MAE): {mae}\")\n"
   ]
  },
  {
   "cell_type": "code",
   "execution_count": 346,
   "id": "28b17afc-dea4-4a4b-8e4b-c71afd5395a3",
   "metadata": {},
   "outputs": [
    {
     "name": "stdout",
     "output_type": "stream",
     "text": [
      "R² Score: 0.3760351393473319\n"
     ]
    }
   ],
   "source": [
    "from sklearn.metrics import r2_score\n",
    "r2 = r2_score(y_test, y_pred)\n",
    "print(f\"R² Score: {r2}\")"
   ]
  },
  {
   "cell_type": "code",
   "execution_count": 344,
   "id": "2fd725d1-b9dd-4e2b-91b1-a31fb5484d96",
   "metadata": {},
   "outputs": [
    {
     "name": "stdout",
     "output_type": "stream",
     "text": [
      "Mean Squared Error (MSE): 39283.9409703653\n"
     ]
    }
   ],
   "source": [
    "from sklearn.metrics import mean_squared_error\n",
    "mse = mean_squared_error(y_test, y_pred)\n",
    "print(f\"Mean Squared Error (MSE): {mse}\")"
   ]
  },
  {
   "cell_type": "code",
   "execution_count": 348,
   "id": "7d526e82-284a-4540-905c-b7bc7b7202a7",
   "metadata": {},
   "outputs": [
    {
     "data": {
      "text/html": [
       "<style>#sk-container-id-6 {color: black;}#sk-container-id-6 pre{padding: 0;}#sk-container-id-6 div.sk-toggleable {background-color: white;}#sk-container-id-6 label.sk-toggleable__label {cursor: pointer;display: block;width: 100%;margin-bottom: 0;padding: 0.3em;box-sizing: border-box;text-align: center;}#sk-container-id-6 label.sk-toggleable__label-arrow:before {content: \"▸\";float: left;margin-right: 0.25em;color: #696969;}#sk-container-id-6 label.sk-toggleable__label-arrow:hover:before {color: black;}#sk-container-id-6 div.sk-estimator:hover label.sk-toggleable__label-arrow:before {color: black;}#sk-container-id-6 div.sk-toggleable__content {max-height: 0;max-width: 0;overflow: hidden;text-align: left;background-color: #f0f8ff;}#sk-container-id-6 div.sk-toggleable__content pre {margin: 0.2em;color: black;border-radius: 0.25em;background-color: #f0f8ff;}#sk-container-id-6 input.sk-toggleable__control:checked~div.sk-toggleable__content {max-height: 200px;max-width: 100%;overflow: auto;}#sk-container-id-6 input.sk-toggleable__control:checked~label.sk-toggleable__label-arrow:before {content: \"▾\";}#sk-container-id-6 div.sk-estimator input.sk-toggleable__control:checked~label.sk-toggleable__label {background-color: #d4ebff;}#sk-container-id-6 div.sk-label input.sk-toggleable__control:checked~label.sk-toggleable__label {background-color: #d4ebff;}#sk-container-id-6 input.sk-hidden--visually {border: 0;clip: rect(1px 1px 1px 1px);clip: rect(1px, 1px, 1px, 1px);height: 1px;margin: -1px;overflow: hidden;padding: 0;position: absolute;width: 1px;}#sk-container-id-6 div.sk-estimator {font-family: monospace;background-color: #f0f8ff;border: 1px dotted black;border-radius: 0.25em;box-sizing: border-box;margin-bottom: 0.5em;}#sk-container-id-6 div.sk-estimator:hover {background-color: #d4ebff;}#sk-container-id-6 div.sk-parallel-item::after {content: \"\";width: 100%;border-bottom: 1px solid gray;flex-grow: 1;}#sk-container-id-6 div.sk-label:hover label.sk-toggleable__label {background-color: #d4ebff;}#sk-container-id-6 div.sk-serial::before {content: \"\";position: absolute;border-left: 1px solid gray;box-sizing: border-box;top: 0;bottom: 0;left: 50%;z-index: 0;}#sk-container-id-6 div.sk-serial {display: flex;flex-direction: column;align-items: center;background-color: white;padding-right: 0.2em;padding-left: 0.2em;position: relative;}#sk-container-id-6 div.sk-item {position: relative;z-index: 1;}#sk-container-id-6 div.sk-parallel {display: flex;align-items: stretch;justify-content: center;background-color: white;position: relative;}#sk-container-id-6 div.sk-item::before, #sk-container-id-6 div.sk-parallel-item::before {content: \"\";position: absolute;border-left: 1px solid gray;box-sizing: border-box;top: 0;bottom: 0;left: 50%;z-index: -1;}#sk-container-id-6 div.sk-parallel-item {display: flex;flex-direction: column;z-index: 1;position: relative;background-color: white;}#sk-container-id-6 div.sk-parallel-item:first-child::after {align-self: flex-end;width: 50%;}#sk-container-id-6 div.sk-parallel-item:last-child::after {align-self: flex-start;width: 50%;}#sk-container-id-6 div.sk-parallel-item:only-child::after {width: 0;}#sk-container-id-6 div.sk-dashed-wrapped {border: 1px dashed gray;margin: 0 0.4em 0.5em 0.4em;box-sizing: border-box;padding-bottom: 0.4em;background-color: white;}#sk-container-id-6 div.sk-label label {font-family: monospace;font-weight: bold;display: inline-block;line-height: 1.2em;}#sk-container-id-6 div.sk-label-container {text-align: center;}#sk-container-id-6 div.sk-container {/* jupyter's `normalize.less` sets `[hidden] { display: none; }` but bootstrap.min.css set `[hidden] { display: none !important; }` so we also need the `!important` here to be able to override the default hidden behavior on the sphinx rendered scikit-learn.org. See: https://github.com/scikit-learn/scikit-learn/issues/21755 */display: inline-block !important;position: relative;}#sk-container-id-6 div.sk-text-repr-fallback {display: none;}</style><div id=\"sk-container-id-6\" class=\"sk-top-container\"><div class=\"sk-text-repr-fallback\"><pre>GradientBoostingRegressor()</pre><b>In a Jupyter environment, please rerun this cell to show the HTML representation or trust the notebook. <br />On GitHub, the HTML representation is unable to render, please try loading this page with nbviewer.org.</b></div><div class=\"sk-container\" hidden><div class=\"sk-item\"><div class=\"sk-estimator sk-toggleable\"><input class=\"sk-toggleable__control sk-hidden--visually\" id=\"sk-estimator-id-6\" type=\"checkbox\" checked><label for=\"sk-estimator-id-6\" class=\"sk-toggleable__label sk-toggleable__label-arrow\">GradientBoostingRegressor</label><div class=\"sk-toggleable__content\"><pre>GradientBoostingRegressor()</pre></div></div></div></div></div>"
      ],
      "text/plain": [
       "GradientBoostingRegressor()"
      ]
     },
     "execution_count": 348,
     "metadata": {},
     "output_type": "execute_result"
    }
   ],
   "source": [
    "from sklearn.ensemble import GradientBoostingRegressor\n",
    "gb = GradientBoostingRegressor()\n",
    "gb.fit(X_train, y_train)"
   ]
  },
  {
   "cell_type": "code",
   "execution_count": 350,
   "id": "bf66c39c-d844-4818-b68b-68e77d41f666",
   "metadata": {},
   "outputs": [],
   "source": [
    "y_pred_gb = gb.predict(X_test)"
   ]
  },
  {
   "cell_type": "code",
   "execution_count": 352,
   "id": "3e90df4c-e71c-429a-8811-8b5810ab5913",
   "metadata": {},
   "outputs": [
    {
     "name": "stdout",
     "output_type": "stream",
     "text": [
      "Gradient Boosting MAE: 46.715862093988214\n",
      "Gradient Boosting MSE: 41343.40098379092\n",
      "Gradient Boosting R² Score: 0.3433237909297623\n"
     ]
    }
   ],
   "source": [
    "from sklearn.metrics import mean_absolute_error, mean_squared_error, r2_score\n",
    "\n",
    "# MAE Hesapla\n",
    "mae_gb = mean_absolute_error(y_test, y_pred_gb)\n",
    "print(f\"Gradient Boosting MAE: {mae_gb}\")\n",
    "\n",
    "# MSE Hesapla\n",
    "mse_gb = mean_squared_error(y_test, y_pred_gb)\n",
    "print(f\"Gradient Boosting MSE: {mse_gb}\")\n",
    "\n",
    "# R² Score Hesapla\n",
    "r2_gb = r2_score(y_test, y_pred_gb)\n",
    "print(f\"Gradient Boosting R² Score: {r2_gb}\")"
   ]
  },
  {
   "cell_type": "code",
   "execution_count": 354,
   "id": "57821ca4-150f-4fa5-bfc3-fbe3d43534af",
   "metadata": {},
   "outputs": [],
   "source": [
    "from sklearn.model_selection import GridSearchCV\n",
    "\n",
    "param_grid = {\n",
    "    'n_estimators': [100, 200, 300],  # Ağaç sayısını artır\n",
    "    'learning_rate': [0.01, 0.1, 0.2],  # Öğrenme oranı\n",
    "    'max_depth': [3, 5, 7],  # Ağaç derinliği\n",
    "    'subsample': [0.8, 1.0]  # Verinin ne kadarını kullanacak\n",
    "}\n",
    "\n",
    "gb = GradientBoostingRegressor()\n",
    "grid_search = GridSearchCV(gb, param_grid, cv=3, scoring='neg_mean_squared_error', n_jobs=-1)\n",
    "grid_search.fit(X_train, y_train)\n",
    "\n",
    "best_model = grid_search.best_estimator_"
   ]
  },
  {
   "cell_type": "code",
   "execution_count": 356,
   "id": "7e7c40c3-406b-4194-8c97-dd4038343bd8",
   "metadata": {},
   "outputs": [
    {
     "name": "stdout",
     "output_type": "stream",
     "text": [
      "Tuned Gradient Boosting MAE: 37.8192674181828\n",
      "Tuned Gradient Boosting MSE: 39281.22534532891\n",
      "Tuned Gradient Boosting R² Score: 0.37607827286590356\n"
     ]
    }
   ],
   "source": [
    "y_pred_best_gb = best_model.predict(X_test)\n",
    "\n",
    "mae_best_gb = mean_absolute_error(y_test, y_pred_best_gb)\n",
    "mse_best_gb = mean_squared_error(y_test, y_pred_best_gb)\n",
    "r2_best_gb = r2_score(y_test, y_pred_best_gb)\n",
    "\n",
    "print(f\"Tuned Gradient Boosting MAE: {mae_best_gb}\")\n",
    "print(f\"Tuned Gradient Boosting MSE: {mse_best_gb}\")\n",
    "print(f\"Tuned Gradient Boosting R² Score: {r2_best_gb}\")"
   ]
  },
  {
   "cell_type": "code",
   "execution_count": 358,
   "id": "9db7be94-f86f-4d6c-9a48-625d9c2d9798",
   "metadata": {},
   "outputs": [
    {
     "data": {
      "text/html": [
       "<style>#sk-container-id-7 {color: black;}#sk-container-id-7 pre{padding: 0;}#sk-container-id-7 div.sk-toggleable {background-color: white;}#sk-container-id-7 label.sk-toggleable__label {cursor: pointer;display: block;width: 100%;margin-bottom: 0;padding: 0.3em;box-sizing: border-box;text-align: center;}#sk-container-id-7 label.sk-toggleable__label-arrow:before {content: \"▸\";float: left;margin-right: 0.25em;color: #696969;}#sk-container-id-7 label.sk-toggleable__label-arrow:hover:before {color: black;}#sk-container-id-7 div.sk-estimator:hover label.sk-toggleable__label-arrow:before {color: black;}#sk-container-id-7 div.sk-toggleable__content {max-height: 0;max-width: 0;overflow: hidden;text-align: left;background-color: #f0f8ff;}#sk-container-id-7 div.sk-toggleable__content pre {margin: 0.2em;color: black;border-radius: 0.25em;background-color: #f0f8ff;}#sk-container-id-7 input.sk-toggleable__control:checked~div.sk-toggleable__content {max-height: 200px;max-width: 100%;overflow: auto;}#sk-container-id-7 input.sk-toggleable__control:checked~label.sk-toggleable__label-arrow:before {content: \"▾\";}#sk-container-id-7 div.sk-estimator input.sk-toggleable__control:checked~label.sk-toggleable__label {background-color: #d4ebff;}#sk-container-id-7 div.sk-label input.sk-toggleable__control:checked~label.sk-toggleable__label {background-color: #d4ebff;}#sk-container-id-7 input.sk-hidden--visually {border: 0;clip: rect(1px 1px 1px 1px);clip: rect(1px, 1px, 1px, 1px);height: 1px;margin: -1px;overflow: hidden;padding: 0;position: absolute;width: 1px;}#sk-container-id-7 div.sk-estimator {font-family: monospace;background-color: #f0f8ff;border: 1px dotted black;border-radius: 0.25em;box-sizing: border-box;margin-bottom: 0.5em;}#sk-container-id-7 div.sk-estimator:hover {background-color: #d4ebff;}#sk-container-id-7 div.sk-parallel-item::after {content: \"\";width: 100%;border-bottom: 1px solid gray;flex-grow: 1;}#sk-container-id-7 div.sk-label:hover label.sk-toggleable__label {background-color: #d4ebff;}#sk-container-id-7 div.sk-serial::before {content: \"\";position: absolute;border-left: 1px solid gray;box-sizing: border-box;top: 0;bottom: 0;left: 50%;z-index: 0;}#sk-container-id-7 div.sk-serial {display: flex;flex-direction: column;align-items: center;background-color: white;padding-right: 0.2em;padding-left: 0.2em;position: relative;}#sk-container-id-7 div.sk-item {position: relative;z-index: 1;}#sk-container-id-7 div.sk-parallel {display: flex;align-items: stretch;justify-content: center;background-color: white;position: relative;}#sk-container-id-7 div.sk-item::before, #sk-container-id-7 div.sk-parallel-item::before {content: \"\";position: absolute;border-left: 1px solid gray;box-sizing: border-box;top: 0;bottom: 0;left: 50%;z-index: -1;}#sk-container-id-7 div.sk-parallel-item {display: flex;flex-direction: column;z-index: 1;position: relative;background-color: white;}#sk-container-id-7 div.sk-parallel-item:first-child::after {align-self: flex-end;width: 50%;}#sk-container-id-7 div.sk-parallel-item:last-child::after {align-self: flex-start;width: 50%;}#sk-container-id-7 div.sk-parallel-item:only-child::after {width: 0;}#sk-container-id-7 div.sk-dashed-wrapped {border: 1px dashed gray;margin: 0 0.4em 0.5em 0.4em;box-sizing: border-box;padding-bottom: 0.4em;background-color: white;}#sk-container-id-7 div.sk-label label {font-family: monospace;font-weight: bold;display: inline-block;line-height: 1.2em;}#sk-container-id-7 div.sk-label-container {text-align: center;}#sk-container-id-7 div.sk-container {/* jupyter's `normalize.less` sets `[hidden] { display: none; }` but bootstrap.min.css set `[hidden] { display: none !important; }` so we also need the `!important` here to be able to override the default hidden behavior on the sphinx rendered scikit-learn.org. See: https://github.com/scikit-learn/scikit-learn/issues/21755 */display: inline-block !important;position: relative;}#sk-container-id-7 div.sk-text-repr-fallback {display: none;}</style><div id=\"sk-container-id-7\" class=\"sk-top-container\"><div class=\"sk-text-repr-fallback\"><pre>GradientBoostingRegressor(learning_rate=0.05, max_depth=5, n_estimators=300)</pre><b>In a Jupyter environment, please rerun this cell to show the HTML representation or trust the notebook. <br />On GitHub, the HTML representation is unable to render, please try loading this page with nbviewer.org.</b></div><div class=\"sk-container\" hidden><div class=\"sk-item\"><div class=\"sk-estimator sk-toggleable\"><input class=\"sk-toggleable__control sk-hidden--visually\" id=\"sk-estimator-id-7\" type=\"checkbox\" checked><label for=\"sk-estimator-id-7\" class=\"sk-toggleable__label sk-toggleable__label-arrow\">GradientBoostingRegressor</label><div class=\"sk-toggleable__content\"><pre>GradientBoostingRegressor(learning_rate=0.05, max_depth=5, n_estimators=300)</pre></div></div></div></div></div>"
      ],
      "text/plain": [
       "GradientBoostingRegressor(learning_rate=0.05, max_depth=5, n_estimators=300)"
      ]
     },
     "execution_count": 358,
     "metadata": {},
     "output_type": "execute_result"
    }
   ],
   "source": [
    "gb = GradientBoostingRegressor(n_estimators=300, learning_rate=0.05, max_depth=5)\n",
    "gb.fit(X_train, y_train)"
   ]
  },
  {
   "cell_type": "code",
   "execution_count": 360,
   "id": "40dad3ee-adc8-4601-a4c6-38fea0ced905",
   "metadata": {},
   "outputs": [],
   "source": [
    "y_pred_gb2 = gb.predict(X_test)"
   ]
  },
  {
   "cell_type": "code",
   "execution_count": 362,
   "id": "a3a2842b-077d-4387-baf4-24b0af79f58e",
   "metadata": {},
   "outputs": [
    {
     "name": "stdout",
     "output_type": "stream",
     "text": [
      "Gradient Boosting MAE: 41.58747410479918\n",
      "Gradient Boosting MSE: 39797.3633121666\n",
      "Gradient Boosting R² Score: 0.3678802166984133\n"
     ]
    }
   ],
   "source": [
    "from sklearn.metrics import mean_absolute_error, mean_squared_error, r2_score\n",
    "\n",
    "# MAE Hesapla\n",
    "mae_gb = mean_absolute_error(y_test, y_pred_gb2)\n",
    "print(f\"Gradient Boosting MAE: {mae_gb}\")\n",
    "\n",
    "# MSE Hesapla\n",
    "mse_gb = mean_squared_error(y_test, y_pred_gb2)\n",
    "print(f\"Gradient Boosting MSE: {mse_gb}\")\n",
    "\n",
    "# R² Score Hesapla\n",
    "r2_gb = r2_score(y_test, y_pred_gb2)\n",
    "print(f\"Gradient Boosting R² Score: {r2_gb}\")"
   ]
  },
  {
   "cell_type": "code",
   "execution_count": 328,
   "id": "963bb871-99d5-4069-8a01-03c4d7505247",
   "metadata": {
    "scrolled": true
   },
   "outputs": [],
   "source": [
    "# !pip install xgboost"
   ]
  },
  {
   "cell_type": "code",
   "execution_count": 318,
   "id": "81c3925b-07f3-4e81-a2df-4aa6e16ffdd3",
   "metadata": {},
   "outputs": [
    {
     "data": {
      "text/html": [
       "<style>#sk-container-id-3 {color: black;}#sk-container-id-3 pre{padding: 0;}#sk-container-id-3 div.sk-toggleable {background-color: white;}#sk-container-id-3 label.sk-toggleable__label {cursor: pointer;display: block;width: 100%;margin-bottom: 0;padding: 0.3em;box-sizing: border-box;text-align: center;}#sk-container-id-3 label.sk-toggleable__label-arrow:before {content: \"▸\";float: left;margin-right: 0.25em;color: #696969;}#sk-container-id-3 label.sk-toggleable__label-arrow:hover:before {color: black;}#sk-container-id-3 div.sk-estimator:hover label.sk-toggleable__label-arrow:before {color: black;}#sk-container-id-3 div.sk-toggleable__content {max-height: 0;max-width: 0;overflow: hidden;text-align: left;background-color: #f0f8ff;}#sk-container-id-3 div.sk-toggleable__content pre {margin: 0.2em;color: black;border-radius: 0.25em;background-color: #f0f8ff;}#sk-container-id-3 input.sk-toggleable__control:checked~div.sk-toggleable__content {max-height: 200px;max-width: 100%;overflow: auto;}#sk-container-id-3 input.sk-toggleable__control:checked~label.sk-toggleable__label-arrow:before {content: \"▾\";}#sk-container-id-3 div.sk-estimator input.sk-toggleable__control:checked~label.sk-toggleable__label {background-color: #d4ebff;}#sk-container-id-3 div.sk-label input.sk-toggleable__control:checked~label.sk-toggleable__label {background-color: #d4ebff;}#sk-container-id-3 input.sk-hidden--visually {border: 0;clip: rect(1px 1px 1px 1px);clip: rect(1px, 1px, 1px, 1px);height: 1px;margin: -1px;overflow: hidden;padding: 0;position: absolute;width: 1px;}#sk-container-id-3 div.sk-estimator {font-family: monospace;background-color: #f0f8ff;border: 1px dotted black;border-radius: 0.25em;box-sizing: border-box;margin-bottom: 0.5em;}#sk-container-id-3 div.sk-estimator:hover {background-color: #d4ebff;}#sk-container-id-3 div.sk-parallel-item::after {content: \"\";width: 100%;border-bottom: 1px solid gray;flex-grow: 1;}#sk-container-id-3 div.sk-label:hover label.sk-toggleable__label {background-color: #d4ebff;}#sk-container-id-3 div.sk-serial::before {content: \"\";position: absolute;border-left: 1px solid gray;box-sizing: border-box;top: 0;bottom: 0;left: 50%;z-index: 0;}#sk-container-id-3 div.sk-serial {display: flex;flex-direction: column;align-items: center;background-color: white;padding-right: 0.2em;padding-left: 0.2em;position: relative;}#sk-container-id-3 div.sk-item {position: relative;z-index: 1;}#sk-container-id-3 div.sk-parallel {display: flex;align-items: stretch;justify-content: center;background-color: white;position: relative;}#sk-container-id-3 div.sk-item::before, #sk-container-id-3 div.sk-parallel-item::before {content: \"\";position: absolute;border-left: 1px solid gray;box-sizing: border-box;top: 0;bottom: 0;left: 50%;z-index: -1;}#sk-container-id-3 div.sk-parallel-item {display: flex;flex-direction: column;z-index: 1;position: relative;background-color: white;}#sk-container-id-3 div.sk-parallel-item:first-child::after {align-self: flex-end;width: 50%;}#sk-container-id-3 div.sk-parallel-item:last-child::after {align-self: flex-start;width: 50%;}#sk-container-id-3 div.sk-parallel-item:only-child::after {width: 0;}#sk-container-id-3 div.sk-dashed-wrapped {border: 1px dashed gray;margin: 0 0.4em 0.5em 0.4em;box-sizing: border-box;padding-bottom: 0.4em;background-color: white;}#sk-container-id-3 div.sk-label label {font-family: monospace;font-weight: bold;display: inline-block;line-height: 1.2em;}#sk-container-id-3 div.sk-label-container {text-align: center;}#sk-container-id-3 div.sk-container {/* jupyter's `normalize.less` sets `[hidden] { display: none; }` but bootstrap.min.css set `[hidden] { display: none !important; }` so we also need the `!important` here to be able to override the default hidden behavior on the sphinx rendered scikit-learn.org. See: https://github.com/scikit-learn/scikit-learn/issues/21755 */display: inline-block !important;position: relative;}#sk-container-id-3 div.sk-text-repr-fallback {display: none;}</style><div id=\"sk-container-id-3\" class=\"sk-top-container\"><div class=\"sk-text-repr-fallback\"><pre>XGBRegressor(base_score=None, booster=None, callbacks=None,\n",
       "             colsample_bylevel=None, colsample_bynode=None,\n",
       "             colsample_bytree=None, device=None, early_stopping_rounds=None,\n",
       "             enable_categorical=False, eval_metric=None, feature_types=None,\n",
       "             gamma=None, grow_policy=None, importance_type=None,\n",
       "             interaction_constraints=None, learning_rate=None, max_bin=None,\n",
       "             max_cat_threshold=None, max_cat_to_onehot=None,\n",
       "             max_delta_step=None, max_depth=None, max_leaves=None,\n",
       "             min_child_weight=None, missing=nan, monotone_constraints=None,\n",
       "             multi_strategy=None, n_estimators=None, n_jobs=None,\n",
       "             num_parallel_tree=None, random_state=None, ...)</pre><b>In a Jupyter environment, please rerun this cell to show the HTML representation or trust the notebook. <br />On GitHub, the HTML representation is unable to render, please try loading this page with nbviewer.org.</b></div><div class=\"sk-container\" hidden><div class=\"sk-item\"><div class=\"sk-estimator sk-toggleable\"><input class=\"sk-toggleable__control sk-hidden--visually\" id=\"sk-estimator-id-3\" type=\"checkbox\" checked><label for=\"sk-estimator-id-3\" class=\"sk-toggleable__label sk-toggleable__label-arrow\">XGBRegressor</label><div class=\"sk-toggleable__content\"><pre>XGBRegressor(base_score=None, booster=None, callbacks=None,\n",
       "             colsample_bylevel=None, colsample_bynode=None,\n",
       "             colsample_bytree=None, device=None, early_stopping_rounds=None,\n",
       "             enable_categorical=False, eval_metric=None, feature_types=None,\n",
       "             gamma=None, grow_policy=None, importance_type=None,\n",
       "             interaction_constraints=None, learning_rate=None, max_bin=None,\n",
       "             max_cat_threshold=None, max_cat_to_onehot=None,\n",
       "             max_delta_step=None, max_depth=None, max_leaves=None,\n",
       "             min_child_weight=None, missing=nan, monotone_constraints=None,\n",
       "             multi_strategy=None, n_estimators=None, n_jobs=None,\n",
       "             num_parallel_tree=None, random_state=None, ...)</pre></div></div></div></div></div>"
      ],
      "text/plain": [
       "XGBRegressor(base_score=None, booster=None, callbacks=None,\n",
       "             colsample_bylevel=None, colsample_bynode=None,\n",
       "             colsample_bytree=None, device=None, early_stopping_rounds=None,\n",
       "             enable_categorical=False, eval_metric=None, feature_types=None,\n",
       "             gamma=None, grow_policy=None, importance_type=None,\n",
       "             interaction_constraints=None, learning_rate=None, max_bin=None,\n",
       "             max_cat_threshold=None, max_cat_to_onehot=None,\n",
       "             max_delta_step=None, max_depth=None, max_leaves=None,\n",
       "             min_child_weight=None, missing=nan, monotone_constraints=None,\n",
       "             multi_strategy=None, n_estimators=None, n_jobs=None,\n",
       "             num_parallel_tree=None, random_state=None, ...)"
      ]
     },
     "execution_count": 318,
     "metadata": {},
     "output_type": "execute_result"
    }
   ],
   "source": [
    "import xgboost as xgb\n",
    "xgb_model = xgb.XGBRegressor()\n",
    "xgb_model.fit(X_train, y_train)"
   ]
  },
  {
   "cell_type": "code",
   "execution_count": 324,
   "id": "b424c53d-62cb-452f-9c54-b937983f32ff",
   "metadata": {},
   "outputs": [
    {
     "name": "stderr",
     "output_type": "stream",
     "text": [
      "D:\\Anaconda\\Lib\\site-packages\\sklearn\\model_selection\\_validation.py:425: FitFailedWarning: \n",
      "72 fits failed out of a total of 216.\n",
      "The score on these train-test partitions for these parameters will be set to nan.\n",
      "If these failures are not expected, you can try to debug them by setting error_score='raise'.\n",
      "\n",
      "Below are more details about the failures:\n",
      "--------------------------------------------------------------------------------\n",
      "72 fits failed with the following error:\n",
      "Traceback (most recent call last):\n",
      "  File \"D:\\Anaconda\\Lib\\site-packages\\sklearn\\model_selection\\_validation.py\", line 732, in _fit_and_score\n",
      "    estimator.fit(X_train, y_train, **fit_params)\n",
      "  File \"D:\\Anaconda\\Lib\\site-packages\\sklearn\\base.py\", line 1144, in wrapper\n",
      "    estimator._validate_params()\n",
      "  File \"D:\\Anaconda\\Lib\\site-packages\\sklearn\\base.py\", line 637, in _validate_params\n",
      "    validate_parameter_constraints(\n",
      "  File \"D:\\Anaconda\\Lib\\site-packages\\sklearn\\utils\\_param_validation.py\", line 95, in validate_parameter_constraints\n",
      "    raise InvalidParameterError(\n",
      "sklearn.utils._param_validation.InvalidParameterError: The 'max_features' parameter of RandomForestRegressor must be an int in the range [1, inf), a float in the range (0.0, 1.0], a str among {'sqrt', 'log2'} or None. Got 'auto' instead.\n",
      "\n",
      "  warnings.warn(some_fits_failed_message, FitFailedWarning)\n",
      "D:\\Anaconda\\Lib\\site-packages\\sklearn\\model_selection\\_search.py:976: UserWarning: One or more of the test scores are non-finite: [       nan        nan        nan        nan        nan        nan\n",
      "        nan        nan 0.12945094 0.1332058  0.11541949 0.12798727\n",
      " 0.13054328 0.12867403 0.14448071 0.13343376 0.12619149 0.11922313\n",
      " 0.13054534 0.13393897 0.12706173 0.13317131 0.11927391 0.12707682\n",
      "        nan        nan        nan        nan        nan        nan\n",
      "        nan        nan 0.30345043 0.30342842 0.30263107 0.30166181\n",
      " 0.30195617 0.30213981 0.30259309 0.30185725 0.30009058 0.30223703\n",
      " 0.3038012  0.30387647 0.3009108  0.3022822  0.30171577 0.30165559\n",
      "        nan        nan        nan        nan        nan        nan\n",
      "        nan        nan 0.32060998 0.32003571 0.32074599 0.320719\n",
      " 0.32016981 0.3205578  0.32173996 0.32057253 0.32018173 0.32019838\n",
      " 0.32043263 0.32003636 0.32000624 0.32040088 0.32002369 0.32048544]\n",
      "  warnings.warn(\n"
     ]
    },
    {
     "name": "stdout",
     "output_type": "stream",
     "text": [
      "Best parameters:  {'max_depth': 7, 'max_features': 'sqrt', 'min_samples_leaf': 2, 'min_samples_split': 5, 'n_estimators': 100}\n"
     ]
    }
   ],
   "source": [
    "from sklearn.ensemble import RandomForestRegressor\n",
    "from sklearn.model_selection import GridSearchCV\n",
    "\n",
    "# Parametre ızgarası\n",
    "param_grid = {\n",
    "    'n_estimators': [100, 200],  # Ağaç sayısı\n",
    "    'max_depth': [3, 5, 7],       # Maksimum derinlik\n",
    "    'min_samples_split': [2, 5],  # Her bir düğümde en az kaç örnek olmalı\n",
    "    'min_samples_leaf': [1, 2],   # Yaprak düğümlerinde en az kaç örnek olmalı\n",
    "    'max_features': ['auto', 'sqrt', 'log2']  # Özellik sayısı\n",
    "}\n",
    "\n",
    "# GridSearchCV ile parametre optimizasyonu\n",
    "grid_search = GridSearchCV(estimator=RandomForestRegressor(), param_grid=param_grid, cv=3)\n",
    "grid_search.fit(X_train, y_train)\n",
    "\n",
    "# En iyi parametreleri yazdırma\n",
    "print(\"Best parameters: \", grid_search.best_params_)"
   ]
  },
  {
   "cell_type": "code",
   "execution_count": 322,
   "id": "79da06d4-fe75-4afd-bc4b-d90af64e2110",
   "metadata": {},
   "outputs": [
    {
     "name": "stdout",
     "output_type": "stream",
     "text": [
      "Cross-validation scores:  [  -9486.39123156 -292877.94793547 -100417.01470603  -10303.56833324\n",
      "  -31440.52412734]\n"
     ]
    }
   ],
   "source": [
    "from sklearn.model_selection import cross_val_score\n",
    "\n",
    "scores = cross_val_score(RandomForestRegressor(), X, y, cv=5, scoring='neg_mean_squared_error')\n",
    "print(\"Cross-validation scores: \", scores)\n"
   ]
  },
  {
   "cell_type": "code",
   "execution_count": 325,
   "id": "016c56ed-034e-4b5c-90d8-da19582d51b5",
   "metadata": {},
   "outputs": [
    {
     "name": "stdout",
     "output_type": "stream",
     "text": [
      "Mean Squared Error: 39283.9409703653\n"
     ]
    }
   ],
   "source": [
    "from sklearn.metrics import mean_squared_error\n",
    "\n",
    "y_pred = rf.predict(X_test)\n",
    "mse = mean_squared_error(y_test, y_pred)\n",
    "print(f'Mean Squared Error: {mse}')\n"
   ]
  },
  {
   "cell_type": "code",
   "execution_count": null,
   "id": "c6fb3b6f-7167-463f-9a82-9a863ccbc286",
   "metadata": {},
   "outputs": [],
   "source": []
  }
 ],
 "metadata": {
  "kernelspec": {
   "display_name": "Python [conda env:base] *",
   "language": "python",
   "name": "conda-base-py"
  },
  "language_info": {
   "codemirror_mode": {
    "name": "ipython",
    "version": 3
   },
   "file_extension": ".py",
   "mimetype": "text/x-python",
   "name": "python",
   "nbconvert_exporter": "python",
   "pygments_lexer": "ipython3",
   "version": "3.11.5"
  }
 },
 "nbformat": 4,
 "nbformat_minor": 5
}
